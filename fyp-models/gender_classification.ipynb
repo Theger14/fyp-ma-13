{
 "cells": [
  {
   "cell_type": "code",
   "execution_count": 3,
   "id": "1cbd4b4a",
   "metadata": {},
   "outputs": [],
   "source": [
    "# %pip install opencv-python\n",
    "# %pip install matplotlib"
   ]
  },
  {
   "cell_type": "code",
   "execution_count": 1,
   "id": "5a6b0e46",
   "metadata": {},
   "outputs": [],
   "source": [
    "import tensorflow as tf\n",
    "import numpy as np\n",
    "import pandas as pd\n",
    "from tensorflow import keras\n",
    "import os\n",
    "import cv2\n",
    "import math\n",
    "from tensorflow.keras.preprocessing.image import ImageDataGenerator\n",
    "from tensorflow.keras.preprocessing import image\n",
    "from keras.preprocessing.image import ImageDataGenerator\n",
    "from keras.callbacks import EarlyStopping, ModelCheckpoint\n",
    "import matplotlib.pyplot as plt\n",
    "from keras.models import Sequential\n",
    "from keras.layers import Dense, Conv2D , MaxPool2D , Flatten , Dropout \n",
    "import seaborn as sns\n",
    "from keras.optimizers import Adam\n",
    "from sklearn.metrics import classification_report, confusion_matrix\n",
    "from sklearn.metrics import roc_curve, auc"
   ]
  },
  {
   "cell_type": "code",
   "execution_count": 2,
   "id": "8ed21e40",
   "metadata": {},
   "outputs": [],
   "source": [
    "epochs = 4\n",
    "batch_size = 32\n",
    "img_size = 224"
   ]
  },
  {
   "cell_type": "raw",
   "id": "b10890fe",
   "metadata": {},
   "source": [
    "preprocessing\n",
    "├── train_data\n",
    "│   └── female\n",
    "│   └── male\n",
    "└── val_data\n",
    "    └── female\n",
    "    └── male"
   ]
  },
  {
   "cell_type": "code",
   "execution_count": 3,
   "id": "ac8eceb5",
   "metadata": {},
   "outputs": [],
   "source": [
    "labels = ['female', 'male']\n",
    "\n",
    "def get_data(data_dir):\n",
    "    data = [] \n",
    "    for label in labels: \n",
    "        path = os.path.join(data_dir, label)\n",
    "        class_num = labels.index(label)\n",
    "        for img in os.listdir(path):\n",
    "            try:\n",
    "                img_arr = cv2.imread(os.path.join(path, img))[...,::-1] #convert BGR to RGB format\n",
    "                resized_arr = cv2.resize(img_arr, (img_size, img_size)) # Reshaping images to preferred size\n",
    "                data.append([resized_arr, class_num])\n",
    "            except Exception as e:\n",
    "                print(e)\n",
    "    return np.array(data)"
   ]
  },
  {
   "cell_type": "markdown",
   "id": "d4b3b002",
   "metadata": {},
   "source": [
    "# Without Pertubations"
   ]
  },
  {
   "cell_type": "code",
   "execution_count": 6,
   "id": "f709120f",
   "metadata": {},
   "outputs": [
    {
     "name": "stdout",
     "output_type": "stream",
     "text": [
      "'NoneType' object is not subscriptable\n",
      "'NoneType' object is not subscriptable\n"
     ]
    }
   ],
   "source": [
    "train = get_data('preprocessing/train_data')\n",
    "val = get_data('preprocessing/val_data')"
   ]
  },
  {
   "cell_type": "code",
   "execution_count": 18,
   "id": "3786bf2b",
   "metadata": {},
   "outputs": [],
   "source": [
    "x_train = []\n",
    "y_train = []\n",
    "x_val = []\n",
    "y_val = []\n",
    "\n",
    "for feature, label in train:\n",
    "    x_train.append(feature)\n",
    "    y_train.append(label)\n",
    "\n",
    "for feature, label in val:\n",
    "    x_val.append(feature)\n",
    "    y_val.append(label)\n",
    "\n",
    "# Normalize the data\n",
    "x_train = np.array(x_train) / 255\n",
    "x_val = np.array(x_val) / 255\n",
    "\n",
    "x_train.reshape(-1, img_size, img_size, 1)\n",
    "y_train = np.array(y_train)\n",
    "\n",
    "x_val.reshape(-1, img_size, img_size, 1)\n",
    "y_val = np.array(y_val)"
   ]
  },
  {
   "cell_type": "code",
   "execution_count": 19,
   "id": "367ef83b",
   "metadata": {},
   "outputs": [
    {
     "name": "stdout",
     "output_type": "stream",
     "text": [
      "Model: \"sequential_1\"\n",
      "_________________________________________________________________\n",
      "Layer (type)                 Output Shape              Param #   \n",
      "=================================================================\n",
      "conv2d_2 (Conv2D)            (None, 74, 74, 32)        896       \n",
      "_________________________________________________________________\n",
      "max_pooling2d_2 (MaxPooling2 (None, 37, 37, 32)        0         \n",
      "_________________________________________________________________\n",
      "conv2d_3 (Conv2D)            (None, 13, 13, 32)        9248      \n",
      "_________________________________________________________________\n",
      "max_pooling2d_3 (MaxPooling2 (None, 6, 6, 32)          0         \n",
      "_________________________________________________________________\n",
      "dropout_1 (Dropout)          (None, 6, 6, 32)          0         \n",
      "_________________________________________________________________\n",
      "flatten_1 (Flatten)          (None, 1152)              0         \n",
      "_________________________________________________________________\n",
      "dense_2 (Dense)              (None, 128)               147584    \n",
      "_________________________________________________________________\n",
      "dense_3 (Dense)              (None, 2)                 258       \n",
      "=================================================================\n",
      "Total params: 157,986\n",
      "Trainable params: 157,986\n",
      "Non-trainable params: 0\n",
      "_________________________________________________________________\n",
      "Epoch 1/4\n",
      "19/19 [==============================] - ETA: 0s - loss: 0.6942 - accuracy: 0.5066\n",
      "Epoch 00001: loss improved from inf to 0.69420, saving model to model_best_weights.h5\n",
      "19/19 [==============================] - 3s 144ms/step - loss: 0.6942 - accuracy: 0.5066 - val_loss: 0.6960 - val_accuracy: 0.4794\n",
      "Epoch 2/4\n",
      "19/19 [==============================] - ETA: 0s - loss: 0.6964 - accuracy: 0.4967\n",
      "Epoch 00002: loss did not improve from 0.69420\n",
      "19/19 [==============================] - 2s 105ms/step - loss: 0.6964 - accuracy: 0.4967 - val_loss: 0.6960 - val_accuracy: 0.4794\n",
      "Epoch 3/4\n",
      "19/19 [==============================] - ETA: 0s - loss: 0.6986 - accuracy: 0.4585\n",
      "Epoch 00003: loss did not improve from 0.69420\n",
      "19/19 [==============================] - 2s 114ms/step - loss: 0.6986 - accuracy: 0.4585 - val_loss: 0.6959 - val_accuracy: 0.4794\n",
      "Epoch 4/4\n",
      "19/19 [==============================] - ETA: 0s - loss: 0.6975 - accuracy: 0.4867\n",
      "Epoch 00004: loss did not improve from 0.69420\n",
      "19/19 [==============================] - 2s 107ms/step - loss: 0.6975 - accuracy: 0.4867 - val_loss: 0.6959 - val_accuracy: 0.4811\n",
      "Epoch 00004: early stopping\n"
     ]
    }
   ],
   "source": [
    "model = Sequential()\n",
    "\n",
    "model.add(Conv2D(32, 3, 3, activation=\"relu\", input_shape=(224,224,3)))\n",
    "model.add(MaxPool2D())\n",
    "\n",
    "model.add(Conv2D(32, 3, 3, padding=\"same\", activation=\"relu\"))\n",
    "model.add(MaxPool2D())\n",
    "model.add(Dropout(0.4))\n",
    "\n",
    "model.add(Flatten())\n",
    "model.add(Dense(128,activation=\"relu\"))\n",
    "model.add(Dense(2, activation=\"softmax\"))\n",
    "\n",
    "model.summary()\n",
    "#-----------------------------------------------------------------\n",
    "opt = Adam(lr=0.000001)\n",
    "model.compile(optimizer = opt , \n",
    "              loss = tf.keras.losses.SparseCategoricalCrossentropy(from_logits=True), \n",
    "              metrics = ['accuracy'])\n",
    "#------------------------------------------------------------------\n",
    "early_stop = EarlyStopping(monitor='loss', min_delta=0.001, patience=3, mode='min', verbose=1)\n",
    "checkpoint = ModelCheckpoint('model_best_weights.h5', monitor='loss', verbose=1, # Saves checkpoints\n",
    "                             save_best_only=True, mode='min', save_freq='epoch')\n",
    "\n",
    "history = model.fit(x_train,y_train,epochs = epochs , \n",
    "                    validation_data = (x_val, y_val), \n",
    "                    callbacks = [early_stop,checkpoint])"
   ]
  },
  {
   "cell_type": "markdown",
   "id": "bae3324f",
   "metadata": {},
   "source": [
    "# With Pertubations"
   ]
  },
  {
   "cell_type": "code",
   "execution_count": 4,
   "id": "12abfbe1",
   "metadata": {},
   "outputs": [
    {
     "name": "stdout",
     "output_type": "stream",
     "text": [
      "'NoneType' object is not subscriptable\n",
      "'NoneType' object is not subscriptable\n"
     ]
    }
   ],
   "source": [
    "train_pert = get_data('preprocessing/makeup')"
   ]
  },
  {
   "cell_type": "code",
   "execution_count": 7,
   "id": "848a59db",
   "metadata": {},
   "outputs": [],
   "source": [
    "x_train = []\n",
    "y_train = []\n",
    "x_val = []\n",
    "y_val = []\n",
    "\n",
    "for feature, label in train_pert:\n",
    "    x_train.append(feature)\n",
    "    y_train.append(label)\n",
    "\n",
    "for feature, label in val:\n",
    "    x_val.append(feature)\n",
    "    y_val.append(label)\n",
    "\n",
    "# Normalize the data\n",
    "x_train = np.array(x_train) / 255\n",
    "x_val = np.array(x_val) / 255\n",
    "\n",
    "x_train.reshape(-1, img_size, img_size, 1)\n",
    "y_train = np.array(y_train)\n",
    "\n",
    "x_val.reshape(-1, img_size, img_size, 1)\n",
    "y_val = np.array(y_val)"
   ]
  },
  {
   "cell_type": "code",
   "execution_count": 8,
   "id": "1ccc2501",
   "metadata": {},
   "outputs": [
    {
     "name": "stdout",
     "output_type": "stream",
     "text": [
      "Model: \"sequential\"\n",
      "_________________________________________________________________\n",
      "Layer (type)                 Output Shape              Param #   \n",
      "=================================================================\n",
      "conv2d (Conv2D)              (None, 74, 74, 32)        896       \n",
      "_________________________________________________________________\n",
      "max_pooling2d (MaxPooling2D) (None, 37, 37, 32)        0         \n",
      "_________________________________________________________________\n",
      "conv2d_1 (Conv2D)            (None, 13, 13, 32)        9248      \n",
      "_________________________________________________________________\n",
      "max_pooling2d_1 (MaxPooling2 (None, 6, 6, 32)          0         \n",
      "_________________________________________________________________\n",
      "dropout (Dropout)            (None, 6, 6, 32)          0         \n",
      "_________________________________________________________________\n",
      "flatten (Flatten)            (None, 1152)              0         \n",
      "_________________________________________________________________\n",
      "dense (Dense)                (None, 128)               147584    \n",
      "_________________________________________________________________\n",
      "dense_1 (Dense)              (None, 2)                 258       \n",
      "=================================================================\n",
      "Total params: 157,986\n",
      "Trainable params: 157,986\n",
      "Non-trainable params: 0\n",
      "_________________________________________________________________\n",
      "Epoch 1/4\n",
      "14/14 [==============================] - ETA: 0s - loss: 0.6910 - accuracy: 0.5386\n",
      "Epoch 00001: loss improved from inf to 0.69098, saving model to model_best_weights_pert.h5\n",
      "14/14 [==============================] - 2s 175ms/step - loss: 0.6910 - accuracy: 0.5386 - val_loss: 0.6911 - val_accuracy: 0.5137\n",
      "Epoch 2/4\n",
      "14/14 [==============================] - ETA: 0s - loss: 0.6885 - accuracy: 0.5409\n",
      "Epoch 00002: loss improved from 0.69098 to 0.68852, saving model to model_best_weights_pert.h5\n",
      "14/14 [==============================] - 2s 124ms/step - loss: 0.6885 - accuracy: 0.5409 - val_loss: 0.6911 - val_accuracy: 0.5137\n",
      "Epoch 3/4\n",
      "14/14 [==============================] - ETA: 0s - loss: 0.6900 - accuracy: 0.5250\n",
      "Epoch 00003: loss did not improve from 0.68852\n",
      "14/14 [==============================] - 2s 113ms/step - loss: 0.6900 - accuracy: 0.5250 - val_loss: 0.6911 - val_accuracy: 0.5137\n",
      "Epoch 4/4\n",
      "14/14 [==============================] - ETA: 0s - loss: 0.6904 - accuracy: 0.5386\n",
      "Epoch 00004: loss did not improve from 0.68852\n",
      "14/14 [==============================] - 2s 120ms/step - loss: 0.6904 - accuracy: 0.5386 - val_loss: 0.6911 - val_accuracy: 0.5137\n"
     ]
    }
   ],
   "source": [
    "model = Sequential()\n",
    "\n",
    "model.add(Conv2D(32, 3, 3, activation=\"relu\", input_shape=(224,224,3)))\n",
    "model.add(MaxPool2D())\n",
    "\n",
    "model.add(Conv2D(32, 3, 3, padding=\"same\", activation=\"relu\"))\n",
    "model.add(MaxPool2D())\n",
    "model.add(Dropout(0.4))\n",
    "\n",
    "model.add(Flatten())\n",
    "model.add(Dense(128,activation=\"relu\"))\n",
    "model.add(Dense(2, activation=\"softmax\"))\n",
    "\n",
    "model.summary()\n",
    "#-----------------------------------------------------------------\n",
    "opt = Adam(lr=0.000001)\n",
    "model.compile(optimizer = opt , \n",
    "              loss = tf.keras.losses.SparseCategoricalCrossentropy(from_logits=True), \n",
    "              metrics = ['accuracy'])\n",
    "#------------------------------------------------------------------\n",
    "early_stop = EarlyStopping(monitor='loss', min_delta=0.001, patience=3, mode='min', verbose=1)\n",
    "checkpoint = ModelCheckpoint('model_best_weights_pert.h5', monitor='loss', verbose=1, # Saves checkpoints\n",
    "                             save_best_only=True, mode='min', save_freq='epoch')\n",
    "\n",
    "history_pert = model.fit(x_train,y_train,epochs = epochs , \n",
    "                    validation_data = (x_val, y_val), \n",
    "                    callbacks = [early_stop,checkpoint])"
   ]
  },
  {
   "cell_type": "markdown",
   "id": "1da7f110",
   "metadata": {},
   "source": [
    "# Model Evaluation"
   ]
  },
  {
   "cell_type": "markdown",
   "id": "4f5fc70b",
   "metadata": {},
   "source": [
    "## Without Pertubation"
   ]
  },
  {
   "cell_type": "markdown",
   "id": "246a349a",
   "metadata": {},
   "source": [
    "### Accuracy and Loss"
   ]
  },
  {
   "cell_type": "code",
   "execution_count": 20,
   "id": "e67e8f98",
   "metadata": {},
   "outputs": [
    {
     "data": {
      "image/png": "[encoded data removed]",
      "text/plain": [
       "<Figure size 1080x1080 with 2 Axes>"
      ]
     },
     "metadata": {},
     "output_type": "display_data"
    }
   ],
   "source": [
    "acc = history.history['accuracy']\n",
    "val_acc = history.history['val_accuracy']\n",
    "loss = history.history['loss']\n",
    "val_loss = history.history['val_loss']\n",
    "\n",
    "epochs_range = range(epochs)\n",
    "\n",
    "plt.figure(figsize=(15, 15))\n",
    "plt.subplot(2, 2, 1)\n",
    "plt.plot(epochs_range, acc, label='Training Accuracy')\n",
    "plt.plot(epochs_range, val_acc, label='Validation Accuracy')\n",
    "plt.legend(loc='lower right')\n",
    "plt.title('Training and Validation Accuracy')\n",
    "\n",
    "plt.subplot(2, 2, 2)\n",
    "plt.plot(epochs_range, loss, label='Training Loss')\n",
    "plt.plot(epochs_range, val_loss, label='Validation Loss')\n",
    "plt.legend(loc='upper right')\n",
    "plt.title('Training and Validation Loss')\n",
    "plt.show()"
   ]
  },
  {
   "cell_type": "markdown",
   "id": "02bff857",
   "metadata": {},
   "source": [
    "### Confusion Matrix"
   ]
  },
  {
   "cell_type": "code",
   "execution_count": 21,
   "id": "dc40392c",
   "metadata": {},
   "outputs": [],
   "source": [
    "num_of_train_samples = 602\n",
    "num_of_test_samples = 582"
   ]
  },
  {
   "cell_type": "code",
   "execution_count": 22,
   "id": "14abdb91",
   "metadata": {},
   "outputs": [],
   "source": [
    "test_datagen = ImageDataGenerator(rescale = 1./255)"
   ]
  },
  {
   "cell_type": "code",
   "execution_count": 23,
   "id": "7130046f",
   "metadata": {},
   "outputs": [
    {
     "name": "stdout",
     "output_type": "stream",
     "text": [
      "Found 587 images belonging to 2 classes.\n"
     ]
    }
   ],
   "source": [
    "validation_generator = test_datagen.flow_from_directory(\"preprocessing/val_data\",\n",
    "                                                        target_size=(224, 224),\n",
    "                                                        batch_size=batch_size,\n",
    "                                                        class_mode='categorical')"
   ]
  },
  {
   "cell_type": "code",
   "execution_count": 24,
   "id": "7b85cba7",
   "metadata": {},
   "outputs": [
    {
     "name": "stdout",
     "output_type": "stream",
     "text": [
      "Confusion Matrix\n",
      "[[  3 302]\n",
      " [  7 275]]\n"
     ]
    },
    {
     "data": {
      "image/png": "[encoded data removed]",
      "text/plain": [
       "<Figure size 432x288 with 2 Axes>"
      ]
     },
     "metadata": {},
     "output_type": "display_data"
    }
   ],
   "source": [
    "Y_pred = model.predict_generator(validation_generator, num_of_test_samples // batch_size+1)\n",
    "y_pred = np.argmax(Y_pred, axis=1)\n",
    "print('Confusion Matrix')\n",
    "confusion_matrix_array = confusion_matrix(validation_generator.classes, y_pred)\n",
    "print(confusion_matrix_array)\n",
    "df_cm = pd.DataFrame(confusion_matrix_array, range(2), range(2))\n",
    "# plt.figure(figsize=(10,7))\n",
    "sns.set(font_scale=1.4) # for label size\n",
    "sns.heatmap(df_cm, annot=True, annot_kws={\"size\": 12}) # font size\n",
    "plt.show()"
   ]
  },
  {
   "cell_type": "markdown",
   "id": "1145ad7e",
   "metadata": {},
   "source": [
    "### Classification Report"
   ]
  },
  {
   "cell_type": "code",
   "execution_count": 25,
   "id": "8e714acd",
   "metadata": {},
   "outputs": [
    {
     "name": "stdout",
     "output_type": "stream",
     "text": [
      "                  precision    recall  f1-score   support\n",
      "\n",
      "Female (Class 0)       0.30      0.01      0.02       305\n",
      "  Male (Class 1)       0.48      0.98      0.64       282\n",
      "\n",
      "        accuracy                           0.47       587\n",
      "       macro avg       0.39      0.49      0.33       587\n",
      "    weighted avg       0.38      0.47      0.32       587\n",
      "\n"
     ]
    }
   ],
   "source": [
    "predictions = model.predict_classes(x_val)\n",
    "predictions = predictions.reshape(1,-1)[0]\n",
    "\n",
    "target_names = ['Female (Class 0)','Male (Class 1)']\n",
    "print(classification_report(validation_generator.classes, y_pred, target_names=target_names, zero_division=1))"
   ]
  },
  {
   "cell_type": "markdown",
   "id": "40432117",
   "metadata": {},
   "source": [
    "## With Pertubation"
   ]
  },
  {
   "cell_type": "markdown",
   "id": "eb56d23d",
   "metadata": {},
   "source": [
    "### Accuracy and Loss"
   ]
  },
  {
   "cell_type": "code",
   "execution_count": 9,
   "id": "09ca6e04",
   "metadata": {},
   "outputs": [
    {
     "data": {
      "image/png": "[encoded data removed]",
      "text/plain": [
       "<Figure size 1080x1080 with 2 Axes>"
      ]
     },
     "metadata": {
      "needs_background": "light"
     },
     "output_type": "display_data"
    }
   ],
   "source": [
    "acc = history_pert.history['accuracy']\n",
    "val_acc = history_pert.history['val_accuracy']\n",
    "loss = history_pert.history['loss']\n",
    "val_loss = history_pert.history['val_loss']\n",
    "\n",
    "epochs_range = range(epochs)\n",
    "\n",
    "plt.figure(figsize=(15, 15))\n",
    "plt.subplot(2, 2, 1)\n",
    "plt.plot(epochs_range, acc, label='Training Accuracy')\n",
    "plt.plot(epochs_range, val_acc, label='Validation Accuracy')\n",
    "plt.legend(loc='lower right')\n",
    "plt.title('Training and Validation Accuracy')\n",
    "\n",
    "plt.subplot(2, 2, 2)\n",
    "plt.plot(epochs_range, loss, label='Training Loss')\n",
    "plt.plot(epochs_range, val_loss, label='Validation Loss')\n",
    "plt.legend(loc='upper right')\n",
    "plt.title('Training and Validation Loss')\n",
    "plt.show()"
   ]
  },
  {
   "cell_type": "markdown",
   "id": "73af2169",
   "metadata": {},
   "source": [
    "### Confusion Matrix"
   ]
  },
  {
   "cell_type": "code",
   "execution_count": 10,
   "id": "5305fd34",
   "metadata": {},
   "outputs": [],
   "source": [
    "num_of_train_samples = 602\n",
    "num_of_test_samples = 582"
   ]
  },
  {
   "cell_type": "code",
   "execution_count": 14,
   "id": "7a149bcb",
   "metadata": {},
   "outputs": [],
   "source": [
    "test_datagen = ImageDataGenerator(rescale = 1./255)"
   ]
  },
  {
   "cell_type": "code",
   "execution_count": 15,
   "id": "29b63c6f",
   "metadata": {},
   "outputs": [
    {
     "name": "stdout",
     "output_type": "stream",
     "text": [
      "Found 587 images belonging to 2 classes.\n"
     ]
    }
   ],
   "source": [
    "validation_generator = test_datagen.flow_from_directory(\"preprocessing/val_data\",\n",
    "                                                        target_size=(224, 224),\n",
    "                                                        batch_size=batch_size,\n",
    "                                                        class_mode='categorical')"
   ]
  },
  {
   "cell_type": "code",
   "execution_count": 16,
   "id": "04755435",
   "metadata": {},
   "outputs": [
    {
     "name": "stdout",
     "output_type": "stream",
     "text": [
      "WARNING:tensorflow:From <ipython-input-16-f1e6193bdbd4>:1: Model.predict_generator (from tensorflow.python.keras.engine.training) is deprecated and will be removed in a future version.\n",
      "Instructions for updating:\n",
      "Please use Model.predict, which supports generators.\n",
      "Confusion Matrix\n",
      "[[305   0]\n",
      " [280   2]]\n"
     ]
    },
    {
     "data": {
      "image/png": "[encoded data removed]",
      "text/plain": [
       "<Figure size 432x288 with 2 Axes>"
      ]
     },
     "metadata": {},
     "output_type": "display_data"
    }
   ],
   "source": [
    "Y_pred = model.predict_generator(validation_generator, num_of_test_samples // batch_size+1)\n",
    "y_pred = np.argmax(Y_pred, axis=1)\n",
    "print('Confusion Matrix')\n",
    "confusion_matrix_array = confusion_matrix(validation_generator.classes, y_pred)\n",
    "print(confusion_matrix_array)\n",
    "df_cm = pd.DataFrame(confusion_matrix_array, range(2), range(2))\n",
    "# plt.figure(figsize=(10,7))\n",
    "sns.set(font_scale=1.4) # for label size\n",
    "sns.heatmap(df_cm, annot=True, annot_kws={\"size\": 12}) # font size\n",
    "plt.show()"
   ]
  },
  {
   "cell_type": "markdown",
   "id": "fedf9ec4",
   "metadata": {},
   "source": [
    "### Classification Report"
   ]
  },
  {
   "cell_type": "code",
   "execution_count": 17,
   "id": "49fbae7d",
   "metadata": {},
   "outputs": [
    {
     "name": "stdout",
     "output_type": "stream",
     "text": [
      "                  precision    recall  f1-score   support\n",
      "\n",
      "Female (Class 0)       0.52      1.00      0.69       305\n",
      "  Male (Class 1)       1.00      0.01      0.01       282\n",
      "\n",
      "        accuracy                           0.52       587\n",
      "       macro avg       0.76      0.50      0.35       587\n",
      "    weighted avg       0.75      0.52      0.36       587\n",
      "\n"
     ]
    }
   ],
   "source": [
    "predictions = model.predict_classes(x_val)\n",
    "predictions = predictions.reshape(1,-1)[0]\n",
    "\n",
    "target_names = ['Female (Class 0)','Male (Class 1)']\n",
    "print(classification_report(validation_generator.classes, y_pred, target_names=target_names, zero_division=1))"
   ]
  },
  {
   "cell_type": "markdown",
   "id": "f959832e",
   "metadata": {},
   "source": [
    "# Making predictions"
   ]
  },
  {
   "cell_type": "code",
   "execution_count": null,
   "id": "6bda9d83",
   "metadata": {},
   "outputs": [],
   "source": [
    "def predictImage(filename):\n",
    "    img1 = image.load_img(filename,target_size=(image_size,image_size))\n",
    "    \n",
    "    plt.imshow(img1)\n",
    " \n",
    "    Y = image.img_to_array(img1)\n",
    "    \n",
    "    X = np.expand_dims(Y,axis=0)\n",
    "    val = classifier.predict(X)\n",
    "    print(val)\n",
    "    if val == 1:\n",
    "        plt.xlabel(\"MALE\",fontsize=30)\n",
    "    elif val == 0:\n",
    "        plt.xlabel(\"FEMALE\",fontsize=30)"
   ]
  },
  {
   "cell_type": "code",
   "execution_count": null,
   "id": "32be6d80",
   "metadata": {},
   "outputs": [],
   "source": [
    "predictImage(\"trump.jpeg\")"
   ]
  },
  {
   "cell_type": "code",
   "execution_count": null,
   "id": "cba4873f",
   "metadata": {},
   "outputs": [],
   "source": [
    "predictImage(\"gal.jpeg\")"
   ]
  },
  {
   "cell_type": "code",
   "execution_count": null,
   "id": "04714833",
   "metadata": {},
   "outputs": [],
   "source": [
    "predictImage(\"clairo.jpeg\")"
   ]
  },
  {
   "cell_type": "code",
   "execution_count": null,
   "id": "b6710b5d",
   "metadata": {},
   "outputs": [],
   "source": []
  }
 ],
 "metadata": {
  "kernelspec": {
   "display_name": "conda_amazonei_tensorflow2_p36",
   "language": "python",
   "name": "conda_amazonei_tensorflow2_p36"
  },
  "language_info": {
   "codemirror_mode": {
    "name": "ipython",
    "version": 3
   },
   "file_extension": ".py",
   "mimetype": "text/x-python",
   "name": "python",
   "nbconvert_exporter": "python",
   "pygments_lexer": "ipython3",
   "version": "3.6.13"
  }
 },
 "nbformat": 4,
 "nbformat_minor": 5
}
