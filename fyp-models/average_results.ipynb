{
 "cells": [
  {
   "cell_type": "code",
   "execution_count": 1,
   "metadata": {},
   "outputs": [],
   "source": [
    "import json\n",
    "import pandas as pd\n",
    "import numpy as np\n",
    "import matplotlib.pyplot as plt\n",
    "import seaborn as sns"
   ]
  },
  {
   "cell_type": "code",
   "execution_count": 2,
   "metadata": {},
   "outputs": [],
   "source": [
    "def load_metrics(model_type, set_no,gender='all'):\n",
    "    \"\"\"\n",
    "    Loads in results from folder fyp-ma-13/fyp-models/cr_cm_results\n",
    "    \n",
    "    model_type : str\n",
    "        Either 'mobile' (MobileNet), 'dense' (DenseNet) or 'res' (ResNet50)\n",
    "    perturbation: str\n",
    "        Either 'ori', 'masked', 'glasses', 'make_up' or 'all'\n",
    "    \"\"\"\n",
    "    assert gender in ['all', 'female', 'male']\n",
    "    with open(\"cr_cm_results/set{}/cr_cm_{}_{}\".format(set_no, model_type, gender)) as json_file:\n",
    "        data = json.load(json_file)\n",
    "        data = json.loads(data)\n",
    "    return data"
   ]
  },
  {
   "cell_type": "code",
   "execution_count": 6,
   "metadata": {},
   "outputs": [],
   "source": [
    "def load_results(set_no):\n",
    "\n",
    "    # Both\n",
    "    data_mobile_both = load_metrics('mobile', set_no)\n",
    "    data_dense_both = load_metrics('dense', set_no)\n",
    "    data_res_both = load_metrics('res', set_no)\n",
    "\n",
    "    return [data_mobile_both, data_dense_both, data_res_both]"
   ]
  },
  {
   "cell_type": "code",
   "execution_count": 55,
   "metadata": {},
   "outputs": [],
   "source": [
    "def calculate_sum_cm(cm):\n",
    "    res = 0\n",
    "    for i in data_mobile_both['cm_mobile_all']:\n",
    "        res += sum(i)\n",
    "    return res\n",
    "\n",
    "def calculate_acc_cm(cm):\n",
    "    tot = calculate_sum_cm(cm)\n",
    "    tn = cm[0][0]\n",
    "    tp = cm[1][1]\n",
    "    return ((tn+tp)/tot)*100\n",
    "\n",
    "def calculate_female_acc(cm):\n",
    "    female_row = cm[0]\n",
    "    return (female_row[0] / (female_row[0] + female_row[1]))*100\n",
    "    \n",
    "def calculate_male_acc(cm):\n",
    "    male_row = cm[1]\n",
    "    return (male_row[1] / (male_row[0] + male_row[1]))*100"
   ]
  },
  {
   "cell_type": "code",
   "execution_count": 56,
   "metadata": {},
   "outputs": [
    {
     "data": {
      "text/plain": [
       "63.77759607522485"
      ]
     },
     "execution_count": 56,
     "metadata": {},
     "output_type": "execute_result"
    }
   ],
   "source": [
    "calculate_acc_cm(data_mobile_both['cm_mobile_all'])"
   ]
  },
  {
   "cell_type": "code",
   "execution_count": 80,
   "metadata": {},
   "outputs": [
    {
     "name": "stdout",
     "output_type": "stream",
     "text": [
      "======================================\n",
      "Set 1 :\n",
      "--------------------------------------\n",
      "cm_mobile_all [[1796, 65], [1107, 712]]\n",
      "cm_dense_all [[1541, 320], [378, 1441]]\n",
      "cm_res_all [[1724, 137], [717, 1102]]\n",
      "\n",
      "Average Total Accuracy: 75.33\n",
      "Mobile Female Accuracy: 96.51 Mobile Male Accuracy: 39.14\n",
      "Dense Female Accuracy: 82.8 Dense Male Accuracy: 79.22\n",
      "Res Female Accuracy: 96.51 Res Male Accuracy: 60.58\n",
      "Average Female Accuracy: 90.65\n",
      "Average Male Accuracy: 59.65\n",
      "\n",
      "Gender Bias Index:\n",
      "(+ indicates female bias, - indicates male bias)\n",
      " 31.000000000000007\n",
      "======================================\n",
      "\n",
      "======================================\n",
      "Set 2 :\n",
      "--------------------------------------\n",
      "cm_mobile_all [[1705, 150], [879, 943]]\n",
      "cm_dense_all [[1705, 150], [581, 1241]]\n",
      "cm_res_all [[1738, 117], [725, 1097]]\n",
      "\n",
      "Average Total Accuracy: 76.41\n",
      "Mobile Female Accuracy: 91.91 Mobile Male Accuracy: 51.76\n",
      "Dense Female Accuracy: 91.91 Dense Male Accuracy: 68.11\n",
      "Res Female Accuracy: 91.91 Res Male Accuracy: 60.21\n",
      "Average Female Accuracy: 92.5\n",
      "Average Male Accuracy: 60.03\n",
      "\n",
      "Gender Bias Index:\n",
      "(+ indicates female bias, - indicates male bias)\n",
      " 32.47\n",
      "======================================\n",
      "\n",
      "======================================\n",
      "Set 3 :\n",
      "--------------------------------------\n",
      "cm_mobile_all [[1793, 49], [1280, 547]]\n",
      "cm_dense_all [[1711, 131], [633, 1194]]\n",
      "cm_res_all [[1739, 103], [781, 1046]]\n",
      "\n",
      "Average Total Accuracy: 72.95\n",
      "Mobile Female Accuracy: 97.34 Mobile Male Accuracy: 29.94\n",
      "Dense Female Accuracy: 92.89 Dense Male Accuracy: 65.35\n",
      "Res Female Accuracy: 97.34 Res Male Accuracy: 57.25\n",
      "Average Female Accuracy: 94.88\n",
      "Average Male Accuracy: 50.85\n",
      "\n",
      "Gender Bias Index:\n",
      "(+ indicates female bias, - indicates male bias)\n",
      " 44.029999999999994\n",
      "======================================\n",
      "\n"
     ]
    }
   ],
   "source": [
    "for i in range(1, 4):\n",
    "    print(\"======================================\")\n",
    "    data_mobile_both, data_dense_both, data_res_both = load_results(i)\n",
    "    mobile_cm, dense_cm, res_cm = data_mobile_both['cm_mobile_all'], data_dense_both['cm_dense_all'], data_res_both['cm_res_all']\n",
    "    temp = 0\n",
    "    print(\"Set\", str(i), \":\")\n",
    "    print(\"--------------------------------------\")\n",
    "    print(\"cm_mobile_all\", mobile_cm)\n",
    "    print(\"cm_dense_all\", dense_cm)\n",
    "    print(\"cm_res_all\", res_cm)\n",
    "    temp += calculate_acc_cm(mobile_cm) + calculate_acc_cm(dense_cm) + calculate_acc_cm(res_cm)\n",
    "    print(\"\\nAverage Total Accuracy:\", round(temp/3, 2))\n",
    "    female_mobile_acc, male_mobile_acc = round(calculate_female_acc(mobile_cm), 2), round(calculate_male_acc(mobile_cm), 2)\n",
    "    female_dense_acc, male_dense_acc = round(calculate_female_acc(dense_cm), 2), round(calculate_male_acc(dense_cm), 2)\n",
    "    female_res_acc, male_res_acc = round(calculate_female_acc(res_cm), 2), round(calculate_male_acc(res_cm), 2)\n",
    "    \n",
    "    print(\"Mobile Female Accuracy:\", round(female_mobile_acc, 2), \"Mobile Male Accuracy:\", round(male_mobile_acc, 2))\n",
    "    print(\"Dense Female Accuracy:\", round(female_dense_acc, 2), \"Dense Male Accuracy:\", round(male_dense_acc, 2))\n",
    "    print(\"Res Female Accuracy:\", round(female_mobile_acc, 2), \"Res Male Accuracy:\", round(male_res_acc, 2))\n",
    "    average_male_acc = round((male_mobile_acc + male_dense_acc + male_res_acc)/3, 2)\n",
    "    average_female_acc = round((female_mobile_acc + female_dense_acc + female_res_acc)/3, 2)\n",
    "    print(\"Average Female Accuracy:\", average_female_acc)\n",
    "    print(\"Average Male Accuracy:\", average_male_acc)\n",
    "    \n",
    "    print(\"\\nGender Bias Index:\")\n",
    "    print(\"(+ indicates female bias, - indicates male bias)\\n\", average_female_acc-average_male_acc)\n",
    "    print(\"======================================\\n\")"
   ]
  },
  {
   "cell_type": "code",
   "execution_count": null,
   "metadata": {},
   "outputs": [],
   "source": []
  }
 ],
 "metadata": {
  "kernelspec": {
   "display_name": "Python 3",
   "language": "python",
   "name": "python3"
  },
  "language_info": {
   "codemirror_mode": {
    "name": "ipython",
    "version": 3
   },
   "file_extension": ".py",
   "mimetype": "text/x-python",
   "name": "python",
   "nbconvert_exporter": "python",
   "pygments_lexer": "ipython3",
   "version": "3.8.5"
  }
 },
 "nbformat": 4,
 "nbformat_minor": 4
}
