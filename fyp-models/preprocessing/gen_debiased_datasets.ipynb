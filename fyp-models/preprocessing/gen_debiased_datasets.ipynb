{
 "cells": [
  {
   "cell_type": "code",
   "execution_count": null,
   "id": "81b9b945-0169-4069-b2ad-f6502756d6d7",
   "metadata": {},
   "outputs": [],
   "source": [
    "import pandas as pd\n",
    "import dlib\n",
    "from tqdm import tqdm\n",
    "from distutils.dir_util import copy_tree\n",
    "import os\n",
    "import itertools\n",
    "import shutil"
   ]
  },
  {
   "cell_type": "code",
   "execution_count": null,
   "id": "eea21dcd-5ceb-4d3a-9a48-a03a19b5affa",
   "metadata": {},
   "outputs": [],
   "source": [
    "target_sets = ['set1', 'set5', 'set8', 'set10']\n",
    "target_percs = [0.1, 0.25, 0.5]\n",
    "target_folders = ['male_10_female_ori', 'male_25_female_ori', 'male_50_female_ori',\n",
    "                  'male_ori_female_10', 'male_ori_female_25', 'male_ori_female_50']"
   ]
  },
  {
   "cell_type": "code",
   "execution_count": null,
   "id": "ca7d8b1e-71ea-4c18-a070-f6ce9554e538",
   "metadata": {},
   "outputs": [],
   "source": [
    "preprocessing = \"/home/monash/Desktop/fyp-work/fyp-ma-13/fyp-models/preprocessing\"\n",
    "root = f\"{preprocessing}/cv_datasets\""
   ]
  },
  {
   "cell_type": "code",
   "execution_count": null,
   "id": "203bb7bc-1887-4243-b42a-d940ae8631d1",
   "metadata": {},
   "outputs": [],
   "source": [
    "def copy_folder(fromDir, toDir):\n",
    "    \"\"\"\n",
    "    Copies entire folder to another directory\n",
    "    \"\"\"\n",
    "    copy_tree(fromDir, toDir)"
   ]
  },
  {
   "cell_type": "code",
   "execution_count": null,
   "id": "ce164dad-687e-4e08-b3a2-3793c88652fd",
   "metadata": {},
   "outputs": [],
   "source": [
    "def debug_num_overlap(experiments=False, experiment_folder = \"experiments_20112021\", *args, **kwargs):\n",
    "    if experiments:\n",
    "        male_perc, female_perc = kwargs['male_perc'], kwargs['female_perc']\n",
    "        male_pert, female_pert = kwargs['male_pert'], kwargs['female_pert']\n",
    "        assert type(male_perc) == float or male_perc == 'ori'\n",
    "        assert type(female_perc) == float or female_perc == 'ori'\n",
    "        male_label = int(male_perc*100) if type(male_perc) == float else male_perc\n",
    "        female_label = int(female_perc*100) if type(female_perc) == float else female_perc\n",
    "        if male_pert is not None and female_pert is not None:\n",
    "            target_folder = f\"male_{male_label}_{male_pert}_female_{female_label}_{female_pert}\" # male_x_female_x\n",
    "        else:\n",
    "            target_folder = f\"male_{male_label}_female_{female_label}\" # male_x_female_x\n",
    "        target_fp = f\"{preprocessing}/{experiment_folder}/{target_folder}\"\n",
    "    else:\n",
    "        target_fp = f\"{preprocessing}/cv_datasets_debiased_{int(kwargs['perc']*100)}\"\n",
    "    for s in target_sets:\n",
    "        m_train_lst = set(os.listdir(f'{target_fp}/{s}/train/male'))\n",
    "        m_test_lst = set(os.listdir(f'{target_fp}/{s}/test/male'))\n",
    "        f_train_lst = set(os.listdir(f'{target_fp}/{s}/train/female'))\n",
    "        f_test_lst = set(os.listdir(f'{target_fp}/{s}/test/female'))\n",
    "        m_overlap = m_train_lst.intersection(m_test_lst)\n",
    "        f_overlap = f_train_lst.intersection(f_test_lst)\n",
    "        if len(m_overlap) > 0:\n",
    "            print(f\"Male train/test {len(m_overlap)} images overlap for set {s}\")\n",
    "        else:\n",
    "            print(f\"Male no overlap for set {s}\")\n",
    "        if len(f_overlap) > 0:\n",
    "            print(f\"Female train/test {len(f_overlap)} images overlap for {s}\")\n",
    "        else:\n",
    "            print(f\"Female no overlap for set {s}\")"
   ]
  },
  {
   "cell_type": "code",
   "execution_count": null,
   "id": "8061cfe7-2772-4d0a-be6e-c79eaa9d172f",
   "metadata": {
    "tags": []
   },
   "outputs": [],
   "source": [
    "# Test old dataset\n",
    "for perc in target_percs:\n",
    "    debug_num_overlap(perc=perc)\n",
    "    print(\"----------------------\")"
   ]
  },
  {
   "cell_type": "code",
   "execution_count": null,
   "id": "f16fc0ac-bcdc-4da4-8d24-4b3327861bbc",
   "metadata": {},
   "outputs": [],
   "source": [
    "# Test new perturbed dataset (both glasses and both makeup)\n",
    "for perc in target_percs:\n",
    "    debug_num_overlap(male_perc=perc, female_perc=perc, \n",
    "                      male_pert='glasses', female_pert='glasses',\n",
    "                      experiments=True, experiment_folder = \"experiments_12122021\")\n",
    "    print(\"----------------------\")"
   ]
  },
  {
   "cell_type": "code",
   "execution_count": null,
   "id": "9e66b077-6eee-4ed7-821b-672cc090e9a3",
   "metadata": {
    "tags": []
   },
   "outputs": [],
   "source": [
    "# Check that each male and female train have the same length\n",
    "def debug_train_length_aux(male_perc, female_perc):\n",
    "    assert type(male_perc) == float or male_perc == 'ori'\n",
    "    assert type(female_perc) == float or female_perc == 'ori'\n",
    "    male_label = int(male_perc*100) if type(male_perc) == float else male_perc\n",
    "    female_label = int(female_perc*100) if type(female_perc) == float else female_perc\n",
    "    target_folder = f\"male_{male_label}_female_{female_label}\" # male_x_female_x\n",
    "    target_fp = f\"{preprocessing}/experiments_20112021/{target_folder}\"\n",
    "\n",
    "    for s in target_sets:\n",
    "        m_lst = os.listdir(f'{target_fp}/{s}/train/male')\n",
    "        f_lst = os.listdir(f'{target_fp}/{s}/train/female')\n",
    "        assert len(m_lst) == 11610, f'Wrong male length - {len(m_lst)}'\n",
    "        assert len(f_lst) == 11610, f'Wrong female length - {len(f_lst)}'\n",
    "    return True\n",
    "\n",
    "def debug_train_length():# for female perturbation only\n",
    "    for perc in percs:\n",
    "        debug_train_length_aux('ori', perc)\n",
    "\n",
    "    # for male perturbation only\n",
    "    for perc in percs: \n",
    "        debug_train_length_aux(perc, 'ori')    \n",
    "\n",
    "    # for both\n",
    "    for perc in percs:\n",
    "        debug_train_length_aux(perc, perc)"
   ]
  },
  {
   "cell_type": "code",
   "execution_count": null,
   "id": "c2a719fc-5fec-48b9-9879-031ed026187a",
   "metadata": {},
   "outputs": [],
   "source": [
    "def gen_debiased_datasets(male_perc, female_perc, male_pert, female_pert, experiments_folder):\n",
    "    \"\"\"\n",
    "    Generated debiased datasets with a certain portion perturbed/unperturbed\n",
    "    \n",
    "    1. Copies set1, set5, set8 and set10 from cv_datasets to target_fp\n",
    "    2. Replace training images with perturbed images\n",
    "    \n",
    "    \"\"\"\n",
    "    assert type(male_perc) == float or male_perc == 'ori'\n",
    "    assert type(female_perc) == float or female_perc == 'ori'\n",
    "    male_label = int(male_perc*100) if type(male_perc) == float else male_perc\n",
    "    female_label = int(female_perc*100) if type(female_perc) == float else female_perc\n",
    "    target_folder = f\"male_{male_label}_{male_pert}_female_{female_label}_{female_pert}\" # male_x_female_x\n",
    "    target_fp = f\"{preprocessing}/{experiments_folder}/{target_folder}\"\n",
    "    # 1. Copy set1, set5, set8 and set10 from cv_datasets to target_fp\n",
    "    print(\"Copying set1, set5, set8 and set10 from cv_datasets to target_fp...\")\n",
    "    for s in target_sets:\n",
    "        set_folder = f\"{root}/{s}\" # gives you access to the folder set data\n",
    "        copy_folder(set_folder, f'{target_fp}/{s}')\n",
    "    # Change here to change perturbations\n",
    "    assert male_pert in ['glasses', 'makeup']\n",
    "    assert female_pert in ['glasses', 'makeup']\n",
    "    pert_male_fp = f'{male_pert}_male/'   # Only for males\n",
    "    pert_female_fp  = f'{female_pert}_female/'  \n",
    "    print('Replacing training images with perturbed...')\n",
    "    # 2. Replace training images with perturbed\n",
    "    for s in target_sets:\n",
    "        target_set_fp = f\"{target_fp}/{s}\"\n",
    "        # Get access to necessary folders\n",
    "        set_folder = f\"{root}/{s}\" # gives you access to the folder set data\n",
    "        train_folder = f\"{set_folder}/train\"\n",
    "        from_male_train = f\"{set_folder}/train/male\"\n",
    "        from_female_train = f\"{set_folder}/train/female\" \n",
    "        # Go to relevant train folder and update the images\n",
    "        # Replace len(train)*perc of images with perturbed\n",
    "        if type(male_perc) == float:\n",
    "            to_male_train = f'{target_fp}/{s}/train/male'\n",
    "            male_train_folder = os.listdir(to_male_train)\n",
    "            pert_male_folder    = os.listdir(pert_male_fp)\n",
    "            num_replace = int(len(male_train_folder)*male_perc) # Number of images to replace\n",
    "            for i in tqdm(range(num_replace), f'Replacing training male images for set {s}...'): # num_replace\n",
    "                src = f'{pert_male_fp}{pert_male_folder[i]}'\n",
    "                dst = to_male_train\n",
    "                shutil.copy(src, dst)\n",
    "        if type(female_perc) == float:\n",
    "            to_female_train = f'{target_fp}/{s}/train/female/'\n",
    "            female_train_folder = os.listdir(to_female_train)\n",
    "            pert_female_folder    = os.listdir(pert_female_fp)\n",
    "            num_replace = int(len(female_train_folder)*female_perc) # Number of images to replace\n",
    "            for i in tqdm(range(num_replace), f'Replacing training female images for set {s}...'): # num_replace\n",
    "                src = f'{pert_female_fp}{pert_female_folder[i]}'\n",
    "                dst = to_female_train\n",
    "                shutil.copy(src, dst)"
   ]
  },
  {
   "cell_type": "code",
   "execution_count": null,
   "id": "7cf68930-da6a-4950-b384-3ac143f64047",
   "metadata": {
    "tags": []
   },
   "outputs": [],
   "source": [
    "percs = [0.1, 0.25, 0.5]\n",
    "experiments_folder = 'experiments_12122021'\n",
    "\n",
    "# compile makeup dataset\n",
    "# for perc in percs:\n",
    "#     gen_debiased_datasets(perc, perc, 'makeup', 'makeup', experiments_folder)\n",
    "\n",
    "# compile glasses dataset\n",
    "for perc in percs:\n",
    "    gen_debiased_datasets(perc, perc, 'glasses', 'glasses', experiments_folder)\n",
    "\n",
    "# compile glasses dataset\n",
    "# for perc in percs:\n",
    "#     gen_debiased_datasets(perc, perc, 'glasses', 'glasses', experiments_folder)\n",
    "    \n",
    "# # for female perturbation only\n",
    "# for perc in percs:\n",
    "#     gen_debiased_datasets('ori', perc)\n",
    "    \n",
    "# # for male perturbation only\n",
    "# for perc in percs: \n",
    "#     gen_debiased_datasets(perc, 'ori')    \n",
    "\n",
    "# # for both\n",
    "# for perc in percs:\n",
    "#     gen_debiased_datasets(perc, perc)"
   ]
  },
  {
   "cell_type": "code",
   "execution_count": null,
   "id": "3ffca836-6147-403e-86e8-e20e64210439",
   "metadata": {},
   "outputs": [],
   "source": []
  }
 ],
 "metadata": {
  "kernelspec": {
   "display_name": "fyp",
   "language": "python",
   "name": "fyp"
  },
  "language_info": {
   "codemirror_mode": {
    "name": "ipython",
    "version": 3
   },
   "file_extension": ".py",
   "mimetype": "text/x-python",
   "name": "python",
   "nbconvert_exporter": "python",
   "pygments_lexer": "ipython3",
   "version": "3.6.13"
  }
 },
 "nbformat": 4,
 "nbformat_minor": 5
}
