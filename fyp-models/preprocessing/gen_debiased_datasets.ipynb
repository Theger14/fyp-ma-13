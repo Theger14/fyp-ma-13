{
 "cells": [
  {
   "cell_type": "code",
   "execution_count": 1,
   "id": "66e93ed7-401f-455b-80d1-6ad33cac7636",
   "metadata": {},
   "outputs": [],
   "source": [
    "import pandas as pd\n",
    "import dlib\n",
    "from tqdm import tqdm\n",
    "from distutils.dir_util import copy_tree\n",
    "import os\n",
    "import itertools\n",
    "import shutil"
   ]
  },
  {
   "cell_type": "code",
   "execution_count": 2,
   "id": "f001e811-fc03-4f48-bd6f-4499c350f509",
   "metadata": {},
   "outputs": [],
   "source": [
    "target_sets = ['set1', 'set5', 'set8', 'set10']"
   ]
  },
  {
   "cell_type": "code",
   "execution_count": 3,
   "id": "d5fb1a28-074c-4920-84f5-9a845b866ea5",
   "metadata": {},
   "outputs": [],
   "source": [
    "preprocessing = \"/home/monash/Desktop/fyp-work/fyp-ma-13/fyp-models/preprocessing\"\n",
    "root = f\"{preprocessing}/cv_datasets\""
   ]
  },
  {
   "cell_type": "code",
   "execution_count": 11,
   "id": "ebe0e50a-d6b7-477d-a786-f3eaedc83b9c",
   "metadata": {},
   "outputs": [],
   "source": [
    "def copy_f(fromDir, toDir):\n",
    "    if not os.path.exists(toDir):\n",
    "        copy_tree(fromDir, toDir)"
   ]
  },
  {
   "cell_type": "code",
   "execution_count": 10,
   "id": "e45135c2-9d0f-42dc-8fd1-97a94921f4fc",
   "metadata": {},
   "outputs": [],
   "source": [
    "# 0. Set target file path\n",
    "target_fp = f\"{preprocessing}/experiments_20112021/male_10_female_ori\"\n",
    "debias_gender = 'male'\n",
    "perc = 0.1\n",
    "# Generate male_10_female_ori\n",
    "for s in target_sets:\n",
    "    target_set_fp = f\"{target_fp}/{s}\"\n",
    "    # 1. Load in folders\n",
    "    set_folder = f\"{root}/{s}\" # gives you access to the folder set data\n",
    "    train_folder = f\"{set_folder}/train\"\n",
    "    male_train = f\"{train_folder}/male\"\n",
    "    female_train = f\"{train_folder}/female\"\n",
    "    \n",
    "    glasses_folder = f\"{set_folder}/test_glasses\"       # For male debiasing\n",
    "    makeup_folder = f\"{set_folder}/test_makeup\"         # For female debiasing\n",
    "    \n",
    "    # Male or female\n",
    "    if debias_gender == 'male':\n",
    "        folder       = os.listdir(male_train)\n",
    "        # 2. Copy 90% of images from male train images to train/male experiments folder\n",
    "        for f in range(int(len(folder)*(1-perc))):\n",
    "            toDir_train = f\"{set_folder}/train/male\"\n",
    "            copy_f(f\"{male_train}/{f}\", toDir_train)\n",
    "        # 3. Copy 10% of images from glasses_folder and train/male experiments folder\n",
    "    else:\n",
    "        folder = os.listdir()\n",
    "    \n",
    "    \n",
    "    # 4. Copy female train folder to train/female experiments folder\n",
    "    copy_f(female_train, f\"{target_set_fp}/train/female\")\n",
    "    # 5. Copy test folder to experiments folder\n",
    "    copy_f(f\"{set_folder}/test\", f\"{target_set_fp}/test\")\n",
    "    # 6. Copy val folder to experiments folder\n",
    "    copy_f(f\"{set_folder}/val\", f\"{target_set_fp}/val\")\n",
    "    "
   ]
  },
  {
   "cell_type": "code",
   "execution_count": null,
   "id": "6af6a2c5-a3f6-4908-9d74-bc7ec52fbbf0",
   "metadata": {},
   "outputs": [],
   "source": []
  }
 ],
 "metadata": {
  "kernelspec": {
   "display_name": "fyp",
   "language": "python",
   "name": "fyp"
  },
  "language_info": {
   "codemirror_mode": {
    "name": "ipython",
    "version": 3
   },
   "file_extension": ".py",
   "mimetype": "text/x-python",
   "name": "python",
   "nbconvert_exporter": "python",
   "pygments_lexer": "ipython3",
   "version": "3.6.13"
  }
 },
 "nbformat": 4,
 "nbformat_minor": 5
}
