{
 "cells": [
  {
   "cell_type": "code",
   "execution_count": 1,
   "id": "81b9b945-0169-4069-b2ad-f6502756d6d7",
   "metadata": {},
   "outputs": [],
   "source": [
    "import pandas as pd\n",
    "import dlib\n",
    "from tqdm import tqdm\n",
    "from distutils.dir_util import copy_tree\n",
    "import os\n",
    "import itertools\n",
    "import shutil"
   ]
  },
  {
   "cell_type": "code",
   "execution_count": 2,
   "id": "eea21dcd-5ceb-4d3a-9a48-a03a19b5affa",
   "metadata": {},
   "outputs": [],
   "source": [
    "target_sets = ['set1', 'set5', 'set8', 'set10']\n",
    "target_percs = [0.1, 0.25, 0.5]\n",
    "target_folders = ['male_10_female_ori', 'male_25_female_ori', 'male_50_female_ori',\n",
    "                  'male_ori_female_10', 'male_ori_female_25', 'male_ori_female_50']"
   ]
  },
  {
   "cell_type": "code",
   "execution_count": 3,
   "id": "ca7d8b1e-71ea-4c18-a070-f6ce9554e538",
   "metadata": {},
   "outputs": [],
   "source": [
    "preprocessing = \"/home/monash/Desktop/fyp-work/fyp-ma-13/fyp-models/preprocessing\"\n",
    "root = f\"{preprocessing}/cv_datasets\""
   ]
  },
  {
   "cell_type": "code",
   "execution_count": 4,
   "id": "203bb7bc-1887-4243-b42a-d940ae8631d1",
   "metadata": {},
   "outputs": [],
   "source": [
    "def copy_folder(fromDir, toDir):\n",
    "    \"\"\"\n",
    "    Copies entire folder to another directory\n",
    "    \"\"\"\n",
    "    copy_tree(fromDir, toDir)"
   ]
  },
  {
   "cell_type": "code",
   "execution_count": 11,
   "id": "ce164dad-687e-4e08-b3a2-3793c88652fd",
   "metadata": {},
   "outputs": [
    {
     "name": "stdout",
     "output_type": "stream",
     "text": [
      "Male train/test 32 images overlap for set set1\n",
      "Female train/test 247 images overlap for set1\n"
     ]
    }
   ],
   "source": [
    "def debug_num_overlap(male_perc, female_perc):\n",
    "    assert type(male_perc) == float or male_perc == 'ori'\n",
    "    assert type(female_perc) == float or female_perc == 'ori'\n",
    "    male_label = int(male_perc*100) if type(male_perc) == float else male_perc\n",
    "    female_label = int(female_perc*100) if type(female_perc) == float else female_perc\n",
    "    target_folder = f\"male_{male_label}_female_{female_label}\" # male_x_female_x\n",
    "    target_fp = f\"{preprocessing}/experiments_20112021/{target_folder}\"\n",
    "\n",
    "    for s in target_sets:\n",
    "        m_train_lst = set(os.listdir(f'{target_fp}/{s}/train/male'))\n",
    "        m_test_lst = set(os.listdir(f'{target_fp}/{s}/test/male'))\n",
    "        f_train_lst = set(os.listdir(f'{target_fp}/{s}/train/female'))\n",
    "        f_test_lst = set(os.listdir(f'{target_fp}/{s}/test/female'))\n",
    "        m_overlap = m_train_lst.intersection(m_test_lst)\n",
    "        f_overlap = f_train_lst.intersection(f_test_lst)\n",
    "        if len(m_overlap) > 0:\n",
    "            print(f\"Male train/test {len(m_overlap)} images overlap for set {s}\")\n",
    "        if len(f_overlap) > 0:\n",
    "            print(f\"Female train/test {len(f_overlap)} images overlap for {s}\")"
   ]
  },
  {
   "cell_type": "code",
   "execution_count": 6,
   "id": "9e66b077-6eee-4ed7-821b-672cc090e9a3",
   "metadata": {
    "tags": []
   },
   "outputs": [],
   "source": [
    "# Check that each male and female train have the same length\n",
    "def debug_train_length_aux(male_perc, female_perc):\n",
    "    assert type(male_perc) == float or male_perc == 'ori'\n",
    "    assert type(female_perc) == float or female_perc == 'ori'\n",
    "    male_label = int(male_perc*100) if type(male_perc) == float else male_perc\n",
    "    female_label = int(female_perc*100) if type(female_perc) == float else female_perc\n",
    "    target_folder = f\"male_{male_label}_female_{female_label}\" # male_x_female_x\n",
    "    target_fp = f\"{preprocessing}/experiments_20112021/{target_folder}\"\n",
    "\n",
    "    for s in target_sets:\n",
    "        m_lst = os.listdir(f'{target_fp}/{s}/train/male')\n",
    "        f_lst = os.listdir(f'{target_fp}/{s}/train/female')\n",
    "        assert len(m_lst) == 11610, f'Wrong male length - {len(m_lst)}'\n",
    "        assert len(f_lst) == 11610, f'Wrong female length - {len(f_lst)}'\n",
    "    return True\n",
    "\n",
    "def debug_train_length():# for female perturbation only\n",
    "    for perc in percs:\n",
    "        debug_train_length_aux('ori', perc)\n",
    "\n",
    "    # for male perturbation only\n",
    "    for perc in percs: \n",
    "        debug_train_length_aux(perc, 'ori')    \n",
    "\n",
    "    # for both\n",
    "    for perc in percs:\n",
    "        debug_train_length_aux(perc, perc)"
   ]
  },
  {
   "cell_type": "code",
   "execution_count": 7,
   "id": "c2a719fc-5fec-48b9-9879-031ed026187a",
   "metadata": {},
   "outputs": [],
   "source": [
    "def gen_debiased_datasets(male_perc, female_perc):\n",
    "    \"\"\"\n",
    "    Generated debiased datasets with a certain portion perturbed/unperturbed\n",
    "    \n",
    "    1. Copies set1, set5, set8 and set10 from cv_datasets to target_fp\n",
    "    2. Replace training images with perturbed images\n",
    "    \n",
    "    \"\"\"\n",
    "    assert type(male_perc) == float or male_perc == 'ori'\n",
    "    assert type(female_perc) == float or female_perc == 'ori'\n",
    "    male_label = int(male_perc*100) if type(male_perc) == float else male_perc\n",
    "    female_label = int(female_perc*100) if type(female_perc) == float else female_perc\n",
    "    target_folder = f\"male_{male_label}_female_{female_label}\" # male_x_female_x\n",
    "    target_fp = f\"{preprocessing}/experiments_20112021/{target_folder}\"\n",
    "    # 1. Copy set1, set5, set8 and set10 from cv_datasets to target_fp\n",
    "    print(\"Copying set1, set5, set8 and set10 from cv_datasets to target_fp...\")\n",
    "    for s in target_sets:\n",
    "        set_folder = f\"{root}/{s}\" # gives you access to the folder set data\n",
    "        copy_folder(set_folder, f'{target_fp}/{s}')\n",
    "\n",
    "    glasses_fp = 'glasses_full/'   # Only for males\n",
    "    makeup_fp  = 'makeup_female/'\n",
    "    print('Replacing training images with perturbed...')\n",
    "    # 2. Replace training images with perturbed\n",
    "    for s in target_sets:\n",
    "        target_set_fp = f\"{target_fp}/{s}\"\n",
    "        # Get access to necessary folders\n",
    "        set_folder = f\"{root}/{s}\" # gives you access to the folder set data\n",
    "        train_folder = f\"{set_folder}/train\"\n",
    "        from_male_train = f\"{set_folder}/train/male\"\n",
    "        from_female_train = f\"{set_folder}/train/female\" \n",
    "        # Go to relevant train folder and update the images\n",
    "        # Replace len(train)*perc of images with perturbed\n",
    "        if type(male_perc) == float:\n",
    "            to_male_train = f'{target_fp}/{s}/train/male'\n",
    "            male_train_folder = os.listdir(to_male_train)\n",
    "            glasses_folder    = os.listdir(glasses_fp)\n",
    "            num_replace = int(len(male_train_folder)*male_perc) # Number of images to replace\n",
    "            for i in tqdm(range(num_replace), f'Replacing training male images for set {s}...'): # num_replace\n",
    "                src = f'{glasses_fp}{glasses_folder[i]}'\n",
    "                dst = to_male_train\n",
    "                shutil.copy(src, dst)\n",
    "        if type(female_perc) == float:\n",
    "            to_female_train = f'{target_fp}/{s}/train/female/'\n",
    "            female_train_folder = os.listdir(to_female_train)\n",
    "            makeup_folder    = os.listdir(makeup_fp)\n",
    "            num_replace = int(len(female_train_folder)*female_perc) # Number of images to replace\n",
    "            for i in tqdm(range(num_replace), f'Replacing training female images for set {s}...'): # num_replace\n",
    "                src = f'{makeup_fp}{makeup_folder[i]}'\n",
    "                dst = to_female_train\n",
    "                shutil.copy(src, dst)"
   ]
  },
  {
   "cell_type": "code",
   "execution_count": 8,
   "id": "164b5d19-3244-40cb-af6f-326f928ad9b6",
   "metadata": {},
   "outputs": [
    {
     "name": "stdout",
     "output_type": "stream",
     "text": [
      "Copying set1, set5, set8 and set10 from cv_datasets to target_fp...\n",
      "Replacing training images with perturbed...\n"
     ]
    }
   ],
   "source": [
    "gen_debiased_datasets('ori', 'ori')"
   ]
  },
  {
   "cell_type": "code",
   "execution_count": 6,
   "id": "7cf68930-da6a-4950-b384-3ac143f64047",
   "metadata": {
    "collapsed": true,
    "jupyter": {
     "outputs_hidden": true
    },
    "tags": []
   },
   "outputs": [
    {
     "name": "stdout",
     "output_type": "stream",
     "text": [
      "Copying set1, set5, set8 and set10 from cv_datasets to target_fp...\n"
     ]
    },
    {
     "name": "stderr",
     "output_type": "stream",
     "text": [
      "Replacing training female images for set set1...: 100%|██████████| 1161/1161 [00:00<00:00, 18400.87it/s]\n",
      "Replacing training female images for set set5...: 100%|██████████| 1161/1161 [00:00<00:00, 14783.79it/s]\n",
      "Replacing training female images for set set8...:   0%|          | 0/1161 [00:00<?, ?it/s]"
     ]
    },
    {
     "name": "stdout",
     "output_type": "stream",
     "text": [
      "Replacing training images with perturbed...\n"
     ]
    },
    {
     "name": "stderr",
     "output_type": "stream",
     "text": [
      "Replacing training female images for set set8...: 100%|██████████| 1161/1161 [00:00<00:00, 14550.94it/s]\n",
      "Replacing training female images for set set10...: 100%|██████████| 1161/1161 [00:00<00:00, 14765.90it/s]\n"
     ]
    },
    {
     "name": "stdout",
     "output_type": "stream",
     "text": [
      "Copying set1, set5, set8 and set10 from cv_datasets to target_fp...\n"
     ]
    },
    {
     "name": "stderr",
     "output_type": "stream",
     "text": [
      "Replacing training female images for set set1...: 100%|██████████| 2902/2902 [00:00<00:00, 19142.98it/s]\n",
      "Replacing training female images for set set5...:   0%|          | 0/2902 [00:00<?, ?it/s]"
     ]
    },
    {
     "name": "stdout",
     "output_type": "stream",
     "text": [
      "Replacing training images with perturbed...\n"
     ]
    },
    {
     "name": "stderr",
     "output_type": "stream",
     "text": [
      "Replacing training female images for set set5...: 100%|██████████| 2902/2902 [00:00<00:00, 14554.33it/s]\n",
      "Replacing training female images for set set8...: 100%|██████████| 2902/2902 [00:00<00:00, 15251.14it/s]\n",
      "Replacing training female images for set set10...: 100%|██████████| 2902/2902 [00:00<00:00, 15041.63it/s]\n"
     ]
    },
    {
     "name": "stdout",
     "output_type": "stream",
     "text": [
      "Copying set1, set5, set8 and set10 from cv_datasets to target_fp...\n"
     ]
    },
    {
     "name": "stderr",
     "output_type": "stream",
     "text": [
      "Replacing training female images for set set1...:  33%|███▎      | 1913/5805 [00:00<00:00, 19119.94it/s]"
     ]
    },
    {
     "name": "stdout",
     "output_type": "stream",
     "text": [
      "Replacing training images with perturbed...\n"
     ]
    },
    {
     "name": "stderr",
     "output_type": "stream",
     "text": [
      "Replacing training female images for set set1...: 100%|██████████| 5805/5805 [00:00<00:00, 18331.07it/s]\n",
      "Replacing training female images for set set5...: 100%|██████████| 5805/5805 [00:00<00:00, 14146.05it/s]\n",
      "Replacing training female images for set set8...: 100%|██████████| 5805/5805 [00:00<00:00, 14246.18it/s]\n",
      "Replacing training female images for set set10...: 100%|██████████| 5805/5805 [00:00<00:00, 16036.45it/s]\n"
     ]
    },
    {
     "name": "stdout",
     "output_type": "stream",
     "text": [
      "Copying set1, set5, set8 and set10 from cv_datasets to target_fp...\n"
     ]
    },
    {
     "name": "stderr",
     "output_type": "stream",
     "text": [
      "Replacing training male images for set set1...: 100%|██████████| 1161/1161 [00:00<00:00, 17861.85it/s]\n",
      "Replacing training male images for set set5...: 100%|██████████| 1161/1161 [00:00<00:00, 13020.81it/s]\n",
      "Replacing training male images for set set8...:   0%|          | 0/1161 [00:00<?, ?it/s]"
     ]
    },
    {
     "name": "stdout",
     "output_type": "stream",
     "text": [
      "Replacing training images with perturbed...\n"
     ]
    },
    {
     "name": "stderr",
     "output_type": "stream",
     "text": [
      "Replacing training male images for set set8...: 100%|██████████| 1161/1161 [00:00<00:00, 14021.39it/s]\n",
      "Replacing training male images for set set10...: 100%|██████████| 1161/1161 [00:00<00:00, 14557.81it/s]\n"
     ]
    },
    {
     "name": "stdout",
     "output_type": "stream",
     "text": [
      "Copying set1, set5, set8 and set10 from cv_datasets to target_fp...\n"
     ]
    },
    {
     "name": "stderr",
     "output_type": "stream",
     "text": [
      "Replacing training male images for set set1...: 100%|██████████| 2902/2902 [00:00<00:00, 17538.74it/s]\n",
      "Replacing training male images for set set5...:   0%|          | 0/2902 [00:00<?, ?it/s]"
     ]
    },
    {
     "name": "stdout",
     "output_type": "stream",
     "text": [
      "Replacing training images with perturbed...\n"
     ]
    },
    {
     "name": "stderr",
     "output_type": "stream",
     "text": [
      "Replacing training male images for set set5...: 100%|██████████| 2902/2902 [00:00<00:00, 13887.05it/s]\n",
      "Replacing training male images for set set8...: 100%|██████████| 2902/2902 [00:00<00:00, 13981.38it/s]\n",
      "Replacing training male images for set set10...: 100%|██████████| 2902/2902 [00:00<00:00, 14453.84it/s]\n"
     ]
    },
    {
     "name": "stdout",
     "output_type": "stream",
     "text": [
      "Copying set1, set5, set8 and set10 from cv_datasets to target_fp...\n"
     ]
    },
    {
     "name": "stderr",
     "output_type": "stream",
     "text": [
      "Replacing training male images for set set1...:  31%|███       | 1780/5805 [00:00<00:00, 17792.59it/s]"
     ]
    },
    {
     "name": "stdout",
     "output_type": "stream",
     "text": [
      "Replacing training images with perturbed...\n"
     ]
    },
    {
     "name": "stderr",
     "output_type": "stream",
     "text": [
      "Replacing training male images for set set1...: 100%|██████████| 5805/5805 [00:00<00:00, 17514.48it/s]\n",
      "Replacing training male images for set set5...: 100%|██████████| 5805/5805 [00:00<00:00, 15546.72it/s]\n",
      "Replacing training male images for set set8...: 100%|██████████| 5805/5805 [00:00<00:00, 14563.39it/s]\n",
      "Replacing training male images for set set10...: 100%|██████████| 5805/5805 [00:00<00:00, 14246.76it/s]\n"
     ]
    },
    {
     "name": "stdout",
     "output_type": "stream",
     "text": [
      "Copying set1, set5, set8 and set10 from cv_datasets to target_fp...\n"
     ]
    },
    {
     "name": "stderr",
     "output_type": "stream",
     "text": [
      "Replacing training male images for set set1...: 100%|██████████| 1161/1161 [00:00<00:00, 18056.44it/s]\n",
      "Replacing training female images for set set1...: 100%|██████████| 1161/1161 [00:00<00:00, 19182.33it/s]\n",
      "Replacing training male images for set set5...:   0%|          | 0/1161 [00:00<?, ?it/s]"
     ]
    },
    {
     "name": "stdout",
     "output_type": "stream",
     "text": [
      "Replacing training images with perturbed...\n"
     ]
    },
    {
     "name": "stderr",
     "output_type": "stream",
     "text": [
      "Replacing training male images for set set5...: 100%|██████████| 1161/1161 [00:00<00:00, 13569.60it/s]\n",
      "Replacing training female images for set set5...: 100%|██████████| 1161/1161 [00:00<00:00, 15680.42it/s]\n",
      "Replacing training male images for set set8...: 100%|██████████| 1161/1161 [00:00<00:00, 14260.53it/s]\n",
      "Replacing training female images for set set8...: 100%|██████████| 1161/1161 [00:00<00:00, 15596.95it/s]\n",
      "Replacing training male images for set set10...: 100%|██████████| 1161/1161 [00:00<00:00, 14477.61it/s]\n",
      "Replacing training female images for set set10...: 100%|██████████| 1161/1161 [00:00<00:00, 15560.72it/s]\n"
     ]
    },
    {
     "name": "stdout",
     "output_type": "stream",
     "text": [
      "Copying set1, set5, set8 and set10 from cv_datasets to target_fp...\n"
     ]
    },
    {
     "name": "stderr",
     "output_type": "stream",
     "text": [
      "Replacing training male images for set set1...: 100%|██████████| 2902/2902 [00:00<00:00, 17277.49it/s]\n",
      "Replacing training female images for set set1...:   0%|          | 0/2902 [00:00<?, ?it/s]"
     ]
    },
    {
     "name": "stdout",
     "output_type": "stream",
     "text": [
      "Replacing training images with perturbed...\n"
     ]
    },
    {
     "name": "stderr",
     "output_type": "stream",
     "text": [
      "Replacing training female images for set set1...: 100%|██████████| 2902/2902 [00:00<00:00, 18691.36it/s]\n",
      "Replacing training male images for set set5...: 100%|██████████| 2902/2902 [00:00<00:00, 12184.16it/s]\n",
      "Replacing training female images for set set5...: 100%|██████████| 2902/2902 [00:00<00:00, 14395.45it/s]\n",
      "Replacing training male images for set set8...: 100%|██████████| 2902/2902 [00:00<00:00, 13243.02it/s]\n",
      "Replacing training female images for set set8...: 100%|██████████| 2902/2902 [00:00<00:00, 13612.86it/s]\n",
      "Replacing training male images for set set10...: 100%|██████████| 2902/2902 [00:00<00:00, 14067.05it/s]\n",
      "Replacing training female images for set set10...: 100%|██████████| 2902/2902 [00:00<00:00, 15041.91it/s]\n"
     ]
    },
    {
     "name": "stdout",
     "output_type": "stream",
     "text": [
      "Copying set1, set5, set8 and set10 from cv_datasets to target_fp...\n"
     ]
    },
    {
     "name": "stderr",
     "output_type": "stream",
     "text": [
      "Replacing training male images for set set1...:  31%|███       | 1805/5805 [00:00<00:00, 18043.05it/s]"
     ]
    },
    {
     "name": "stdout",
     "output_type": "stream",
     "text": [
      "Replacing training images with perturbed...\n"
     ]
    },
    {
     "name": "stderr",
     "output_type": "stream",
     "text": [
      "Replacing training male images for set set1...: 100%|██████████| 5805/5805 [00:00<00:00, 17818.00it/s]\n",
      "Replacing training female images for set set1...: 100%|██████████| 5805/5805 [00:00<00:00, 17522.16it/s]\n",
      "Replacing training male images for set set5...: 100%|██████████| 5805/5805 [00:00<00:00, 14775.70it/s]\n",
      "Replacing training female images for set set5...: 100%|██████████| 5805/5805 [00:00<00:00, 15309.56it/s]\n",
      "Replacing training male images for set set8...: 100%|██████████| 5805/5805 [00:00<00:00, 14045.45it/s]\n",
      "Replacing training female images for set set8...: 100%|██████████| 5805/5805 [00:00<00:00, 14574.64it/s]\n",
      "Replacing training male images for set set10...: 100%|██████████| 5805/5805 [00:00<00:00, 13560.68it/s]\n",
      "Replacing training female images for set set10...: 100%|██████████| 5805/5805 [00:00<00:00, 14550.94it/s]\n"
     ]
    }
   ],
   "source": [
    "percs = [0.1, 0.25, 0.5]\n",
    "    \n",
    "# for female perturbation only\n",
    "for perc in percs:\n",
    "    gen_debiased_datasets('ori', perc)\n",
    "    \n",
    "# for male perturbation only\n",
    "for perc in percs: \n",
    "    gen_debiased_datasets(perc, 'ori')    \n",
    "\n",
    "# for both\n",
    "for perc in percs:\n",
    "    gen_debiased_datasets(perc, perc)"
   ]
  },
  {
   "cell_type": "code",
   "execution_count": null,
   "id": "3ffca836-6147-403e-86e8-e20e64210439",
   "metadata": {},
   "outputs": [],
   "source": []
  }
 ],
 "metadata": {
  "kernelspec": {
   "display_name": "fyp",
   "language": "python",
   "name": "fyp"
  },
  "language_info": {
   "codemirror_mode": {
    "name": "ipython",
    "version": 3
   },
   "file_extension": ".py",
   "mimetype": "text/x-python",
   "name": "python",
   "nbconvert_exporter": "python",
   "pygments_lexer": "ipython3",
   "version": "3.6.13"
  }
 },
 "nbformat": 4,
 "nbformat_minor": 5
}
