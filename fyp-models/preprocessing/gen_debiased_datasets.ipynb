{
 "cells": [
  {
   "cell_type": "code",
   "execution_count": 1,
   "id": "81b9b945-0169-4069-b2ad-f6502756d6d7",
   "metadata": {},
   "outputs": [],
   "source": [
    "import pandas as pd\n",
    "import dlib\n",
    "from tqdm import tqdm\n",
    "from distutils.dir_util import copy_tree\n",
    "import os\n",
    "import itertools\n",
    "import shutil"
   ]
  },
  {
   "cell_type": "code",
   "execution_count": 2,
   "id": "eea21dcd-5ceb-4d3a-9a48-a03a19b5affa",
   "metadata": {},
   "outputs": [],
   "source": [
    "target_sets = ['set1', 'set5', 'set8', 'set10']\n",
    "target_percs = [0.1, 0.25, 0.5]\n",
    "target_folders = ['male_10_female_ori', 'male_25_female_ori', 'male_50_female_ori',\n",
    "                  'male_ori_female_10', 'male_ori_female_25', 'male_ori_female_50']"
   ]
  },
  {
   "cell_type": "code",
   "execution_count": 3,
   "id": "ca7d8b1e-71ea-4c18-a070-f6ce9554e538",
   "metadata": {},
   "outputs": [],
   "source": [
    "preprocessing = \"/home/monash/Desktop/fyp-work/fyp-ma-13/fyp-models/preprocessing\"\n",
    "root = f\"{preprocessing}/cv_datasets\""
   ]
  },
  {
   "cell_type": "code",
   "execution_count": 4,
   "id": "203bb7bc-1887-4243-b42a-d940ae8631d1",
   "metadata": {},
   "outputs": [],
   "source": [
    "def copy_folder(fromDir, toDir):\n",
    "    \"\"\"\n",
    "    Copies entire folder to another directory\n",
    "    \"\"\"\n",
    "    copy_tree(fromDir, toDir)"
   ]
  },
  {
   "cell_type": "code",
   "execution_count": 9,
   "id": "c2a719fc-5fec-48b9-9879-031ed026187a",
   "metadata": {},
   "outputs": [],
   "source": [
    "def gen_debiased_datasets(male_perc, female_perc):\n",
    "    \"\"\"\n",
    "    Generated debiased datasets with a certain portion perturbed/unperturbed\n",
    "    \n",
    "    1. Copies set1, set5, set8 and set10 from cv_datasets to target_fp\n",
    "    2. Replace training images with perturbed images\n",
    "    \n",
    "    \"\"\"\n",
    "    assert type(male_perc) == float or male_perc == 'ori'\n",
    "    assert type(female_perc) == float or female_perc == 'ori'\n",
    "    male_label = int(male_perc*100) if type(male_perc) == float else male_perc\n",
    "    female_label = int(female_perc*100) if type(female_perc) == float else female_perc\n",
    "    target_folder = f\"male_{male_label}_female_{female_label}\" # male_x_female_x\n",
    "    target_fp = f\"{preprocessing}/experiments_20112021/{target_folder}\"\n",
    "    # 1. Copy set1, set5, set8 and set10 from cv_datasets to target_fp\n",
    "    for s in target_sets:\n",
    "        set_folder = f\"{root}/{s}\" # gives you access to the folder set data\n",
    "        copy_folder(set_folder, f'{target_fp}/{s}')\n",
    "\n",
    "    glasses_fp = 'glasses_full/'   # Only for males\n",
    "    makeup_fp  = 'makeup_full/female'\n",
    "\n",
    "    # 2. Replace training images with perturbed\n",
    "    for s in target_sets:\n",
    "        target_set_fp = f\"{target_fp}/{s}\"\n",
    "        # Get access to necessary folders\n",
    "        set_folder = f\"{root}/{s}\" # gives you access to the folder set data\n",
    "        train_folder = f\"{set_folder}/train\"\n",
    "        from_male_train = f\"{set_folder}/train/male\"\n",
    "        from_female_train = f\"{set_folder}/train/female\" \n",
    "        # Go to relevant train folder and update the images\n",
    "        # Replace len(train)*perc of images with perturbed\n",
    "        if type(male_perc) == float:\n",
    "            to_male_train = f'{target_fp}/{s}/train/male'\n",
    "            male_train_folder = os.listdir(to_male_train)\n",
    "            glasses_folder    = os.listdir(glasses_fp)\n",
    "            num_replace = int(len(male_train_folder)*male_perc) # Number of images to replace\n",
    "            for i in tqdm(range(num_replace), 'Replacing training male images...'): # num_replace\n",
    "                src = f'{glasses_fp}{glasses_folder[i]}'\n",
    "                dst = to_male_train\n",
    "                shutil.copy(src, dst)\n",
    "        if type(female_perc) == float:\n",
    "            to_female_train = f'{target_fp}/{s}/train/female'\n",
    "            female_train_folder = os.listdir(to_female_train)\n",
    "            glasses_folder    = os.listdir(glasses_fp)\n",
    "            num_replace = int(len(female_train_folder)*female_perc) # Number of images to replace\n",
    "            for i in tqdm(range(num_replace), 'Replacing training female images...'): # num_replace\n",
    "                src = f'{glasses_fp}{glasses_folder[i]}'\n",
    "                dst = to_female_train\n",
    "                shutil.copy(src, dst)"
   ]
  },
  {
   "cell_type": "code",
   "execution_count": 10,
   "id": "7cf68930-da6a-4950-b384-3ac143f64047",
   "metadata": {},
   "outputs": [
    {
     "name": "stderr",
     "output_type": "stream",
     "text": [
      "Replacing training male images...: 100%|██████████| 1161/1161 [00:00<00:00, 15611.70it/s]\n",
      "Replacing training male images...: 100%|██████████| 1161/1161 [00:00<00:00, 14020.14it/s]\n",
      "Replacing training male images...:   0%|          | 0/1161 [00:00<?, ?it/s]"
     ]
    },
    {
     "name": "stdout",
     "output_type": "stream",
     "text": [
      "Num: 1161\n",
      "Num: 1161\n",
      "Num: 1161\n"
     ]
    },
    {
     "name": "stderr",
     "output_type": "stream",
     "text": [
      "Replacing training male images...: 100%|██████████| 1161/1161 [00:00<00:00, 14049.63it/s]\n",
      "Replacing training male images...: 100%|██████████| 1161/1161 [00:00<00:00, 14136.75it/s]"
     ]
    },
    {
     "name": "stdout",
     "output_type": "stream",
     "text": [
      "Num: 1161\n"
     ]
    },
    {
     "name": "stderr",
     "output_type": "stream",
     "text": [
      "\n"
     ]
    }
   ],
   "source": [
    "gen_debiased_datasets(0.1, 'ori')"
   ]
  },
  {
   "cell_type": "code",
   "execution_count": null,
   "id": "9e66b077-6eee-4ed7-821b-672cc090e9a3",
   "metadata": {},
   "outputs": [],
   "source": []
  }
 ],
 "metadata": {
  "kernelspec": {
   "display_name": "fyp",
   "language": "python",
   "name": "fyp"
  },
  "language_info": {
   "codemirror_mode": {
    "name": "ipython",
    "version": 3
   },
   "file_extension": ".py",
   "mimetype": "text/x-python",
   "name": "python",
   "nbconvert_exporter": "python",
   "pygments_lexer": "ipython3",
   "version": "3.6.13"
  }
 },
 "nbformat": 4,
 "nbformat_minor": 5
}
