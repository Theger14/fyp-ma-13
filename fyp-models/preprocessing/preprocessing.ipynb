{
 "cells": [
  {
   "cell_type": "code",
   "execution_count": 1,
   "id": "30c6625b",
   "metadata": {},
   "outputs": [],
   "source": [
    "# @inproceedings{karkkainenfairface,\n",
    "#   title={FairFace: Face Attribute Dataset for Balanced Race, Gender, and Age for Bias Measurement and Mitigation},\n",
    "#   author={Karkkainen, Kimmo and Joo, Jungseock},\n",
    "#   booktitle={Proceedings of the IEEE/CVF Winter Conference on Applications of Computer Vision},\n",
    "#   year={2021},\n",
    "#   pages={1548--1558}\n",
    "# }"
   ]
  },
  {
   "cell_type": "code",
   "execution_count": 10,
   "id": "18b9eb18",
   "metadata": {},
   "outputs": [],
   "source": [
    "import pandas as pd\n",
    "import dlib"
   ]
  },
  {
   "cell_type": "code",
   "execution_count": 11,
   "id": "a8f2eb33",
   "metadata": {},
   "outputs": [],
   "source": [
    "fairface_train = pd.read_csv(\"fairface_label_train.csv\")\n",
    "fairface_val = pd.read_csv(\"fairface_label_val.csv\")"
   ]
  },
  {
   "cell_type": "code",
   "execution_count": 13,
   "id": "1a033d0b-7952-43a7-acc9-0cc9235d5c0f",
   "metadata": {},
   "outputs": [],
   "source": [
    "# I'm sorry for doing this\n",
    "def give_filenames(dataset):\n",
    "    male_state = (dataset['age'] == '20-29') & (dataset['race'] == 'White') & (dataset['gender'] == 'Male') \n",
    "    female_state = (dataset['age'] == '20-29') & (dataset['race'] == 'White') & (dataset['gender'] == 'Female') \n",
    "    male = dataset[male_state][:301]\n",
    "    female = dataset[female_state][:301]\n",
    "    \n",
    "    male_filenames = []\n",
    "    for i in range(len(male)):\n",
    "        male_filenames.append(male.iloc[i]['file'])\n",
    "        \n",
    "    female_filenames = []\n",
    "    for i in range(len(female)):\n",
    "        female_filenames.append(female.iloc[i]['file'])\n",
    "    return male_filenames, female_filenames"
   ]
  },
  {
   "cell_type": "markdown",
   "id": "027b9f74-7c4e-427b-b0c4-39e67bb6b693",
   "metadata": {},
   "source": [
    "## For Training Dataset"
   ]
  },
  {
   "cell_type": "code",
   "execution_count": 135,
   "id": "1ec7f46e-f1bb-4e6d-8e77-87bd47dfd835",
   "metadata": {
    "tags": []
   },
   "outputs": [],
   "source": [
    "# Split training dataset to male and female\n",
    "\n",
    "# import os\n",
    "# import shutil\n",
    "\n",
    "# for file in male_filenames:\n",
    "#     filename_from = os.path.join('fairface-img-margin025-trainval/', file)\n",
    "#     filename_to = os.path.join('male/', file[6:])\n",
    "# #     os.rename(filename_from, filename_to)\n",
    "#     if (os.path.exists(filename_from)):\n",
    "#         shutil.move(filename_from, filename_to)\n",
    "#         os.replace(filename_from, filename_to)\n",
    "#         filein.close()"
   ]
  },
  {
   "cell_type": "markdown",
   "id": "15fff620-639b-4c7d-b827-3612b0832a0c",
   "metadata": {},
   "source": [
    "## For Testing Dataset"
   ]
  },
  {
   "cell_type": "code",
   "execution_count": 142,
   "id": "7162b5db-c7e1-490c-bcd6-4cc6cd3989ee",
   "metadata": {},
   "outputs": [],
   "source": [
    "# male_fn, female_fn = give_filenames(fairface_val)"
   ]
  },
  {
   "cell_type": "code",
   "execution_count": 148,
   "id": "7fcb40c7-ea72-4aac-b8fe-35b1d18c40fb",
   "metadata": {},
   "outputs": [],
   "source": [
    "# Split val dataset to male and female\n",
    "\n",
    "# import os\n",
    "# import shutil\n",
    "\n",
    "# for file in female_fn:\n",
    "#     filename_from = os.path.join('fairface-img-margin025-trainval/', file)\n",
    "#     filename_to = os.path.join('female/', file[4:])\n",
    "# #     os.rename(filename_from, filename_to)\n",
    "#     if (os.path.exists(filename_from)):\n",
    "#         shutil.move(filename_from, filename_to)\n",
    "#         os.replace(filename_from, filename_to)\n",
    "#         filein.close()"
   ]
  },
  {
   "cell_type": "markdown",
   "id": "48e45a1e-4f9e-4336-80ef-b106b7a506af",
   "metadata": {},
   "source": [
    "## Make Up Code"
   ]
  },
  {
   "cell_type": "code",
   "execution_count": 28,
   "id": "97feeb4b-a8c3-40fa-8d4a-98f12c2f14d7",
   "metadata": {},
   "outputs": [],
   "source": [
    "from PIL import Image, ImageDraw\n",
    "import face_recognition\n",
    "\n",
    "def save_makeup_pic(filename):\n",
    "    # Load the jpg file into a numpy array\n",
    "    image = face_recognition.load_image_file(\"train_data/female/\" + filename[6:])   # Change this to male or female\n",
    "\n",
    "    # Find all facial features in all the faces in the image\n",
    "    face_landmarks_list = face_recognition.face_landmarks(image)\n",
    "\n",
    "    pil_image = Image.fromarray(image)\n",
    "    for face_landmarks in face_landmarks_list:\n",
    "        d = ImageDraw.Draw(pil_image, 'RGBA')\n",
    "\n",
    "        # Make the eyebrows into a nightmare\n",
    "        d.polygon(face_landmarks['left_eyebrow'], fill=(68, 54, 39, 128))\n",
    "        d.polygon(face_landmarks['right_eyebrow'], fill=(68, 54, 39, 128))\n",
    "        d.line(face_landmarks['left_eyebrow'], fill=(68, 54, 39, 150), width=5)\n",
    "        d.line(face_landmarks['right_eyebrow'], fill=(68, 54, 39, 150), width=5)\n",
    "\n",
    "        # Gloss the lips\n",
    "        d.polygon(face_landmarks['top_lip'], fill=(150, 0, 0, 128))\n",
    "        d.polygon(face_landmarks['bottom_lip'], fill=(150, 0, 0, 128))\n",
    "        d.line(face_landmarks['top_lip'], fill=(150, 0, 0, 64), width=8)\n",
    "        d.line(face_landmarks['bottom_lip'], fill=(150, 0, 0, 64), width=8)\n",
    "\n",
    "        # Sparkle the eyes\n",
    "        d.polygon(face_landmarks['left_eye'], fill=(255, 255, 255, 30))\n",
    "        d.polygon(face_landmarks['right_eye'], fill=(255, 255, 255, 30))\n",
    "\n",
    "        # Apply some eyeliner\n",
    "        d.line(face_landmarks['left_eye'] + [face_landmarks['left_eye'][0]], fill=(0, 0, 0, 110), width=6)\n",
    "        d.line(face_landmarks['right_eye'] + [face_landmarks['right_eye'][0]], fill=(0, 0, 0, 110), width=6)\n",
    "\n",
    "        pil_image.save('female/makeup_' + filename[6:])    # Change this to male or female"
   ]
  },
  {
   "cell_type": "markdown",
   "id": "c551615f-5571-4d11-b8ae-7afb4d50af2d",
   "metadata": {},
   "source": [
    "## Make Up for Male Training Dataset"
   ]
  },
  {
   "cell_type": "code",
   "execution_count": 29,
   "id": "758b5152-080f-455f-a2fe-0f037f0f216d",
   "metadata": {},
   "outputs": [],
   "source": [
    "male_fn, female_fn = give_filenames(fairface_train)\n",
    "for fn in female_fn:\n",
    "    save_makeup_pic(fn)"
   ]
  },
  {
   "cell_type": "code",
   "execution_count": null,
   "id": "c5106005-9df1-4ad7-8ff9-f98b7dfd4c5c",
   "metadata": {},
   "outputs": [],
   "source": []
  },
  {
   "cell_type": "code",
   "execution_count": null,
   "id": "c4aa7685-f6ff-4253-bc18-3824095e5279",
   "metadata": {},
   "outputs": [],
   "source": []
  }
 ],
 "metadata": {
  "kernelspec": {
   "display_name": "Python 3.6.13 64-bit (conda)",
   "language": "python",
   "name": "python3613jvsc74a57bd02b0a2ff3d0363b1833a0b4f06bb7bd51ce576bcc0b4945341d1fa913a915af95"
  },
  "language_info": {
   "codemirror_mode": {
    "name": "ipython",
    "version": 3
   },
   "file_extension": ".py",
   "mimetype": "text/x-python",
   "name": "python",
   "nbconvert_exporter": "python",
   "pygments_lexer": "ipython3",
   "version": "3.6.13"
  }
 },
 "nbformat": 4,
 "nbformat_minor": 5
}
