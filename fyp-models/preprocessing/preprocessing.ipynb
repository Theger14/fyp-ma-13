{
 "cells": [
  {
   "cell_type": "code",
   "execution_count": 1,
   "id": "88cdc75b",
   "metadata": {},
   "outputs": [],
   "source": [
    "# @inproceedings{karkkainenfairface,\n",
    "#   title={FairFace: Face Attribute Dataset for Balanced Race, Gender, and Age for Bias Measurement and Mitigation},\n",
    "#   author={Karkkainen, Kimmo and Joo, Jungseock},\n",
    "#   booktitle={Proceedings of the IEEE/CVF Winter Conference on Applications of Computer Vision},\n",
    "#   year={2021},\n",
    "#   pages={1548--1558}\n",
    "# }"
   ]
  },
  {
   "cell_type": "code",
   "execution_count": 1,
   "id": "03b4db5d",
   "metadata": {},
   "outputs": [],
   "source": [
    "import pandas as pd\n",
    "import dlib"
   ]
  },
  {
   "cell_type": "code",
   "execution_count": 53,
   "id": "876c18df",
   "metadata": {},
   "outputs": [],
   "source": [
    "fairface_train = pd.read_csv(\"fairface_label_train.csv\")\n",
    "fairface_val = pd.read_csv(\"fairface_label_val.csv\")"
   ]
  },
  {
   "cell_type": "code",
   "execution_count": 84,
   "id": "8122299b",
   "metadata": {},
   "outputs": [],
   "source": [
    "def give_filenames(dataset):\n",
    "    male_state = (dataset['age'] == '20-29') & (dataset['gender'] == 'Male') \n",
    "    female_state = (dataset['age'] == '20-29') & (dataset['gender'] == 'Female')\n",
    "    male = dataset[male_state][:2001]\n",
    "    female = dataset[female_state][:2001]\n",
    "    \n",
    "    male_filenames = []\n",
    "    for i in range(len(male)):\n",
    "        male_filenames.append(male.iloc[i]['file'])\n",
    "        \n",
    "    female_filenames = []\n",
    "    for i in range(len(female)):\n",
    "        female_filenames.append(female.iloc[i]['file'])\n",
    "    return male_filenames, female_filenames"
   ]
  },
  {
   "cell_type": "code",
   "execution_count": 55,
   "id": "006b4789-b94d-44c3-9709-23dc73368d19",
   "metadata": {},
   "outputs": [],
   "source": [
    "male_filenames, female_filenames = give_filenames(fairface_train)"
   ]
  },
  {
   "cell_type": "markdown",
   "id": "46d99ce9",
   "metadata": {},
   "source": [
    "## For Training Dataset"
   ]
  },
  {
   "cell_type": "code",
   "execution_count": 57,
   "id": "37a7e178",
   "metadata": {
    "tags": []
   },
   "outputs": [],
   "source": [
    "# Split training dataset to male and female\n",
    "\n",
    "import os\n",
    "import shutil\n",
    "for file in female_filenames:\n",
    "    filename_from = os.path.join('fairface-img-margin025-trainval/', file)\n",
    "    filename_to = os.path.join('female/', file[6:])  #     os.rename(filename_from, filename_to)\n",
    "    try:\n",
    "        if (os.path.exists(filename_from)):\n",
    "            shutil.move(filename_from, filename_to)\n",
    "            os.replace(filename_from, filename_to)\n",
    "            filein.close()\n",
    "    except:\n",
    "        continue"
   ]
  },
  {
   "cell_type": "markdown",
   "id": "f81fffeb",
   "metadata": {},
   "source": [
    "## For Testing Dataset"
   ]
  },
  {
   "cell_type": "code",
   "execution_count": 58,
   "id": "78617d01",
   "metadata": {},
   "outputs": [],
   "source": [
    "male_fn, female_fn = give_filenames(fairface_val)"
   ]
  },
  {
   "cell_type": "code",
   "execution_count": 60,
   "id": "df014afc",
   "metadata": {},
   "outputs": [],
   "source": [
    "# Split val dataset to male and female\n",
    "\n",
    "import os\n",
    "import shutil\n",
    "\n",
    "for file in male_fn:\n",
    "    filename_from = os.path.join('fairface-img-margin025-trainval/', file)\n",
    "    filename_to = os.path.join('male/', file[4:])\n",
    "#     os.rename(filename_from, filename_to)\n",
    "    try:\n",
    "        if (os.path.exists(filename_from)):\n",
    "            shutil.move(filename_from, filename_to)\n",
    "            os.replace(filename_from, filename_to)\n",
    "            filein.close()\n",
    "    except:\n",
    "        continue"
   ]
  },
  {
   "cell_type": "markdown",
   "id": "2df801ef",
   "metadata": {},
   "source": [
    "## Make Up Code"
   ]
  },
  {
   "cell_type": "code",
   "execution_count": 61,
   "id": "ce20a733-2bce-4644-ae79-7401a32d3fa6",
   "metadata": {},
   "outputs": [],
   "source": [
    "from pathlib import Path"
   ]
  },
  {
   "cell_type": "code",
   "execution_count": 88,
   "id": "c3bc1520",
   "metadata": {},
   "outputs": [],
   "source": [
    "from PIL import Image, ImageDraw\n",
    "import face_recognition\n",
    "\n",
    "def save_makeup_pic(filename):\n",
    "    # Load the jpg file into a numpy array\n",
    "    image = face_recognition.load_image_file(\"train_data/female/\" + filename[6:])   # Change this to male or female\n",
    "\n",
    "    # Find all facial features in all the faces in the image\n",
    "    face_landmarks_list = face_recognition.face_landmarks(image)\n",
    "\n",
    "    pil_image = Image.fromarray(image)\n",
    "    for face_landmarks in face_landmarks_list:\n",
    "        d = ImageDraw.Draw(pil_image, 'RGBA')\n",
    "\n",
    "        # Make the eyebrows into a nightmare\n",
    "        d.polygon(face_landmarks['left_eyebrow'], fill=(68, 54, 39, 128))\n",
    "        d.polygon(face_landmarks['right_eyebrow'], fill=(68, 54, 39, 128))\n",
    "        d.line(face_landmarks['left_eyebrow'], fill=(68, 54, 39, 150), width=5)\n",
    "        d.line(face_landmarks['right_eyebrow'], fill=(68, 54, 39, 150), width=5)\n",
    "\n",
    "        # Gloss the lips\n",
    "        d.polygon(face_landmarks['top_lip'], fill=(150, 0, 0, 128))\n",
    "        d.polygon(face_landmarks['bottom_lip'], fill=(150, 0, 0, 128))\n",
    "        d.line(face_landmarks['top_lip'], fill=(150, 0, 0, 64), width=8)\n",
    "        d.line(face_landmarks['bottom_lip'], fill=(150, 0, 0, 64), width=8)\n",
    "\n",
    "        # Sparkle the eyes\n",
    "        d.polygon(face_landmarks['left_eye'], fill=(255, 255, 255, 30))\n",
    "        d.polygon(face_landmarks['right_eye'], fill=(255, 255, 255, 30))\n",
    "\n",
    "        # Apply some eyeliner\n",
    "        d.line(face_landmarks['left_eye'] + [face_landmarks['left_eye'][0]], fill=(0, 0, 0, 110), width=6)\n",
    "        d.line(face_landmarks['right_eye'] + [face_landmarks['right_eye'][0]], fill=(0, 0, 0, 110), width=6)\n",
    "        fn = Path('female/makeup_' + filename[6:])\n",
    "        if not fn.is_dir():\n",
    "            pil_image.save('female/makeup_' + filename[6:])    # Change this to male or female"
   ]
  },
  {
   "cell_type": "markdown",
   "id": "607a0cc1",
   "metadata": {},
   "source": [
    "## Make Up for Male Training Dataset"
   ]
  },
  {
   "cell_type": "code",
   "execution_count": 89,
   "id": "856cd4ee-da9d-427f-b6b5-c3fea019a533",
   "metadata": {},
   "outputs": [],
   "source": [
    "male_fn, female_fn = give_filenames(fairface_train)"
   ]
  },
  {
   "cell_type": "code",
   "execution_count": 90,
   "id": "224ef8f1",
   "metadata": {},
   "outputs": [],
   "source": [
    "# For generated makeup dataset\n",
    "for fn in female_fn:\n",
    "    save_makeup_pic(fn)"
   ]
  },
  {
   "cell_type": "code",
   "execution_count": null,
   "id": "30af62a1",
   "metadata": {},
   "outputs": [],
   "source": []
  }
 ],
 "metadata": {
  "kernelspec": {
   "display_name": "fyp",
   "language": "python",
   "name": "fyp"
  },
  "language_info": {
   "codemirror_mode": {
    "name": "ipython",
    "version": 3
   },
   "file_extension": ".py",
   "mimetype": "text/x-python",
   "name": "python",
   "nbconvert_exporter": "python",
   "pygments_lexer": "ipython3",
   "version": "3.6.13"
  }
 },
 "nbformat": 4,
 "nbformat_minor": 5
}
