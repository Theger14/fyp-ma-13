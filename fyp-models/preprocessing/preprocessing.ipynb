{
 "cells": [
  {
   "cell_type": "code",
   "execution_count": 1,
   "id": "30c6625b",
   "metadata": {},
   "outputs": [],
   "source": [
    "# @inproceedings{karkkainenfairface,\n",
    "#   title={FairFace: Face Attribute Dataset for Balanced Race, Gender, and Age for Bias Measurement and Mitigation},\n",
    "#   author={Karkkainen, Kimmo and Joo, Jungseock},\n",
    "#   booktitle={Proceedings of the IEEE/CVF Winter Conference on Applications of Computer Vision},\n",
    "#   year={2021},\n",
    "#   pages={1548--1558}\n",
    "# }"
   ]
  },
  {
   "cell_type": "code",
   "execution_count": 82,
   "id": "18b9eb18",
   "metadata": {},
   "outputs": [],
   "source": [
    "import pandas as pd\n",
    "import dlib"
   ]
  },
  {
   "cell_type": "code",
   "execution_count": 118,
   "id": "a8f2eb33",
   "metadata": {},
   "outputs": [],
   "source": [
    "fairface_train = pd.read_csv(\"fairface_label_train.csv\")\n",
    "fairface_val = pd.read_csv(\"fairface_label_val.csv\")"
   ]
  },
  {
   "cell_type": "code",
   "execution_count": 134,
   "id": "1a033d0b-7952-43a7-acc9-0cc9235d5c0f",
   "metadata": {},
   "outputs": [],
   "source": [
    "# I'm sorry for doing this\n",
    "def give_filenames(dataset):\n",
    "    male_state = (dataset['age'] == '20-29') & (dataset['race'] == 'White') & (dataset['gender'] == 'Male') \n",
    "    female_state = (dataset['age'] == '20-29') & (dataset['race'] == 'White') & (dataset['gender'] == 'Female') \n",
    "    male = dataset[male_state][:301]\n",
    "    female = dataset[female_state][:301]\n",
    "    \n",
    "    male_filenames = []\n",
    "    for i in range(len(male)):\n",
    "        male_filenames.append(male.iloc[i]['file'])\n",
    "        \n",
    "    female_filenames = []\n",
    "    for i in range(len(female)):\n",
    "        female_filenames.append(female.iloc[i]['file'])\n",
    "    return male_filenames, female_filenames"
   ]
  },
  {
   "cell_type": "markdown",
   "id": "027b9f74-7c4e-427b-b0c4-39e67bb6b693",
   "metadata": {},
   "source": [
    "## For Training Dataset"
   ]
  },
  {
   "cell_type": "code",
   "execution_count": 135,
   "id": "1ec7f46e-f1bb-4e6d-8e77-87bd47dfd835",
   "metadata": {
    "tags": []
   },
   "outputs": [],
   "source": [
    "# Split training dataset to male and female\n",
    "\n",
    "# import os\n",
    "# import shutil\n",
    "\n",
    "# for file in male_filenames:\n",
    "#     filename_from = os.path.join('fairface-img-margin025-trainval/', file)\n",
    "#     filename_to = os.path.join('male/', file[6:])\n",
    "# #     os.rename(filename_from, filename_to)\n",
    "#     if (os.path.exists(filename_from)):\n",
    "#         shutil.move(filename_from, filename_to)\n",
    "#         os.replace(filename_from, filename_to)\n",
    "#         filein.close()"
   ]
  },
  {
   "cell_type": "markdown",
   "id": "15fff620-639b-4c7d-b827-3612b0832a0c",
   "metadata": {},
   "source": [
    "## For Testing Dataset"
   ]
  },
  {
   "cell_type": "code",
   "execution_count": 142,
   "id": "7162b5db-c7e1-490c-bcd6-4cc6cd3989ee",
   "metadata": {},
   "outputs": [],
   "source": [
    "# male_fn, female_fn = give_filenames(fairface_val)"
   ]
  },
  {
   "cell_type": "code",
   "execution_count": 148,
   "id": "7fcb40c7-ea72-4aac-b8fe-35b1d18c40fb",
   "metadata": {},
   "outputs": [],
   "source": [
    "# Split val dataset to male and female\n",
    "\n",
    "# import os\n",
    "# import shutil\n",
    "\n",
    "# for file in female_fn:\n",
    "#     filename_from = os.path.join('fairface-img-margin025-trainval/', file)\n",
    "#     filename_to = os.path.join('female/', file[4:])\n",
    "# #     os.rename(filename_from, filename_to)\n",
    "#     if (os.path.exists(filename_from)):\n",
    "#         shutil.move(filename_from, filename_to)\n",
    "#         os.replace(filename_from, filename_to)\n",
    "#         filein.close()"
   ]
  },
  {
   "cell_type": "code",
   "execution_count": null,
   "id": "97feeb4b-a8c3-40fa-8d4a-98f12c2f14d7",
   "metadata": {},
   "outputs": [],
   "source": []
  }
 ],
 "metadata": {
  "kernelspec": {
   "display_name": "Python 3.6.13 64-bit (conda)",
   "language": "python",
   "name": "python3613jvsc74a57bd02b0a2ff3d0363b1833a0b4f06bb7bd51ce576bcc0b4945341d1fa913a915af95"
  },
  "language_info": {
   "codemirror_mode": {
    "name": "ipython",
    "version": 3
   },
   "file_extension": ".py",
   "mimetype": "text/x-python",
   "name": "python",
   "nbconvert_exporter": "python",
   "pygments_lexer": "ipython3",
   "version": "3.6.13"
  }
 },
 "nbformat": 4,
 "nbformat_minor": 5
}
