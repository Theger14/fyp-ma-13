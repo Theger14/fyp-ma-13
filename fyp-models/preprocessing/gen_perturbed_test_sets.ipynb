{
 "cells": [
  {
   "cell_type": "raw",
   "id": "0447758b-db3a-4ca7-b018-c2a2946d1a34",
   "metadata": {},
   "source": [
    "@misc{anwar2020masked,\n",
    "title={Masked Face Recognition for Secure Authentication},\n",
    "author={Aqeel Anwar and Arijit Raychowdhury},\n",
    "year={2020},\n",
    "eprint={2008.11104},\n",
    "archivePrefix={arXiv},\n",
    "primaryClass={cs.CV}\n",
    "} "
   ]
  },
  {
   "cell_type": "code",
   "execution_count": 1,
   "id": "aa25dd90-4696-4ec1-bcb6-fa8b4aae76a9",
   "metadata": {},
   "outputs": [],
   "source": [
    "import pandas as pd\n",
    "import dlib\n",
    "from tqdm import tqdm\n",
    "import os\n",
    "import itertools\n",
    "import shutil\n",
    "from pathlib import Path\n",
    "from PIL import Image, ImageDraw\n",
    "import face_recognition\n",
    "from perturb_filters.glasses.put_glasses import apply_glasses"
   ]
  },
  {
   "cell_type": "code",
   "execution_count": 2,
   "id": "a4f830af-f53d-4ce9-9893-d7ceb797a465",
   "metadata": {},
   "outputs": [],
   "source": [
    "LABELS = ['female', 'male']"
   ]
  },
  {
   "cell_type": "code",
   "execution_count": 28,
   "id": "13cb8e67-5dd8-41a4-9308-ef1cb20af4a9",
   "metadata": {},
   "outputs": [],
   "source": [
    "\n",
    "\n",
    "def apply_makeup(parent_folder, image_fn ,output_fn):\n",
    "    \"\"\"\n",
    "    Applies make up filter on a single image and saves it to a given directory.\n",
    "    \n",
    "    parent_folder : str\n",
    "        Parent folder of image\n",
    "    image_fn : str\n",
    "        Filename of image\n",
    "    output_fn : str\n",
    "        Output image to save\n",
    "    \"\"\"\n",
    "    # Load the jpg file into a numpy array\n",
    "    image = face_recognition.load_image_file(parent_folder+image_fn)\n",
    "\n",
    "    # Find all facial features in all the faces in the image\n",
    "    face_landmarks_list = face_recognition.face_landmarks(image)\n",
    "\n",
    "    pil_image = Image.fromarray(image)\n",
    "    for face_landmarks in face_landmarks_list:\n",
    "        d = ImageDraw.Draw(pil_image, 'RGBA')\n",
    "\n",
    "        # Make the eyebrows into a nightmare\n",
    "        d.polygon(face_landmarks['left_eyebrow'], fill=(68, 54, 39, 128))\n",
    "        d.polygon(face_landmarks['right_eyebrow'], fill=(68, 54, 39, 128))\n",
    "        d.line(face_landmarks['left_eyebrow'], fill=(68, 54, 39, 150), width=5)\n",
    "        d.line(face_landmarks['right_eyebrow'], fill=(68, 54, 39, 150), width=5)\n",
    "\n",
    "        # Gloss the lips\n",
    "        d.polygon(face_landmarks['top_lip'], fill=(150, 0, 0, 128))\n",
    "        d.polygon(face_landmarks['bottom_lip'], fill=(150, 0, 0, 128))\n",
    "        d.line(face_landmarks['top_lip'], fill=(150, 0, 0, 64), width=8)\n",
    "        d.line(face_landmarks['bottom_lip'], fill=(150, 0, 0, 64), width=8)\n",
    "\n",
    "        # Sparkle the eyes\n",
    "        d.polygon(face_landmarks['left_eye'], fill=(255, 255, 255, 30))\n",
    "        d.polygon(face_landmarks['right_eye'], fill=(255, 255, 255, 30))\n",
    "\n",
    "        # Apply some eyeliner\n",
    "        d.line(face_landmarks['left_eye'] + [face_landmarks['left_eye'][0]], fill=(0, 0, 0, 110), width=6)\n",
    "        d.line(face_landmarks['right_eye'] + [face_landmarks['right_eye'][0]], fill=(0, 0, 0, 110), width=6)\n",
    "        fn = Path(output_fn + image_fn)\n",
    "        if not fn.is_dir():\n",
    "            pil_image.save(output_fn + image_fn)    # Change this to male or female"
   ]
  },
  {
   "cell_type": "code",
   "execution_count": 29,
   "id": "c795faa6-0c47-4aec-8c05-7476c930bc0d",
   "metadata": {
    "collapsed": true,
    "jupyter": {
     "outputs_hidden": true
    },
    "tags": []
   },
   "outputs": [
    {
     "name": "stderr",
     "output_type": "stream",
     "text": [
      "Generating makeup for female images...: 100%|██████████| 1935/1935 [00:42<00:00, 45.20it/s]\n",
      "Generating makeup for male images...: 100%|██████████| 1935/1935 [00:42<00:00, 45.22it/s]\n",
      "Generating makeup for female images...: 100%|██████████| 1935/1935 [00:42<00:00, 45.17it/s]\n",
      "Generating makeup for male images...: 100%|██████████| 1935/1935 [00:42<00:00, 45.73it/s]\n",
      "Generating makeup for female images...: 100%|██████████| 1935/1935 [00:42<00:00, 45.35it/s]\n",
      "Generating makeup for male images...: 100%|██████████| 1935/1935 [00:42<00:00, 46.01it/s]\n",
      "Generating makeup for female images...: 100%|██████████| 1935/1935 [00:42<00:00, 45.65it/s]\n",
      "Generating makeup for male images...: 100%|██████████| 1935/1935 [00:41<00:00, 46.07it/s]\n",
      "Generating makeup for female images...: 100%|██████████| 1935/1935 [00:42<00:00, 46.02it/s]\n",
      "Generating makeup for male images...: 100%|██████████| 1935/1935 [00:42<00:00, 45.41it/s]\n",
      "Generating makeup for female images...: 100%|██████████| 1935/1935 [00:42<00:00, 45.40it/s]\n",
      "Generating makeup for male images...: 100%|██████████| 1935/1935 [00:42<00:00, 45.90it/s]\n",
      "Generating makeup for female images...: 100%|██████████| 1935/1935 [00:42<00:00, 45.42it/s]\n",
      "Generating makeup for male images...: 100%|██████████| 1935/1935 [00:42<00:00, 45.52it/s]\n",
      "Generating makeup for female images...: 100%|██████████| 1935/1935 [00:42<00:00, 45.31it/s]\n",
      "Generating makeup for male images...: 100%|██████████| 1935/1935 [00:42<00:00, 45.60it/s]\n",
      "Generating makeup for female images...: 100%|██████████| 1935/1935 [00:42<00:00, 45.22it/s]\n",
      "Generating makeup for male images...: 100%|██████████| 1935/1935 [00:42<00:00, 45.59it/s]\n",
      "Generating makeup for female images...: 100%|██████████| 1935/1935 [00:43<00:00, 44.96it/s]\n",
      "Generating makeup for male images...: 100%|██████████| 1935/1935 [00:42<00:00, 45.18it/s]\n"
     ]
    }
   ],
   "source": [
    "def gen_test_makeup():\n",
    "    \"\"\"\n",
    "    Generates makeup test datasets for each CV set\n",
    "    \n",
    "    \"\"\"\n",
    "    original = 'cv_datasets/'\n",
    "    folder = os.listdir(original)\n",
    "    for set_fn in folder:\n",
    "        for gender in LABELS:\n",
    "            ori_path = original + set_fn + '/test/' + gender + '/'\n",
    "            temp = os.listdir(ori_path)\n",
    "            for i in tqdm(range(len(temp)), \"Generating makeup for {} images...\".format(gender)):\n",
    "                image_fn = temp[i]\n",
    "                target = original + set_fn + \"/test_\"\n",
    "                target_makeup = target+'makeup/'+ gender + '/'\n",
    "\n",
    "                # Generate make up dataset\n",
    "                    # Create new folder if doesn't already exist\n",
    "                Path(target_makeup).mkdir(parents=True, exist_ok=True)    \n",
    "                # Save image in this folder\n",
    "                    # If doesn't already exist\n",
    "                if not Path(target_makeup + image_fn).is_dir():\n",
    "                    apply_makeup(ori_path, image_fn, target_makeup)"
   ]
  },
  {
   "cell_type": "code",
   "execution_count": 3,
   "id": "f295e3dc-0fa8-4ee0-9f18-6fb2813af769",
   "metadata": {
    "tags": []
   },
   "outputs": [
    {
     "name": "stderr",
     "output_type": "stream",
     "text": [
      "Generating glasses for female images...: 100%|██████████| 1935/1935 [09:03<00:00,  3.56it/s]\n",
      "Generating glasses for male images...: 100%|██████████| 1935/1935 [08:45<00:00,  3.68it/s]\n",
      "Generating glasses for female images...: 100%|██████████| 1935/1935 [08:58<00:00,  3.59it/s]\n",
      "Generating glasses for male images...: 100%|██████████| 1935/1935 [08:48<00:00,  3.66it/s]\n",
      "Generating glasses for female images...: 100%|██████████| 1935/1935 [08:54<00:00,  3.62it/s]\n",
      "Generating glasses for male images...: 100%|██████████| 1935/1935 [08:52<00:00,  3.63it/s]\n",
      "Generating glasses for female images...: 100%|██████████| 1935/1935 [09:04<00:00,  3.56it/s]\n",
      "Generating glasses for male images...: 100%|██████████| 1935/1935 [08:51<00:00,  3.64it/s]\n",
      "Generating glasses for female images...: 100%|██████████| 1935/1935 [08:56<00:00,  3.60it/s]\n",
      "Generating glasses for male images...: 100%|██████████| 1935/1935 [08:36<00:00,  3.74it/s]\n",
      "Generating glasses for female images...: 100%|██████████| 1935/1935 [08:48<00:00,  3.66it/s]\n",
      "Generating glasses for male images...: 100%|██████████| 1935/1935 [08:41<00:00,  3.71it/s]\n",
      "Generating glasses for female images...: 100%|██████████| 1935/1935 [08:50<00:00,  3.65it/s]\n",
      "Generating glasses for male images...: 100%|██████████| 1935/1935 [08:41<00:00,  3.71it/s]\n",
      "Generating glasses for female images...: 100%|██████████| 1935/1935 [08:49<00:00,  3.65it/s]\n",
      "Generating glasses for male images...: 100%|██████████| 1935/1935 [08:38<00:00,  3.73it/s]\n",
      "Generating glasses for female images...: 100%|██████████| 1935/1935 [08:51<00:00,  3.64it/s]\n",
      "Generating glasses for male images...: 100%|██████████| 1935/1935 [08:38<00:00,  3.73it/s]\n",
      "Generating glasses for female images...: 100%|██████████| 1935/1935 [08:48<00:00,  3.66it/s]\n",
      "Generating glasses for male images...: 100%|██████████| 1935/1935 [08:39<00:00,  3.73it/s]\n"
     ]
    }
   ],
   "source": [
    "original = 'cv_datasets/'\n",
    "folder = os.listdir(original)\n",
    "for set_fn in folder:\n",
    "    for gender in LABELS:\n",
    "        ori_path = original + set_fn + '/test/' + gender + '/'\n",
    "        temp = os.listdir(ori_path)\n",
    "        for i in tqdm(range(len(temp)), \"Generating glasses for {} images...\".format(gender)):\n",
    "            image_fn = temp[i]\n",
    "            target = original + set_fn + \"/test_\"\n",
    "            target_glasses = target+'glasses/'+ gender + '/'\n",
    "\n",
    "            # Generate make up dataset\n",
    "                # Create new folder if doesn't already exist\n",
    "            Path(target_glasses).mkdir(parents=True, exist_ok=True)    \n",
    "            # Save image in this folder\n",
    "                # If doesn't already exist\n",
    "            if not Path(target_glasses + image_fn).is_dir():\n",
    "                apply_glasses(ori_path, image_fn, target_glasses)"
   ]
  },
  {
   "cell_type": "code",
   "execution_count": null,
   "id": "c2105add-2178-4703-b1f9-e959e0c41723",
   "metadata": {},
   "outputs": [],
   "source": []
  }
 ],
 "metadata": {
  "kernelspec": {
   "display_name": "fyp",
   "language": "python",
   "name": "fyp"
  },
  "language_info": {
   "codemirror_mode": {
    "name": "ipython",
    "version": 3
   },
   "file_extension": ".py",
   "mimetype": "text/x-python",
   "name": "python",
   "nbconvert_exporter": "python",
   "pygments_lexer": "ipython3",
   "version": "3.6.13"
  }
 },
 "nbformat": 4,
 "nbformat_minor": 5
}
