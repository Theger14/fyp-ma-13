{
 "cells": [
  {
   "cell_type": "raw",
   "id": "0447758b-db3a-4ca7-b018-c2a2946d1a34",
   "metadata": {},
   "source": [
    "@misc{anwar2020masked,\n",
    "title={Masked Face Recognition for Secure Authentication},\n",
    "author={Aqeel Anwar and Arijit Raychowdhury},\n",
    "year={2020},\n",
    "eprint={2008.11104},\n",
    "archivePrefix={arXiv},\n",
    "primaryClass={cs.CV}\n",
    "} "
   ]
  },
  {
   "cell_type": "code",
   "execution_count": null,
   "id": "aa25dd90-4696-4ec1-bcb6-fa8b4aae76a9",
   "metadata": {},
   "outputs": [],
   "source": [
    "import pandas as pd\n",
    "import dlib\n",
    "from tqdm import tqdm\n",
    "import os\n",
    "import itertools\n",
    "import shutil\n",
    "from pathlib import Path\n",
    "from PIL import Image, ImageDraw\n",
    "import face_recognition\n",
    "from perturb_filters.glasses.put_glasses import apply_glasses"
   ]
  },
  {
   "cell_type": "code",
   "execution_count": null,
   "id": "a4f830af-f53d-4ce9-9893-d7ceb797a465",
   "metadata": {},
   "outputs": [],
   "source": [
    "LABELS = ['female', 'male']"
   ]
  },
  {
   "cell_type": "code",
   "execution_count": null,
   "id": "13cb8e67-5dd8-41a4-9308-ef1cb20af4a9",
   "metadata": {},
   "outputs": [],
   "source": [
    "def apply_makeup(parent_folder, image_fn ,output_fn):\n",
    "    \"\"\"\n",
    "    Applies make up filter on a single image and saves it to a given directory.\n",
    "    \n",
    "    parent_folder : str\n",
    "        Parent folder of image\n",
    "    image_fn : str\n",
    "        Filename of image\n",
    "    output_fn : str\n",
    "        Output image to save\n",
    "    \"\"\"\n",
    "    # Load the jpg file into a numpy array\n",
    "    image = face_recognition.load_image_file(parent_folder+image_fn)\n",
    "\n",
    "    # Find all facial features in all the faces in the image\n",
    "    face_landmarks_list = face_recognition.face_landmarks(image)\n",
    "\n",
    "    pil_image = Image.fromarray(image)\n",
    "    for face_landmarks in face_landmarks_list:\n",
    "        d = ImageDraw.Draw(pil_image, 'RGBA')\n",
    "\n",
    "        # Make the eyebrows into a nightmare\n",
    "        d.polygon(face_landmarks['left_eyebrow'], fill=(68, 54, 39, 128))\n",
    "        d.polygon(face_landmarks['right_eyebrow'], fill=(68, 54, 39, 128))\n",
    "        d.line(face_landmarks['left_eyebrow'], fill=(68, 54, 39, 150), width=5)\n",
    "        d.line(face_landmarks['right_eyebrow'], fill=(68, 54, 39, 150), width=5)\n",
    "\n",
    "        # Gloss the lips\n",
    "        d.polygon(face_landmarks['top_lip'], fill=(150, 0, 0, 128))\n",
    "        d.polygon(face_landmarks['bottom_lip'], fill=(150, 0, 0, 128))\n",
    "        d.line(face_landmarks['top_lip'], fill=(150, 0, 0, 64), width=8)\n",
    "        d.line(face_landmarks['bottom_lip'], fill=(150, 0, 0, 64), width=8)\n",
    "\n",
    "        # Sparkle the eyes\n",
    "        d.polygon(face_landmarks['left_eye'], fill=(255, 255, 255, 30))\n",
    "        d.polygon(face_landmarks['right_eye'], fill=(255, 255, 255, 30))\n",
    "\n",
    "        # Apply some eyeliner\n",
    "        d.line(face_landmarks['left_eye'] + [face_landmarks['left_eye'][0]], fill=(0, 0, 0, 110), width=6)\n",
    "        d.line(face_landmarks['right_eye'] + [face_landmarks['right_eye'][0]], fill=(0, 0, 0, 110), width=6)\n",
    "        fn = Path(output_fn + image_fn)\n",
    "        if not fn.is_dir():\n",
    "            pil_image.save(output_fn + image_fn)    # Change this to male or female"
   ]
  },
  {
   "cell_type": "code",
   "execution_count": null,
   "id": "c795faa6-0c47-4aec-8c05-7476c930bc0d",
   "metadata": {
    "tags": []
   },
   "outputs": [],
   "source": [
    "def gen_test_makeup():\n",
    "    \"\"\"\n",
    "    Generates makeup test datasets for each CV set\n",
    "    \n",
    "    \"\"\"\n",
    "    original = 'cv_datasets/'\n",
    "    folder = os.listdir(original)\n",
    "    for set_fn in folder:\n",
    "        for gender in ['female']:\n",
    "            ori_path = original + set_fn + '/test/' + gender + '/'\n",
    "            temp = os.listdir(ori_path)\n",
    "            for i in tqdm(range(len(temp)), \"Generating makeup for {} images...\".format(gender)):\n",
    "                image_fn = temp[i]\n",
    "                target = original + set_fn + \"/test_\"\n",
    "                target_makeup = target+'makeup/'+ gender + '/'\n",
    "\n",
    "                # Generate make up dataset\n",
    "                    # Create new folder if doesn't already exist\n",
    "                Path(target_makeup).mkdir(parents=True, exist_ok=True)    \n",
    "                # Save image in this folder\n",
    "                    # If doesn't already exist\n",
    "                if not Path(target_makeup + image_fn).is_dir():\n",
    "                    apply_makeup(ori_path, image_fn, target_makeup)"
   ]
  },
  {
   "cell_type": "code",
   "execution_count": null,
   "id": "f295e3dc-0fa8-4ee0-9f18-6fb2813af769",
   "metadata": {
    "tags": []
   },
   "outputs": [],
   "source": [
    "# original = 'cv_datasets/'\n",
    "# folder = os.listdir(original)\n",
    "# for set_fn in folder:\n",
    "#     for gender in LABELS:\n",
    "#         ori_path = original + set_fn + '/test/' + gender + '/'\n",
    "#         temp = os.listdir(ori_path)\n",
    "#         for i in tqdm(range(len(temp)), \"Generating glasses for {} images...\".format(gender)):\n",
    "#             image_fn = temp[i]\n",
    "#             target = original + set_fn + \"/test_\"\n",
    "#             target_glasses = target+'glasses/'+ gender + '/'\n",
    "\n",
    "#             # Generate make up dataset\n",
    "#                 # Create new folder if doesn't already exist\n",
    "#             Path(target_glasses).mkdir(parents=True, exist_ok=True)    \n",
    "#             # Save image in this folder\n",
    "#                 # If doesn't already exist\n",
    "#             if not Path(target_glasses + image_fn).is_dir():\n",
    "#                 apply_glasses(ori_path, image_fn, target_glasses)"
   ]
  },
  {
   "cell_type": "code",
   "execution_count": null,
   "id": "c2105add-2178-4703-b1f9-e959e0c41723",
   "metadata": {},
   "outputs": [],
   "source": [
    "def gen_glasses_dataset(gender):\n",
    "    \"\"\"\n",
    "    Generates glasses dataset for a particular gender\n",
    "    \"\"\"\n",
    "    target = f'glasses_{gender}/'\n",
    "    root = f'{os.getcwd()}/combined_filtered/full'\n",
    "    ori_path = f'{root}/{gender}'\n",
    "    folder = os.listdir(ori_path)\n",
    "    for i in tqdm(range(len(folder)), f\"Generating glasses for all {gender} images...\"):\n",
    "        image_fn = folder[i]\n",
    "        target_glasses = target\n",
    "        if not Path(target_glasses + image_fn).is_dir():\n",
    "            apply_glasses(ori_path, image_fn, target_glasses)\n",
    "            \n",
    "gen_glasses_dataset(\"female\")"
   ]
  },
  {
   "cell_type": "code",
   "execution_count": null,
   "id": "14e7228d-f018-4a39-8d09-ff39e432d2bf",
   "metadata": {},
   "outputs": [],
   "source": [
    "def gen_makeup_dataset(gender):\n",
    "    \"\"\"\n",
    "    Generates make up dataset for a particular gender\n",
    "    \"\"\"\n",
    "    target = f'makeup_{gender}/'\n",
    "    root = f'/home/monash/Desktop/fyp-work/fyp-ma-13/fyp-models/preprocessing/combined_filtered/full'\n",
    "    ori_path = f'{root}/{gender}/'\n",
    "    folder = os.listdir(ori_path)\n",
    "    for i in tqdm(range(len(folder)), f\"Generating make up for all {gender} images...\"):\n",
    "        image_fn = folder[i]\n",
    "        target_makeup = target\n",
    "        # Generate make up dataset\n",
    "            # Create new folder if doesn't already exist\n",
    "        Path(target_makeup).mkdir(parents=True, exist_ok=True)   \n",
    "\n",
    "        if not Path(target_makeup + image_fn).is_dir():\n",
    "            apply_makeup(ori_path, image_fn, target_makeup)\n",
    "            \n",
    "gen_makeup_dataset(\"male\")"
   ]
  },
  {
   "cell_type": "code",
   "execution_count": null,
   "id": "c53c2688-e0ca-420b-b441-e4573e880683",
   "metadata": {},
   "outputs": [],
   "source": []
  }
 ],
 "metadata": {
  "kernelspec": {
   "display_name": "fyp",
   "language": "python",
   "name": "fyp"
  },
  "language_info": {
   "codemirror_mode": {
    "name": "ipython",
    "version": 3
   },
   "file_extension": ".py",
   "mimetype": "text/x-python",
   "name": "python",
   "nbconvert_exporter": "python",
   "pygments_lexer": "ipython3",
   "version": "3.6.13"
  }
 },
 "nbformat": 4,
 "nbformat_minor": 5
}
