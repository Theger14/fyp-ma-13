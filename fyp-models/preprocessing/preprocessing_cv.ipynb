{
 "cells": [
  {
   "cell_type": "markdown",
   "id": "1f1dc5af-e461-4114-ad4a-406a40026dec",
   "metadata": {},
   "source": [
    "Assuming that the images from male and female are in no particular order"
   ]
  },
  {
   "cell_type": "code",
   "execution_count": 73,
   "id": "88b857bf-cf03-40db-9f8b-4b03970bd2bd",
   "metadata": {},
   "outputs": [],
   "source": [
    "import pandas as pd\n",
    "import dlib\n",
    "from tqdm import tqdm\n",
    "import os\n",
    "import itertools"
   ]
  },
  {
   "cell_type": "code",
   "execution_count": 91,
   "id": "6da36801-c592-4066-9fa1-5fd7c863294a",
   "metadata": {},
   "outputs": [],
   "source": [
    "k = 5     # Number of folds"
   ]
  },
  {
   "cell_type": "code",
   "execution_count": 3,
   "id": "3ad2d7a4-00bf-43db-889b-e4e6e951d486",
   "metadata": {},
   "outputs": [],
   "source": [
    "male_fn = '/home/monash/Desktop/fyp-work/fyp-ma-13/fyp-models/preprocessing/combined_filtered/full/male'\n",
    "female_fn = '/home/monash/Desktop/fyp-work/fyp-ma-13/fyp-models/preprocessing/combined_filtered/full/female'"
   ]
  },
  {
   "cell_type": "code",
   "execution_count": 82,
   "id": "c3af424a-ee85-436d-a333-e1d8a272698c",
   "metadata": {},
   "outputs": [],
   "source": [
    "def split_into_batches(k, fn):\n",
    "    \"\"\"\n",
    "    Splits dataset into k even batches. Any remaining images are ignored9\n",
    "    \n",
    "    \"\"\"\n",
    "    folder = os.listdir(fn)\n",
    "    batch_size = len(folder)//k\n",
    "    splits = []\n",
    "    for i in range(k):\n",
    "        splits.append(folder[i*batch_size:(i+1)*batch_size])\n",
    "    print(\"Folder length: \", len(folder))\n",
    "    print(\"Batch size: \", batch_size)\n",
    "    print(\"Remaining: \", len(folder)%batch_size)\n",
    "    return splits"
   ]
  },
  {
   "cell_type": "code",
   "execution_count": 83,
   "id": "4bfa7684-5176-4684-8b42-207421009c7e",
   "metadata": {
    "tags": []
   },
   "outputs": [
    {
     "name": "stdout",
     "output_type": "stream",
     "text": [
      "Folder length:  19354\n",
      "Batch size:  3870\n",
      "Remaining:  4\n",
      "\n",
      "Folder length:  22026\n",
      "Batch size:  4405\n",
      "Remaining:  1\n"
     ]
    }
   ],
   "source": [
    "male_splits = split_into_batches(k, male_fn)\n",
    "print()\n",
    "female_splits = split_into_batches(k, female_fn)"
   ]
  },
  {
   "cell_type": "raw",
   "id": "d6040bfb-0fe3-45fc-b9c9-4298c85ccb8f",
   "metadata": {},
   "source": [
    "- male_splits has a remaining of 4\n",
    "    - DL model is robust enough to ignore the effects of not including these 4 images\n",
    "- female_splits has a remaining of 1\n",
    "    - DL model is robust enough to ignore the effects of not including this 1 image"
   ]
  },
  {
   "cell_type": "code",
   "execution_count": 87,
   "id": "31f2a9dc-a47f-4cc0-bbde-351c45894efc",
   "metadata": {},
   "outputs": [],
   "source": [
    "def chain(lst):\n",
    "    \"\"\"\n",
    "    Chains all elements in a list together into one list\n",
    "    \n",
    "    lst: list\n",
    "        List of lists\n",
    "    \"\"\"\n",
    "    res = []\n",
    "    for ele in lst:\n",
    "        res += ele\n",
    "    return res\n",
    "\n",
    "def cross_validation(k, splits):\n",
    "    \"\"\"\n",
    "    Perform cross-validation and returns all possible combinations after k-fold cv. \n",
    "    Here we take k-2 folds for training and 2 for val/test set\n",
    "\n",
    "    k : int\n",
    "        Number of k-folds\n",
    "    splits: list\n",
    "        Filenames split into k-folds\n",
    "    \"\"\"\n",
    "    # i and j are the indices of the val/test folds\n",
    "    i = 0\n",
    "    res = []\n",
    "    while i < k-1:\n",
    "        j = i + 1\n",
    "        while j < k:\n",
    "            valTest = [splits[i], splits[j]]\n",
    "            train = [i for j, i in enumerate(male_splits) if j not in indices]\n",
    "            res.append([chain(train), chain(valTest)])\n",
    "            j+=1\n",
    "        i += 1\n",
    "    return res"
   ]
  },
  {
   "cell_type": "code",
   "execution_count": 90,
   "id": "8469155c-583b-46a3-acfc-08221713e071",
   "metadata": {
    "tags": []
   },
   "outputs": [],
   "source": [
    "male_cv = cross_validation(k, male_splits)\n",
    "female_cv = cross_validation(k, female_splits)"
   ]
  },
  {
   "cell_type": "code",
   "execution_count": null,
   "id": "b71087dc-195c-46ca-8038-8571f871a60d",
   "metadata": {},
   "outputs": [],
   "source": [
    "# [training images, val/test images]\n",
    "\n",
    "for i in male_cv:\n",
    "    train, valTest = i[0], i[1]\n",
    "    # Save training images \n",
    "    for image_fn in train:\n",
    "        # Save image\n",
    "    \n",
    "    # Split into val (30% of original total) and test (10% of original total)\n",
    "    batch_size = len(valTest)//4\n",
    "    \n",
    "    # Save val images\n",
    "    for j in range():\n",
    "        \n",
    "    # Save test images\n",
    "\n"
   ]
  },
  {
   "cell_type": "raw",
   "id": "5abf29b0-ea3f-4423-a2e2-3afc9a5e9671",
   "metadata": {},
   "source": [
    "Train and val/test datasets will be organise in such a way:\n",
    "\n",
    "cv_dataset\n",
    "    |_ male\n",
    "        |_ set1\n",
    "            |_ train\n",
    "            |_ val\n",
    "            |_ test\n",
    "        |_ set2\n",
    "            |_ train\n",
    "            |_ val\n",
    "            |_ test\n",
    "        ...\n",
    "        |_ setk\n",
    "            |_ train\n",
    "            |_ val\n",
    "            |_ test\n",
    "\n",
    "    |_ female\n",
    "        |_ set1\n",
    "            |_ train\n",
    "            |_ val\n",
    "            |_ test\n",
    "        |_ set2\n",
    "            |_ train\n",
    "            |_ val\n",
    "            |_ test\n",
    "        ...\n",
    "        |_ setk\n",
    "            |_ train\n",
    "            |_ val\n",
    "            |_ test"
   ]
  },
  {
   "cell_type": "code",
   "execution_count": null,
   "id": "26d419a5-e2f0-4837-a4fa-72e271ffcbf1",
   "metadata": {},
   "outputs": [],
   "source": []
  }
 ],
 "metadata": {
  "kernelspec": {
   "display_name": "fyp",
   "language": "python",
   "name": "fyp"
  },
  "language_info": {
   "codemirror_mode": {
    "name": "ipython",
    "version": 3
   },
   "file_extension": ".py",
   "mimetype": "text/x-python",
   "name": "python",
   "nbconvert_exporter": "python",
   "pygments_lexer": "ipython3",
   "version": "3.6.13"
  }
 },
 "nbformat": 4,
 "nbformat_minor": 5
}
