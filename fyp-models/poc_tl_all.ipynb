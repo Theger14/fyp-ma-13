{
 "cells": [
  {
   "cell_type": "code",
   "execution_count": 1,
   "id": "020d1de6-d1fc-443d-afa5-1acaf7eff7e8",
   "metadata": {},
   "outputs": [],
   "source": [
    "import matplotlib.pyplot as plt\n",
    "import numpy as np\n",
    "import os\n",
    "import tensorflow as tf\n",
    "from tensorflow import keras\n",
    "from tensorflow.keras.preprocessing import image_dataset_from_directory\n",
    "\n",
    "from keras.callbacks import ModelCheckpoint\n",
    "from keras.preprocessing.image import ImageDataGenerator\n",
    "from sklearn.metrics import accuracy_score, classification_report, confusion_matrix\n",
    "from gen_results import gen_save_cr_cm # Load test results\n",
    "import pandas as pd\n",
    "import seaborn as sns\n",
    "\n",
    "import json\n",
    "import ssl\n",
    "ssl._create_default_https_context = ssl._create_unverified_context\n",
    "\n",
    "physical_devices = tf.config.list_physical_devices('GPU') \n",
    "tf.config.experimental.set_memory_growth(physical_devices[0], True)"
   ]
  },
  {
   "cell_type": "code",
   "execution_count": 2,
   "id": "41a46b8a-39de-41aa-8f33-8fd18fe5bd4c",
   "metadata": {},
   "outputs": [],
   "source": [
    "# @todo Load perturbation functions"
   ]
  },
  {
   "cell_type": "code",
   "execution_count": 3,
   "id": "caacdefb-605b-498b-a58f-5415fade8f27",
   "metadata": {},
   "outputs": [],
   "source": [
    "preprocessing_fp = \"preprocessing/combined_filtered\"\n",
    "BATCH_SIZE = 32\n",
    "EPOCHS = 50\n",
    "IMG_SIZE = (224,224)\n",
    "IMG_SHAPE = IMG_SIZE + (3,)\n",
    "LABELS = [\"female\", \"male\"]"
   ]
  },
  {
   "cell_type": "code",
   "execution_count": 4,
   "id": "05014d52-0e26-4682-a545-82ae626f0ab2",
   "metadata": {},
   "outputs": [
    {
     "name": "stdout",
     "output_type": "stream",
     "text": [
      "Found 29026 files belonging to 2 classes.\n",
      "Found 8275 files belonging to 2 classes.\n"
     ]
    }
   ],
   "source": [
    "# Load train dataset\n",
    "train_dataset = image_dataset_from_directory(os.path.join(preprocessing_fp, \"train\"),\n",
    "                                             shuffle=True,\n",
    "                                             batch_size=BATCH_SIZE,\n",
    "                                             image_size=IMG_SIZE)\n",
    "\n",
    "# Load validation dataset\n",
    "validation_dataset = image_dataset_from_directory(os.path.join(preprocessing_fp, \"val\"),\n",
    "                                                  shuffle=True,\n",
    "                                                  batch_size=BATCH_SIZE,\n",
    "                                                  image_size=IMG_SIZE)"
   ]
  },
  {
   "cell_type": "code",
   "execution_count": 5,
   "id": "22a7db04-603d-4da7-80e9-b7f2947b7cd6",
   "metadata": {},
   "outputs": [],
   "source": [
    "# Use buffered prefetching to load images without having I/O blocking\n",
    "AUTOTUNE = tf.data.AUTOTUNE\n",
    "\n",
    "train_dataset = train_dataset.prefetch(buffer_size=AUTOTUNE)\n",
    "validation_dataset = validation_dataset.prefetch(buffer_size=AUTOTUNE)"
   ]
  },
  {
   "cell_type": "code",
   "execution_count": 6,
   "id": "7ef4b04d-de4b-4dfb-9053-230647d65815",
   "metadata": {},
   "outputs": [],
   "source": [
    "# Helpful since we want to expand our image dataset\n",
    "data_augmentation = tf.keras.Sequential([\n",
    "  tf.keras.layers.experimental.preprocessing.RandomFlip('horizontal'),\n",
    "  tf.keras.layers.experimental.preprocessing.RandomRotation(0.2),\n",
    "])"
   ]
  },
  {
   "cell_type": "code",
   "execution_count": 7,
   "id": "0b4e0bc8-9bcf-462c-a247-ce5f820aa7d2",
   "metadata": {},
   "outputs": [],
   "source": [
    "# Load MobileNetV3 Large\n",
    "preprocess_input_mobile = tf.keras.applications.mobilenet_v3.preprocess_input\n",
    "base_model_mobile = tf.keras.applications.MobileNetV3Large(input_shape=IMG_SHAPE,\n",
    "                                               include_top=False,\n",
    "                                               weights='imagenet')\n",
    "\n",
    "# Load DenseNet 201\n",
    "preprocess_input_dense = tf.keras.applications.densenet.preprocess_input\n",
    "base_model_dense = tf.keras.applications.densenet.DenseNet201(input_shape=IMG_SHAPE,\n",
    "                                               include_top=False,\n",
    "                                               weights='imagenet')\n",
    "\n",
    "# Load ResNet50\n",
    "preprocess_input_res = tf.keras.applications.resnet50.preprocess_input\n",
    "base_model_res = tf.keras.applications.resnet50.ResNet50(input_shape=IMG_SHAPE,\n",
    "                                               include_top=False,\n",
    "                                               weights='imagenet')"
   ]
  },
  {
   "cell_type": "markdown",
   "id": "f7c826ef-7260-4b43-8216-343e30b90aa3",
   "metadata": {},
   "source": [
    "# Model Training"
   ]
  },
  {
   "cell_type": "code",
   "execution_count": 8,
   "id": "19fe1371-3583-4ebf-b73d-60b6a0840577",
   "metadata": {},
   "outputs": [],
   "source": [
    "def create_model(base_model, preprocess_input):\n",
    "    # Converts images into a 5x5x1280 block of features\n",
    "    image_batch, label_batch = next(iter(train_dataset))\n",
    "    feature_batch = base_model(image_batch)\n",
    "    \n",
    "    # Freeze all convolutional base\n",
    "    base_model.trainable = False\n",
    "    \n",
    "    # Add classification head\n",
    "    global_average_layer = tf.keras.layers.GlobalAveragePooling2D()\n",
    "    feature_batch_average = global_average_layer(feature_batch)\n",
    "    \n",
    "    # Model building\n",
    "    inputs = tf.keras.Input(shape=(224, 224, 3))\n",
    "    x = data_augmentation(inputs)\n",
    "    x = preprocess_input(x)\n",
    "    x = base_model(x, training=False)\n",
    "    x = global_average_layer(x)\n",
    "    x = tf.keras.layers.Dropout(0.2)(x)\n",
    "    x = tf.keras.layers.Dense(1024,activation='relu')(x)\n",
    "    x = tf.keras.layers.Dense(1024,activation='relu')(x)\n",
    "    x = tf.keras.layers.Dense(512,activation='relu')(x)\n",
    "    outputs = keras.layers.Dense(1,activation='sigmoid')(x)\n",
    "\n",
    "    model = tf.keras.Model(inputs, outputs)\n",
    "\n",
    "    # Compile the model\n",
    "    base_learning_rate = 0.0001\n",
    "    model.compile(optimizer=tf.keras.optimizers.Adam(lr=base_learning_rate),\n",
    "                  loss=tf.keras.losses.BinaryCrossentropy(from_logits=True),\n",
    "                  metrics=['accuracy'])\n",
    "    return model"
   ]
  },
  {
   "cell_type": "code",
   "execution_count": 9,
   "id": "4c2f4069-86d1-4ca2-94aa-442d0942e183",
   "metadata": {},
   "outputs": [],
   "source": [
    "# Create the three different models\n",
    "model_mobile = create_model(base_model_mobile, preprocess_input_mobile)\n",
    "model_dense = create_model(base_model_dense, preprocess_input_dense)\n",
    "model_res = create_model(base_model_res, preprocess_input_res)"
   ]
  },
  {
   "cell_type": "code",
   "execution_count": 10,
   "id": "163d548d-7d13-4fc0-87c4-aec62e73c8cc",
   "metadata": {
    "tags": []
   },
   "outputs": [],
   "source": [
    "def model_training(model, suffix):\n",
    "    \"\"\"\n",
    "    Trains model, and saves model's best weights and history\n",
    "    \"\"\"\n",
    "    checkpoint = ModelCheckpoint(\n",
    "        \"model_tl_best_weights_{}.h5\".format(suffix),\n",
    "        monitor=\"loss\",\n",
    "        verbose=0,\n",
    "        save_best_only=True,\n",
    "        mode=\"min\",\n",
    "        save_freq=\"epoch\",\n",
    "    )\n",
    "\n",
    "    # Save a checkpoint of the model for later use\n",
    "    history = model.fit(train_dataset,\n",
    "                             epochs=EPOCHS,\n",
    "                             validation_data=validation_dataset,\n",
    "                            callbacks=[checkpoint])\n",
    "\n",
    "    # Store model history as a JSON file\n",
    "    with open(os.path.join(\"history\", \"model_tl_history_{}.json\".format(suffix)), \"w\") as f:\n",
    "        json.dump(history.history, f) # Construct the baseline (unperturbed) model\n",
    "        \n",
    "    return history"
   ]
  },
  {
   "cell_type": "code",
   "execution_count": 11,
   "id": "369487b2-6874-4195-b344-137923e44de6",
   "metadata": {
    "collapsed": true,
    "jupyter": {
     "outputs_hidden": true
    },
    "tags": []
   },
   "outputs": [
    {
     "name": "stdout",
     "output_type": "stream",
     "text": [
      "Epoch 1/50\n",
      "908/908 [==============================] - 24s 24ms/step - loss: 0.5605 - accuracy: 0.7013 - val_loss: 0.4664 - val_accuracy: 0.7720\n",
      "Epoch 2/50\n",
      "908/908 [==============================] - 21s 23ms/step - loss: 0.4956 - accuracy: 0.7524 - val_loss: 0.4580 - val_accuracy: 0.7741\n",
      "Epoch 3/50\n",
      "908/908 [==============================] - 21s 23ms/step - loss: 0.4917 - accuracy: 0.7539 - val_loss: 0.4408 - val_accuracy: 0.7896\n",
      "Epoch 4/50\n",
      "908/908 [==============================] - 21s 23ms/step - loss: 0.4731 - accuracy: 0.7640 - val_loss: 0.4337 - val_accuracy: 0.7919\n",
      "Epoch 5/50\n",
      "908/908 [==============================] - 21s 23ms/step - loss: 0.4715 - accuracy: 0.7658 - val_loss: 0.4273 - val_accuracy: 0.7983\n",
      "Epoch 6/50\n",
      "908/908 [==============================] - 21s 23ms/step - loss: 0.4627 - accuracy: 0.7756 - val_loss: 0.4395 - val_accuracy: 0.7906\n",
      "Epoch 7/50\n",
      "908/908 [==============================] - 20s 22ms/step - loss: 0.4611 - accuracy: 0.7731 - val_loss: 0.4274 - val_accuracy: 0.7977\n",
      "Epoch 8/50\n",
      "908/908 [==============================] - 20s 22ms/step - loss: 0.4594 - accuracy: 0.7729 - val_loss: 0.4209 - val_accuracy: 0.8029\n",
      "Epoch 9/50\n",
      "908/908 [==============================] - 20s 22ms/step - loss: 0.4486 - accuracy: 0.7813 - val_loss: 0.4369 - val_accuracy: 0.7950\n",
      "Epoch 10/50\n",
      "908/908 [==============================] - 20s 22ms/step - loss: 0.4465 - accuracy: 0.7828 - val_loss: 0.4260 - val_accuracy: 0.7960\n",
      "Epoch 11/50\n",
      "908/908 [==============================] - 20s 22ms/step - loss: 0.4500 - accuracy: 0.7816 - val_loss: 0.4225 - val_accuracy: 0.7975\n",
      "Epoch 12/50\n",
      "908/908 [==============================] - 20s 22ms/step - loss: 0.4372 - accuracy: 0.7904 - val_loss: 0.4129 - val_accuracy: 0.8075\n",
      "Epoch 13/50\n",
      "908/908 [==============================] - 20s 22ms/step - loss: 0.4394 - accuracy: 0.7868 - val_loss: 0.4218 - val_accuracy: 0.7998\n",
      "Epoch 14/50\n",
      "908/908 [==============================] - 20s 22ms/step - loss: 0.4388 - accuracy: 0.7847 - val_loss: 0.4147 - val_accuracy: 0.8028\n",
      "Epoch 15/50\n",
      "908/908 [==============================] - 20s 22ms/step - loss: 0.4372 - accuracy: 0.7894 - val_loss: 0.4211 - val_accuracy: 0.7981\n",
      "Epoch 16/50\n",
      "908/908 [==============================] - 20s 22ms/step - loss: 0.4378 - accuracy: 0.7908 - val_loss: 0.4398 - val_accuracy: 0.7964\n",
      "Epoch 17/50\n",
      "908/908 [==============================] - 20s 22ms/step - loss: 0.4300 - accuracy: 0.7913 - val_loss: 0.4096 - val_accuracy: 0.8071\n",
      "Epoch 18/50\n",
      "908/908 [==============================] - 20s 22ms/step - loss: 0.4308 - accuracy: 0.7901 - val_loss: 0.4157 - val_accuracy: 0.8047\n",
      "Epoch 19/50\n",
      "908/908 [==============================] - 20s 22ms/step - loss: 0.4277 - accuracy: 0.7944 - val_loss: 0.4076 - val_accuracy: 0.8041\n",
      "Epoch 20/50\n",
      "908/908 [==============================] - 20s 22ms/step - loss: 0.4234 - accuracy: 0.7960 - val_loss: 0.4219 - val_accuracy: 0.8004\n",
      "Epoch 21/50\n",
      "908/908 [==============================] - 20s 22ms/step - loss: 0.4232 - accuracy: 0.7999 - val_loss: 0.4118 - val_accuracy: 0.8106\n",
      "Epoch 22/50\n",
      "908/908 [==============================] - 20s 22ms/step - loss: 0.4219 - accuracy: 0.7995 - val_loss: 0.3999 - val_accuracy: 0.8104\n",
      "Epoch 23/50\n",
      "908/908 [==============================] - 20s 22ms/step - loss: 0.4223 - accuracy: 0.7949 - val_loss: 0.3981 - val_accuracy: 0.8124\n",
      "Epoch 24/50\n",
      "908/908 [==============================] - 20s 22ms/step - loss: 0.4181 - accuracy: 0.8024 - val_loss: 0.3981 - val_accuracy: 0.8164\n",
      "Epoch 25/50\n",
      "908/908 [==============================] - 20s 22ms/step - loss: 0.4171 - accuracy: 0.7983 - val_loss: 0.4024 - val_accuracy: 0.8098\n",
      "Epoch 26/50\n",
      "908/908 [==============================] - 20s 22ms/step - loss: 0.4181 - accuracy: 0.8021 - val_loss: 0.3996 - val_accuracy: 0.8138\n",
      "Epoch 27/50\n",
      "908/908 [==============================] - 20s 22ms/step - loss: 0.4170 - accuracy: 0.7978 - val_loss: 0.4046 - val_accuracy: 0.8053\n",
      "Epoch 28/50\n",
      "908/908 [==============================] - 20s 22ms/step - loss: 0.4076 - accuracy: 0.8044 - val_loss: 0.3978 - val_accuracy: 0.8088\n",
      "Epoch 29/50\n",
      "908/908 [==============================] - 20s 22ms/step - loss: 0.4112 - accuracy: 0.7997 - val_loss: 0.4069 - val_accuracy: 0.8062\n",
      "Epoch 30/50\n",
      "908/908 [==============================] - 20s 22ms/step - loss: 0.4075 - accuracy: 0.8056 - val_loss: 0.4063 - val_accuracy: 0.8066\n",
      "Epoch 31/50\n",
      "908/908 [==============================] - 20s 22ms/step - loss: 0.4036 - accuracy: 0.8078 - val_loss: 0.3982 - val_accuracy: 0.8115\n",
      "Epoch 32/50\n",
      "908/908 [==============================] - 20s 22ms/step - loss: 0.3992 - accuracy: 0.8120 - val_loss: 0.4147 - val_accuracy: 0.7989\n",
      "Epoch 33/50\n",
      "908/908 [==============================] - 20s 22ms/step - loss: 0.4001 - accuracy: 0.8123 - val_loss: 0.4017 - val_accuracy: 0.8109\n",
      "Epoch 34/50\n",
      "908/908 [==============================] - 20s 22ms/step - loss: 0.4009 - accuracy: 0.8086 - val_loss: 0.3977 - val_accuracy: 0.8105\n",
      "Epoch 35/50\n",
      "908/908 [==============================] - 20s 22ms/step - loss: 0.3955 - accuracy: 0.8151 - val_loss: 0.4187 - val_accuracy: 0.8054\n",
      "Epoch 36/50\n",
      "908/908 [==============================] - 20s 22ms/step - loss: 0.3955 - accuracy: 0.8123 - val_loss: 0.4128 - val_accuracy: 0.8077\n",
      "Epoch 37/50\n",
      "908/908 [==============================] - 20s 22ms/step - loss: 0.3887 - accuracy: 0.8170 - val_loss: 0.3989 - val_accuracy: 0.8152\n",
      "Epoch 38/50\n",
      "908/908 [==============================] - 20s 22ms/step - loss: 0.3925 - accuracy: 0.8166 - val_loss: 0.4053 - val_accuracy: 0.8073\n",
      "Epoch 39/50\n",
      "908/908 [==============================] - 20s 22ms/step - loss: 0.3898 - accuracy: 0.8187 - val_loss: 0.3975 - val_accuracy: 0.8128\n",
      "Epoch 40/50\n",
      "908/908 [==============================] - 20s 22ms/step - loss: 0.3865 - accuracy: 0.8183 - val_loss: 0.4122 - val_accuracy: 0.8062\n",
      "Epoch 41/50\n",
      "908/908 [==============================] - 20s 22ms/step - loss: 0.3860 - accuracy: 0.8182 - val_loss: 0.4184 - val_accuracy: 0.8021\n",
      "Epoch 42/50\n",
      "908/908 [==============================] - 20s 22ms/step - loss: 0.3886 - accuracy: 0.8177 - val_loss: 0.4283 - val_accuracy: 0.7984\n",
      "Epoch 43/50\n",
      "908/908 [==============================] - 20s 22ms/step - loss: 0.3817 - accuracy: 0.8219 - val_loss: 0.3963 - val_accuracy: 0.8139\n",
      "Epoch 44/50\n",
      "908/908 [==============================] - 20s 22ms/step - loss: 0.3829 - accuracy: 0.8213 - val_loss: 0.4066 - val_accuracy: 0.8121\n",
      "Epoch 45/50\n",
      "908/908 [==============================] - 20s 22ms/step - loss: 0.3830 - accuracy: 0.8191 - val_loss: 0.4146 - val_accuracy: 0.8092\n",
      "Epoch 46/50\n",
      "908/908 [==============================] - 20s 22ms/step - loss: 0.3794 - accuracy: 0.8247 - val_loss: 0.3988 - val_accuracy: 0.8160\n",
      "Epoch 47/50\n",
      "908/908 [==============================] - 20s 22ms/step - loss: 0.3728 - accuracy: 0.8251 - val_loss: 0.3986 - val_accuracy: 0.8139\n",
      "Epoch 48/50\n",
      "908/908 [==============================] - 20s 22ms/step - loss: 0.3728 - accuracy: 0.8293 - val_loss: 0.4020 - val_accuracy: 0.8138\n",
      "Epoch 49/50\n",
      "908/908 [==============================] - 20s 22ms/step - loss: 0.3718 - accuracy: 0.8313 - val_loss: 0.4161 - val_accuracy: 0.8068\n",
      "Epoch 50/50\n",
      "908/908 [==============================] - 20s 22ms/step - loss: 0.3722 - accuracy: 0.8267 - val_loss: 0.4001 - val_accuracy: 0.8126\n",
      "Epoch 1/50\n",
      "908/908 [==============================] - 81s 82ms/step - loss: 0.5212 - accuracy: 0.7293 - val_loss: 0.4189 - val_accuracy: 0.7965\n",
      "Epoch 2/50\n",
      "908/908 [==============================] - 71s 78ms/step - loss: 0.4578 - accuracy: 0.7775 - val_loss: 0.4182 - val_accuracy: 0.7993\n",
      "Epoch 3/50\n",
      "908/908 [==============================] - 71s 78ms/step - loss: 0.4487 - accuracy: 0.7811 - val_loss: 0.3729 - val_accuracy: 0.8288\n",
      "Epoch 4/50\n",
      "908/908 [==============================] - 71s 78ms/step - loss: 0.4355 - accuracy: 0.7887 - val_loss: 0.4046 - val_accuracy: 0.8033\n",
      "Epoch 5/50\n",
      "908/908 [==============================] - 71s 78ms/step - loss: 0.4276 - accuracy: 0.7953 - val_loss: 0.4061 - val_accuracy: 0.8068\n",
      "Epoch 6/50\n",
      "908/908 [==============================] - 71s 78ms/step - loss: 0.4226 - accuracy: 0.7960 - val_loss: 0.3846 - val_accuracy: 0.8216\n",
      "Epoch 7/50\n",
      "908/908 [==============================] - 71s 78ms/step - loss: 0.4142 - accuracy: 0.8033 - val_loss: 0.3815 - val_accuracy: 0.8199\n",
      "Epoch 8/50\n",
      "908/908 [==============================] - 71s 78ms/step - loss: 0.4095 - accuracy: 0.8108 - val_loss: 0.3559 - val_accuracy: 0.8379\n",
      "Epoch 9/50\n",
      "908/908 [==============================] - 71s 78ms/step - loss: 0.4091 - accuracy: 0.8056 - val_loss: 0.3554 - val_accuracy: 0.8365\n",
      "Epoch 10/50\n",
      "908/908 [==============================] - 71s 78ms/step - loss: 0.4037 - accuracy: 0.8089 - val_loss: 0.3408 - val_accuracy: 0.8531\n",
      "Epoch 11/50\n",
      "908/908 [==============================] - 71s 78ms/step - loss: 0.3989 - accuracy: 0.8108 - val_loss: 0.3429 - val_accuracy: 0.8445\n",
      "Epoch 12/50\n",
      "908/908 [==============================] - 71s 78ms/step - loss: 0.3934 - accuracy: 0.8136 - val_loss: 0.3579 - val_accuracy: 0.8360\n",
      "Epoch 13/50\n",
      "908/908 [==============================] - 71s 78ms/step - loss: 0.3937 - accuracy: 0.8139 - val_loss: 0.3577 - val_accuracy: 0.8350\n",
      "Epoch 14/50\n",
      "908/908 [==============================] - 71s 78ms/step - loss: 0.3887 - accuracy: 0.8159 - val_loss: 0.3518 - val_accuracy: 0.8365\n",
      "Epoch 15/50\n",
      "908/908 [==============================] - 71s 78ms/step - loss: 0.3912 - accuracy: 0.8147 - val_loss: 0.3564 - val_accuracy: 0.8359\n",
      "Epoch 16/50\n",
      "908/908 [==============================] - 71s 78ms/step - loss: 0.3819 - accuracy: 0.8193 - val_loss: 0.3345 - val_accuracy: 0.8502\n",
      "Epoch 17/50\n",
      "908/908 [==============================] - 71s 78ms/step - loss: 0.3852 - accuracy: 0.8194 - val_loss: 0.3338 - val_accuracy: 0.8488\n",
      "Epoch 18/50\n",
      "908/908 [==============================] - 71s 78ms/step - loss: 0.3730 - accuracy: 0.8276 - val_loss: 0.3514 - val_accuracy: 0.8375\n",
      "Epoch 19/50\n",
      "908/908 [==============================] - 71s 78ms/step - loss: 0.3727 - accuracy: 0.8304 - val_loss: 0.3322 - val_accuracy: 0.8531\n",
      "Epoch 20/50\n",
      "908/908 [==============================] - 71s 78ms/step - loss: 0.3715 - accuracy: 0.8288 - val_loss: 0.3484 - val_accuracy: 0.8440\n",
      "Epoch 21/50\n",
      "908/908 [==============================] - 71s 78ms/step - loss: 0.3726 - accuracy: 0.8295 - val_loss: 0.3261 - val_accuracy: 0.8552\n",
      "Epoch 22/50\n",
      "908/908 [==============================] - 71s 78ms/step - loss: 0.3686 - accuracy: 0.8281 - val_loss: 0.3560 - val_accuracy: 0.8423\n",
      "Epoch 23/50\n",
      "908/908 [==============================] - 71s 78ms/step - loss: 0.3586 - accuracy: 0.8378 - val_loss: 0.3519 - val_accuracy: 0.8363\n",
      "Epoch 24/50\n",
      "908/908 [==============================] - 71s 78ms/step - loss: 0.3657 - accuracy: 0.8293 - val_loss: 0.3278 - val_accuracy: 0.8575\n",
      "Epoch 25/50\n",
      "908/908 [==============================] - 71s 78ms/step - loss: 0.3585 - accuracy: 0.8362 - val_loss: 0.3337 - val_accuracy: 0.8486\n",
      "Epoch 26/50\n",
      "908/908 [==============================] - 71s 78ms/step - loss: 0.3534 - accuracy: 0.8404 - val_loss: 0.3389 - val_accuracy: 0.8444\n",
      "Epoch 27/50\n",
      "908/908 [==============================] - 71s 78ms/step - loss: 0.3516 - accuracy: 0.8390 - val_loss: 0.3263 - val_accuracy: 0.8560\n",
      "Epoch 28/50\n",
      "908/908 [==============================] - 71s 78ms/step - loss: 0.3513 - accuracy: 0.8368 - val_loss: 0.3397 - val_accuracy: 0.8493\n",
      "Epoch 29/50\n",
      "908/908 [==============================] - 71s 78ms/step - loss: 0.3494 - accuracy: 0.8389 - val_loss: 0.3440 - val_accuracy: 0.8454\n",
      "Epoch 30/50\n",
      "908/908 [==============================] - 71s 78ms/step - loss: 0.3434 - accuracy: 0.8420 - val_loss: 0.3324 - val_accuracy: 0.8510\n",
      "Epoch 31/50\n",
      "908/908 [==============================] - 71s 78ms/step - loss: 0.3422 - accuracy: 0.8434 - val_loss: 0.3491 - val_accuracy: 0.8394\n",
      "Epoch 32/50\n",
      "908/908 [==============================] - 71s 78ms/step - loss: 0.3475 - accuracy: 0.8397 - val_loss: 0.3469 - val_accuracy: 0.8442\n",
      "Epoch 33/50\n",
      "908/908 [==============================] - 71s 78ms/step - loss: 0.3476 - accuracy: 0.8431 - val_loss: 0.3598 - val_accuracy: 0.8384\n",
      "Epoch 34/50\n",
      "908/908 [==============================] - 71s 78ms/step - loss: 0.3418 - accuracy: 0.8436 - val_loss: 0.3340 - val_accuracy: 0.8543\n",
      "Epoch 35/50\n",
      "908/908 [==============================] - 71s 78ms/step - loss: 0.3389 - accuracy: 0.8443 - val_loss: 0.3289 - val_accuracy: 0.8529\n",
      "Epoch 36/50\n",
      "908/908 [==============================] - 71s 78ms/step - loss: 0.3375 - accuracy: 0.8467 - val_loss: 0.3446 - val_accuracy: 0.8429\n",
      "Epoch 37/50\n",
      "908/908 [==============================] - 71s 78ms/step - loss: 0.3283 - accuracy: 0.8525 - val_loss: 0.3290 - val_accuracy: 0.8552\n",
      "Epoch 38/50\n",
      "908/908 [==============================] - 71s 78ms/step - loss: 0.3261 - accuracy: 0.8534 - val_loss: 0.3367 - val_accuracy: 0.8466\n",
      "Epoch 39/50\n",
      "908/908 [==============================] - 71s 78ms/step - loss: 0.3280 - accuracy: 0.8545 - val_loss: 0.3528 - val_accuracy: 0.8393\n",
      "Epoch 40/50\n",
      "908/908 [==============================] - 71s 78ms/step - loss: 0.3218 - accuracy: 0.8552 - val_loss: 0.3653 - val_accuracy: 0.8350\n",
      "Epoch 41/50\n",
      "908/908 [==============================] - 71s 78ms/step - loss: 0.3242 - accuracy: 0.8551 - val_loss: 0.3318 - val_accuracy: 0.8535\n",
      "Epoch 42/50\n",
      "908/908 [==============================] - 71s 78ms/step - loss: 0.3269 - accuracy: 0.8531 - val_loss: 0.3363 - val_accuracy: 0.8481\n",
      "Epoch 43/50\n",
      "908/908 [==============================] - 71s 78ms/step - loss: 0.3150 - accuracy: 0.8590 - val_loss: 0.3397 - val_accuracy: 0.8506\n",
      "Epoch 44/50\n",
      "908/908 [==============================] - 71s 78ms/step - loss: 0.3129 - accuracy: 0.8563 - val_loss: 0.3370 - val_accuracy: 0.8497\n",
      "Epoch 45/50\n",
      "908/908 [==============================] - 71s 78ms/step - loss: 0.3152 - accuracy: 0.8601 - val_loss: 0.3380 - val_accuracy: 0.8492\n",
      "Epoch 46/50\n",
      "908/908 [==============================] - 71s 78ms/step - loss: 0.3067 - accuracy: 0.8640 - val_loss: 0.3414 - val_accuracy: 0.8471\n",
      "Epoch 47/50\n",
      "908/908 [==============================] - 71s 78ms/step - loss: 0.3103 - accuracy: 0.8596 - val_loss: 0.3609 - val_accuracy: 0.8434\n",
      "Epoch 48/50\n",
      "908/908 [==============================] - 71s 78ms/step - loss: 0.3059 - accuracy: 0.8620 - val_loss: 0.3557 - val_accuracy: 0.8447\n",
      "Epoch 49/50\n",
      "908/908 [==============================] - 71s 78ms/step - loss: 0.3044 - accuracy: 0.8646 - val_loss: 0.3447 - val_accuracy: 0.8448\n",
      "Epoch 50/50\n",
      "908/908 [==============================] - 71s 78ms/step - loss: 0.3020 - accuracy: 0.8635 - val_loss: 0.4007 - val_accuracy: 0.8216\n",
      "Epoch 1/50\n",
      "908/908 [==============================] - 52s 56ms/step - loss: 0.5180 - accuracy: 0.7309 - val_loss: 0.4027 - val_accuracy: 0.8111\n",
      "Epoch 2/50\n",
      "908/908 [==============================] - 49s 54ms/step - loss: 0.4499 - accuracy: 0.7790 - val_loss: 0.3805 - val_accuracy: 0.8240\n",
      "Epoch 3/50\n",
      "908/908 [==============================] - 49s 54ms/step - loss: 0.4265 - accuracy: 0.7957 - val_loss: 0.3673 - val_accuracy: 0.8329\n",
      "Epoch 4/50\n",
      "908/908 [==============================] - 49s 54ms/step - loss: 0.4142 - accuracy: 0.8004 - val_loss: 0.3867 - val_accuracy: 0.8190\n",
      "Epoch 5/50\n",
      "908/908 [==============================] - 49s 54ms/step - loss: 0.3984 - accuracy: 0.8122 - val_loss: 0.3609 - val_accuracy: 0.8372\n",
      "Epoch 6/50\n",
      "908/908 [==============================] - 49s 54ms/step - loss: 0.4019 - accuracy: 0.8099 - val_loss: 0.3702 - val_accuracy: 0.8271\n",
      "Epoch 7/50\n",
      "908/908 [==============================] - 49s 54ms/step - loss: 0.3898 - accuracy: 0.8172 - val_loss: 0.3452 - val_accuracy: 0.8407\n",
      "Epoch 8/50\n",
      "908/908 [==============================] - 49s 54ms/step - loss: 0.3852 - accuracy: 0.8182 - val_loss: 0.3741 - val_accuracy: 0.8218\n",
      "Epoch 9/50\n",
      "908/908 [==============================] - 49s 54ms/step - loss: 0.3770 - accuracy: 0.8268 - val_loss: 0.3483 - val_accuracy: 0.8425\n",
      "Epoch 10/50\n",
      "908/908 [==============================] - 49s 54ms/step - loss: 0.3708 - accuracy: 0.8308 - val_loss: 0.3583 - val_accuracy: 0.8363\n",
      "Epoch 11/50\n",
      "908/908 [==============================] - 49s 54ms/step - loss: 0.3657 - accuracy: 0.8306 - val_loss: 0.3452 - val_accuracy: 0.8384\n",
      "Epoch 12/50\n",
      "908/908 [==============================] - 49s 54ms/step - loss: 0.3655 - accuracy: 0.8308 - val_loss: 0.3449 - val_accuracy: 0.8460\n",
      "Epoch 13/50\n",
      "908/908 [==============================] - 49s 54ms/step - loss: 0.3576 - accuracy: 0.8347 - val_loss: 0.3366 - val_accuracy: 0.8494\n",
      "Epoch 14/50\n",
      "908/908 [==============================] - 49s 54ms/step - loss: 0.3565 - accuracy: 0.8360 - val_loss: 0.3301 - val_accuracy: 0.8528\n",
      "Epoch 15/50\n",
      "908/908 [==============================] - 49s 54ms/step - loss: 0.3459 - accuracy: 0.8462 - val_loss: 0.3376 - val_accuracy: 0.8485\n",
      "Epoch 16/50\n",
      "908/908 [==============================] - 49s 54ms/step - loss: 0.3389 - accuracy: 0.8495 - val_loss: 0.3387 - val_accuracy: 0.8489\n",
      "Epoch 17/50\n",
      "908/908 [==============================] - 49s 54ms/step - loss: 0.3362 - accuracy: 0.8458 - val_loss: 0.3449 - val_accuracy: 0.8421\n",
      "Epoch 18/50\n",
      "908/908 [==============================] - 49s 54ms/step - loss: 0.3328 - accuracy: 0.8512 - val_loss: 0.3311 - val_accuracy: 0.8521\n",
      "Epoch 19/50\n",
      "908/908 [==============================] - 49s 54ms/step - loss: 0.3307 - accuracy: 0.8493 - val_loss: 0.3228 - val_accuracy: 0.8547\n",
      "Epoch 20/50\n",
      "908/908 [==============================] - 49s 54ms/step - loss: 0.3227 - accuracy: 0.8535 - val_loss: 0.3359 - val_accuracy: 0.8494\n",
      "Epoch 21/50\n",
      "908/908 [==============================] - 49s 54ms/step - loss: 0.3206 - accuracy: 0.8536 - val_loss: 0.3451 - val_accuracy: 0.8454\n",
      "Epoch 22/50\n",
      "908/908 [==============================] - 49s 54ms/step - loss: 0.3153 - accuracy: 0.8582 - val_loss: 0.3375 - val_accuracy: 0.8531\n",
      "Epoch 23/50\n",
      "908/908 [==============================] - 49s 54ms/step - loss: 0.3165 - accuracy: 0.8597 - val_loss: 0.3281 - val_accuracy: 0.8605\n",
      "Epoch 24/50\n",
      "908/908 [==============================] - 49s 54ms/step - loss: 0.3112 - accuracy: 0.8576 - val_loss: 0.3681 - val_accuracy: 0.8348\n",
      "Epoch 25/50\n",
      "908/908 [==============================] - 49s 54ms/step - loss: 0.3079 - accuracy: 0.8628 - val_loss: 0.3437 - val_accuracy: 0.8439\n",
      "Epoch 26/50\n",
      "908/908 [==============================] - 49s 54ms/step - loss: 0.2973 - accuracy: 0.8685 - val_loss: 0.3324 - val_accuracy: 0.8534\n",
      "Epoch 27/50\n",
      "908/908 [==============================] - 49s 54ms/step - loss: 0.2984 - accuracy: 0.8651 - val_loss: 0.3316 - val_accuracy: 0.8561\n",
      "Epoch 28/50\n",
      "908/908 [==============================] - 49s 54ms/step - loss: 0.2956 - accuracy: 0.8683 - val_loss: 0.3494 - val_accuracy: 0.8470\n",
      "Epoch 29/50\n",
      "908/908 [==============================] - 49s 54ms/step - loss: 0.2850 - accuracy: 0.8737 - val_loss: 0.3384 - val_accuracy: 0.8524\n",
      "Epoch 30/50\n",
      "908/908 [==============================] - 49s 54ms/step - loss: 0.2874 - accuracy: 0.8732 - val_loss: 0.3447 - val_accuracy: 0.8521\n",
      "Epoch 31/50\n",
      "908/908 [==============================] - 49s 54ms/step - loss: 0.2755 - accuracy: 0.8808 - val_loss: 0.3582 - val_accuracy: 0.8340\n",
      "Epoch 32/50\n",
      "908/908 [==============================] - 50s 55ms/step - loss: 0.2784 - accuracy: 0.8812 - val_loss: 0.3554 - val_accuracy: 0.8430\n",
      "Epoch 33/50\n",
      "908/908 [==============================] - 49s 54ms/step - loss: 0.2711 - accuracy: 0.8820 - val_loss: 0.3401 - val_accuracy: 0.8486\n",
      "Epoch 34/50\n",
      "908/908 [==============================] - 49s 54ms/step - loss: 0.2707 - accuracy: 0.8793 - val_loss: 0.3465 - val_accuracy: 0.8480\n",
      "Epoch 35/50\n",
      "908/908 [==============================] - 49s 54ms/step - loss: 0.2640 - accuracy: 0.8816 - val_loss: 0.3387 - val_accuracy: 0.8505\n",
      "Epoch 36/50\n",
      "908/908 [==============================] - 49s 54ms/step - loss: 0.2624 - accuracy: 0.8843 - val_loss: 0.3508 - val_accuracy: 0.8527\n",
      "Epoch 37/50\n",
      "908/908 [==============================] - 49s 54ms/step - loss: 0.2638 - accuracy: 0.8835 - val_loss: 0.3552 - val_accuracy: 0.8448\n",
      "Epoch 38/50\n",
      "908/908 [==============================] - 49s 54ms/step - loss: 0.2597 - accuracy: 0.8867 - val_loss: 0.3542 - val_accuracy: 0.8487\n",
      "Epoch 39/50\n",
      "908/908 [==============================] - 49s 54ms/step - loss: 0.2602 - accuracy: 0.8868 - val_loss: 0.3628 - val_accuracy: 0.8498\n",
      "Epoch 40/50\n",
      "908/908 [==============================] - 49s 54ms/step - loss: 0.2494 - accuracy: 0.8929 - val_loss: 0.3391 - val_accuracy: 0.8534\n",
      "Epoch 41/50\n",
      "908/908 [==============================] - 49s 54ms/step - loss: 0.2462 - accuracy: 0.8881 - val_loss: 0.3644 - val_accuracy: 0.8494\n",
      "Epoch 42/50\n",
      "908/908 [==============================] - 49s 54ms/step - loss: 0.2486 - accuracy: 0.8931 - val_loss: 0.3579 - val_accuracy: 0.8533\n",
      "Epoch 43/50\n",
      "908/908 [==============================] - 49s 54ms/step - loss: 0.2373 - accuracy: 0.8963 - val_loss: 0.3834 - val_accuracy: 0.8493\n",
      "Epoch 44/50\n",
      "908/908 [==============================] - 49s 54ms/step - loss: 0.2427 - accuracy: 0.8960 - val_loss: 0.3662 - val_accuracy: 0.8462\n",
      "Epoch 45/50\n",
      "908/908 [==============================] - 49s 54ms/step - loss: 0.2372 - accuracy: 0.8986 - val_loss: 0.3866 - val_accuracy: 0.8398\n",
      "Epoch 46/50\n",
      "908/908 [==============================] - 49s 54ms/step - loss: 0.2379 - accuracy: 0.8987 - val_loss: 0.3648 - val_accuracy: 0.8531\n",
      "Epoch 47/50\n",
      "908/908 [==============================] - 49s 54ms/step - loss: 0.2240 - accuracy: 0.9042 - val_loss: 0.3644 - val_accuracy: 0.8520\n",
      "Epoch 48/50\n",
      "908/908 [==============================] - 49s 54ms/step - loss: 0.2257 - accuracy: 0.9026 - val_loss: 0.3775 - val_accuracy: 0.8480\n",
      "Epoch 49/50\n",
      "908/908 [==============================] - 49s 54ms/step - loss: 0.2373 - accuracy: 0.8978 - val_loss: 0.3834 - val_accuracy: 0.8453\n",
      "Epoch 50/50\n",
      "908/908 [==============================] - 49s 54ms/step - loss: 0.2237 - accuracy: 0.9048 - val_loss: 0.3742 - val_accuracy: 0.8483\n"
     ]
    }
   ],
   "source": [
    "# Train each of the models\n",
    "history_mobile = model_training(model_mobile, 'mobile')\n",
    "history_dense = model_training(model_dense, 'dense')\n",
    "history_res = model_training(model_res, 'res')"
   ]
  },
  {
   "cell_type": "markdown",
   "id": "7d051d1e-1d22-48eb-b081-d49a951a9790",
   "metadata": {},
   "source": [
    "# Model Analysis"
   ]
  },
  {
   "cell_type": "markdown",
   "id": "173ca3a2-8303-4625-9f93-5836978505e4",
   "metadata": {},
   "source": [
    "## Plot Accuracy and Loss graphs over 50 epochs"
   ]
  },
  {
   "cell_type": "code",
   "execution_count": 12,
   "id": "27b0ff7c-ad21-4ed9-bb61-092fba656925",
   "metadata": {
    "jupyter": {
     "source_hidden": true
    },
    "tags": []
   },
   "outputs": [],
   "source": [
    "def plot_acc_loss_graph(history):\n",
    "    acc = []\n",
    "    val_acc = []\n",
    "    loss = []\n",
    "    val_loss = []\n",
    "\n",
    "    acc += history['accuracy']\n",
    "    val_acc += history['val_accuracy']\n",
    "\n",
    "    loss += history['loss']\n",
    "    val_loss += history['val_loss']\n",
    "\n",
    "    plt.figure(figsize=(8, 8))\n",
    "    plt.subplot(2, 1, 1)\n",
    "    plt.plot(acc, label='Training Accuracy')\n",
    "    plt.plot(val_acc, label='Validation Accuracy')\n",
    "    plt.ylim([0.5, 1])\n",
    "    plt.legend(loc='lower right')\n",
    "    plt.title('Training and Validation Accuracy')\n",
    "\n",
    "    plt.subplot(2, 1, 2)\n",
    "    plt.plot(loss, label='Training Loss')\n",
    "    plt.plot(val_loss, label='Validation Loss')\n",
    "    plt.ylim([0, 1.0])\n",
    "    plt.legend(loc='upper right')\n",
    "    plt.title('Training and Validation Loss')\n",
    "    plt.xlabel('epoch')\n",
    "    plt.show()"
   ]
  },
  {
   "cell_type": "code",
   "execution_count": 13,
   "id": "c6498f53-8750-4d89-b581-d6e9c3cb24b1",
   "metadata": {
    "jupyter": {
     "source_hidden": true
    },
    "tags": []
   },
   "outputs": [],
   "source": [
    "# Load histories\n",
    "with open('history/model_tl_history_mobile.json') as f:\n",
    "    history_mobile = json.load(f)\n",
    "with open('history/model_tl_history_dense.json') as f:\n",
    "    history_dense = json.load(f)\n",
    "with open('history/model_tl_history_res.json') as f:\n",
    "    history_res = json.load(f)"
   ]
  },
  {
   "cell_type": "code",
   "execution_count": 14,
   "id": "8b4b72cb-ce0e-405c-81b5-90254e461d0d",
   "metadata": {},
   "outputs": [
    {
     "data": {
      "image/png": "[encoded data removed]",
      "text/plain": [
       "<Figure size 576x576 with 2 Axes>"
      ]
     },
     "metadata": {
      "needs_background": "light"
     },
     "output_type": "display_data"
    }
   ],
   "source": [
    "# Accuracy and Loss graphs for MobileNet\n",
    "plot_acc_loss_graph(history_mobile)"
   ]
  },
  {
   "cell_type": "code",
   "execution_count": 17,
   "id": "b01e4ea4-b28f-4d5d-935a-a978c3a5f552",
   "metadata": {},
   "outputs": [
    {
     "data": {
      "image/png": "[encoded data removed]",
      "text/plain": [
       "<Figure size 576x576 with 2 Axes>"
      ]
     },
     "metadata": {
      "needs_background": "light"
     },
     "output_type": "display_data"
    }
   ],
   "source": [
    "# Accuracy and Loss graphs for DenseNet\n",
    "plot_acc_loss_graph(history_dense)"
   ]
  },
  {
   "cell_type": "code",
   "execution_count": 18,
   "id": "4be53619-c2ad-4909-8c4b-48a62b499eb6",
   "metadata": {},
   "outputs": [
    {
     "data": {
      "image/png": "[encoded data removed]",
      "text/plain": [
       "<Figure size 576x576 with 2 Axes>"
      ]
     },
     "metadata": {
      "needs_background": "light"
     },
     "output_type": "display_data"
    }
   ],
   "source": [
    "# Accuracy and Loss graphs for ResNet50\n",
    "plot_acc_loss_graph(history_res)"
   ]
  },
  {
   "cell_type": "markdown",
   "id": "05ebe7c5-93cd-4858-90e9-64a8b4d2ee13",
   "metadata": {},
   "source": [
    "## Confusion Matrix"
   ]
  },
  {
   "cell_type": "code",
   "execution_count": 3,
   "id": "0b3e6726-c232-406f-b4b8-4a84c240a14d",
   "metadata": {
    "collapsed": true,
    "jupyter": {
     "outputs_hidden": true
    },
    "tags": []
   },
   "outputs": [
    {
     "name": "stderr",
     "output_type": "stream",
     "text": [
      "Testing on male dataset (test_ori)...: 100%|██████████| 1860/1860 [00:48<00:00, 38.12it/s]\n",
      "/home/monash/.pyenv/versions/3.6.13/envs/fyp/lib/python3.6/site-packages/sklearn/metrics/_classification.py:1248: UndefinedMetricWarning: Recall and F-score are ill-defined and being set to 0.0 in labels with no true samples. Use `zero_division` parameter to control this behavior.\n",
      "  _warn_prf(average, modifier, msg_start, len(result))\n",
      "/home/monash/.pyenv/versions/3.6.13/envs/fyp/lib/python3.6/site-packages/sklearn/metrics/_classification.py:1248: UndefinedMetricWarning: Recall and F-score are ill-defined and being set to 0.0 in labels with no true samples. Use `zero_division` parameter to control this behavior.\n",
      "  _warn_prf(average, modifier, msg_start, len(result))\n",
      "/home/monash/.pyenv/versions/3.6.13/envs/fyp/lib/python3.6/site-packages/sklearn/metrics/_classification.py:1248: UndefinedMetricWarning: Recall and F-score are ill-defined and being set to 0.0 in labels with no true samples. Use `zero_division` parameter to control this behavior.\n",
      "  _warn_prf(average, modifier, msg_start, len(result))\n",
      "Testing on male dataset (test_masked)...:  29%|██▊       | 535/1863 [00:14<00:35, 37.47it/s]\n"
     ]
    },
    {
     "ename": "IsADirectoryError",
     "evalue": "[Errno 21] Is a directory: 'preprocessing/combined_filtered/test_masked/male/.ipynb_checkpoints'",
     "output_type": "error",
     "traceback": [
      "\u001b[0;31m---------------------------------------------------------------------------\u001b[0m",
      "\u001b[0;31mIsADirectoryError\u001b[0m                         Traceback (most recent call last)",
      "\u001b[0;32m<ipython-input-3-465d9dea5006>\u001b[0m in \u001b[0;36m<module>\u001b[0;34m\u001b[0m\n\u001b[0;32m----> 1\u001b[0;31m \u001b[0mcr_mobile\u001b[0m\u001b[0;34m,\u001b[0m \u001b[0mcm_mobile\u001b[0m \u001b[0;34m=\u001b[0m \u001b[0mmake_preds\u001b[0m\u001b[0;34m(\u001b[0m\u001b[0;34m'mobile'\u001b[0m\u001b[0;34m,\u001b[0m \u001b[0;34m'male'\u001b[0m\u001b[0;34m)\u001b[0m\u001b[0;34m\u001b[0m\u001b[0;34m\u001b[0m\u001b[0m\n\u001b[0m",
      "\u001b[0;32m~/Desktop/fyp-work/fyp-ma-13/fyp-models/gen_results.py\u001b[0m in \u001b[0;36mmake_preds\u001b[0;34m(model_type, gender, models)\u001b[0m\n\u001b[1;32m     92\u001b[0m             \u001b[0;32mfor\u001b[0m \u001b[0mi\u001b[0m \u001b[0;32min\u001b[0m \u001b[0mtqdm\u001b[0m\u001b[0;34m(\u001b[0m\u001b[0mrange\u001b[0m\u001b[0;34m(\u001b[0m\u001b[0mlen\u001b[0m\u001b[0;34m(\u001b[0m\u001b[0mmale_dir\u001b[0m\u001b[0;34m)\u001b[0m\u001b[0;34m)\u001b[0m\u001b[0;34m,\u001b[0m \u001b[0;34m'Testing on male dataset ({})...'\u001b[0m\u001b[0;34m.\u001b[0m\u001b[0mformat\u001b[0m\u001b[0;34m(\u001b[0m\u001b[0mdata_name\u001b[0m\u001b[0;34m)\u001b[0m\u001b[0;34m)\u001b[0m\u001b[0;34m:\u001b[0m\u001b[0;34m\u001b[0m\u001b[0;34m\u001b[0m\u001b[0m\n\u001b[1;32m     93\u001b[0m                 \u001b[0mfn\u001b[0m \u001b[0;34m=\u001b[0m \u001b[0mmale_dir\u001b[0m\u001b[0;34m[\u001b[0m\u001b[0mi\u001b[0m\u001b[0;34m]\u001b[0m\u001b[0;34m\u001b[0m\u001b[0;34m\u001b[0m\u001b[0m\n\u001b[0;32m---> 94\u001b[0;31m                 \u001b[0mimg\u001b[0m \u001b[0;34m=\u001b[0m \u001b[0mImage\u001b[0m\u001b[0;34m.\u001b[0m\u001b[0mopen\u001b[0m\u001b[0;34m(\u001b[0m\u001b[0mpreprocessing_fp\u001b[0m \u001b[0;34m+\u001b[0m \u001b[0mdata_name\u001b[0m \u001b[0;34m+\u001b[0m \u001b[0;34m\"/male/\"\u001b[0m \u001b[0;34m+\u001b[0m \u001b[0mfn\u001b[0m\u001b[0;34m)\u001b[0m\u001b[0;34m\u001b[0m\u001b[0;34m\u001b[0m\u001b[0m\n\u001b[0m\u001b[1;32m     95\u001b[0m                 \u001b[0mimg\u001b[0m \u001b[0;34m=\u001b[0m \u001b[0mimg\u001b[0m\u001b[0;34m.\u001b[0m\u001b[0mresize\u001b[0m\u001b[0;34m(\u001b[0m\u001b[0;34m(\u001b[0m\u001b[0;36m224\u001b[0m\u001b[0;34m,\u001b[0m \u001b[0;36m224\u001b[0m\u001b[0;34m)\u001b[0m\u001b[0;34m)\u001b[0m\u001b[0;34m\u001b[0m\u001b[0;34m\u001b[0m\u001b[0m\n\u001b[1;32m     96\u001b[0m                 \u001b[0mimg\u001b[0m \u001b[0;34m=\u001b[0m \u001b[0mnp\u001b[0m\u001b[0;34m.\u001b[0m\u001b[0marray\u001b[0m\u001b[0;34m(\u001b[0m\u001b[0mimg\u001b[0m\u001b[0;34m)\u001b[0m\u001b[0;34m\u001b[0m\u001b[0;34m\u001b[0m\u001b[0m\n",
      "\u001b[0;32m~/.pyenv/versions/3.6.13/envs/fyp/lib/python3.6/site-packages/PIL/Image.py\u001b[0m in \u001b[0;36mopen\u001b[0;34m(fp, mode)\u001b[0m\n\u001b[1;32m   2841\u001b[0m \u001b[0;34m\u001b[0m\u001b[0m\n\u001b[1;32m   2842\u001b[0m     \u001b[0;32mif\u001b[0m \u001b[0mfilename\u001b[0m\u001b[0;34m:\u001b[0m\u001b[0;34m\u001b[0m\u001b[0;34m\u001b[0m\u001b[0m\n\u001b[0;32m-> 2843\u001b[0;31m         \u001b[0mfp\u001b[0m \u001b[0;34m=\u001b[0m \u001b[0mbuiltins\u001b[0m\u001b[0;34m.\u001b[0m\u001b[0mopen\u001b[0m\u001b[0;34m(\u001b[0m\u001b[0mfilename\u001b[0m\u001b[0;34m,\u001b[0m \u001b[0;34m\"rb\"\u001b[0m\u001b[0;34m)\u001b[0m\u001b[0;34m\u001b[0m\u001b[0;34m\u001b[0m\u001b[0m\n\u001b[0m\u001b[1;32m   2844\u001b[0m         \u001b[0mexclusive_fp\u001b[0m \u001b[0;34m=\u001b[0m \u001b[0;32mTrue\u001b[0m\u001b[0;34m\u001b[0m\u001b[0;34m\u001b[0m\u001b[0m\n\u001b[1;32m   2845\u001b[0m \u001b[0;34m\u001b[0m\u001b[0m\n",
      "\u001b[0;31mIsADirectoryError\u001b[0m: [Errno 21] Is a directory: 'preprocessing/combined_filtered/test_masked/male/.ipynb_checkpoints'"
     ]
    }
   ],
   "source": [
    "# Classification reports and confusion matrices for MobileNet\n",
    "cr_mobile_all, cm_mobile_all = gen_save_cr_cm('mobile')\n",
    "cr_mobile_male, cm_mobile_male = gen_save_cr_cm('mobile', 'male')\n",
    "cr_mobile_female, cm_mobile_female = gen_save_cr_cm('mobile', 'female')\n",
    "\n",
    "# Classification reports and confusion matrices for DenseNet\n",
    "cr_dense_all, cm_dense_all = gen_save_cr_cm('dense')\n",
    "cr_dense_male, cm_dense_male = gen_save_cr_cm('dense', 'male')\n",
    "cr_dense_female, cm_dense_female = gen_save_cr_cm('dense', 'female')\n",
    "\n",
    "# Classification reports and confusion matrices for ResNet\n",
    "cr_res_all, cm_res_all = gen_save_cr_cm('res')\n",
    "cr_res_male, cm_res_male = gen_save_cr_cm('res', 'male')\n",
    "cr_res_female, cm_res_female = gen_save_cr_cm('res', 'female')"
   ]
  },
  {
   "cell_type": "code",
   "execution_count": 16,
   "id": "bbc1d340-79a5-4d23-b18a-210127261d40",
   "metadata": {},
   "outputs": [],
   "source": [
    "def load_metrics(model_type, gender):\n",
    "    \"\"\"\n",
    "    Loads in results from folder fyp-ma-13/fyp-models/cr_cm_results\n",
    "    \"\"\"\n",
    "    with open(\"cr_cm_results/cr_cm_{}_{}\".format(model_type, gender)) as json_file:\n",
    "        data = json.load(json_file)\n",
    "        data = json.loads(data)\n",
    "    return data"
   ]
  },
  {
   "cell_type": "code",
   "execution_count": 19,
   "id": "d4760ef6-baf6-4dc8-95d5-c2ea6b6268ac",
   "metadata": {},
   "outputs": [],
   "source": [
    "data = load_metrics(\"mobile\", 'male')"
   ]
  },
  {
   "cell_type": "code",
   "execution_count": 21,
   "id": "5874177d-e156-4520-bdd3-d39891b348bc",
   "metadata": {},
   "outputs": [
    {
     "data": {
      "text/plain": [
       "[[0, 0], [744, 1116]]"
      ]
     },
     "execution_count": 21,
     "metadata": {},
     "output_type": "execute_result"
    }
   ],
   "source": [
    "data['cm_mobile_male']"
   ]
  },
  {
   "cell_type": "markdown",
   "id": "38b4a4be-8de1-48b0-bf4b-158acc0f4a6d",
   "metadata": {},
   "source": [
    "## Display confusion matrices"
   ]
  },
  {
   "cell_type": "code",
   "execution_count": null,
   "id": "08dc3e44-4bfb-4622-8423-aae4f97e9cf6",
   "metadata": {},
   "outputs": [],
   "source": []
  }
 ],
 "metadata": {
  "kernelspec": {
   "display_name": "fyp",
   "language": "python",
   "name": "fyp"
  },
  "language_info": {
   "codemirror_mode": {
    "name": "ipython",
    "version": 3
   },
   "file_extension": ".py",
   "mimetype": "text/x-python",
   "name": "python",
   "nbconvert_exporter": "python",
   "pygments_lexer": "ipython3",
   "version": "3.6.13"
  }
 },
 "nbformat": 4,
 "nbformat_minor": 5
}
