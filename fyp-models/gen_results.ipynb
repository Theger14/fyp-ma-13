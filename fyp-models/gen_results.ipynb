{
 "cells": [
  {
   "cell_type": "code",
   "execution_count": 1,
   "id": "2cf1ad25-1567-4016-ba5a-baf0b971e083",
   "metadata": {},
   "outputs": [],
   "source": [
    "import os\n",
    "import numpy as np\n",
    "import pandas as pd\n",
    "import tensorflow as tf"
   ]
  },
  {
   "cell_type": "code",
   "execution_count": 2,
   "id": "bec836df-14b6-482a-bcd7-88bbc55471fb",
   "metadata": {},
   "outputs": [],
   "source": [
    "from tensorflow.keras.preprocessing import image_dataset_from_directory\n",
    "from keras.preprocessing.image import ImageDataGenerator"
   ]
  },
  {
   "cell_type": "code",
   "execution_count": 3,
   "id": "e00755a4-7a9f-4e59-a55a-ba7ecc9c1c40",
   "metadata": {},
   "outputs": [],
   "source": [
    "preprocessing_fp = \"preprocessing/combined_filtered/\""
   ]
  },
  {
   "cell_type": "code",
   "execution_count": 4,
   "id": "7b1156ad-07fc-441c-8d9f-6e39b326252f",
   "metadata": {},
   "outputs": [],
   "source": [
    "BATCH_SIZE = 32\n",
    "EPOCHS = 500\n",
    "IMG_SIZE = (224,224)\n",
    "LABELS = [\"female\", \"male\"]"
   ]
  },
  {
   "cell_type": "code",
   "execution_count": 5,
   "id": "aeb2a8ba-f474-4f34-9ce0-74d1aea8deee",
   "metadata": {},
   "outputs": [
    {
     "name": "stdout",
     "output_type": "stream",
     "text": [
      "Found 29026 files belonging to 2 classes.\n"
     ]
    }
   ],
   "source": [
    "train_dataset = image_dataset_from_directory(os.path.join(preprocessing_fp, \"train\"),\n",
    "                                             shuffle=True,\n",
    "                                             batch_size=BATCH_SIZE,\n",
    "                                             image_size=IMG_SIZE)"
   ]
  },
  {
   "cell_type": "code",
   "execution_count": 6,
   "id": "75bd8549-6779-4f35-b813-48e317cd8318",
   "metadata": {},
   "outputs": [
    {
     "name": "stdout",
     "output_type": "stream",
     "text": [
      "Found 8275 files belonging to 2 classes.\n"
     ]
    }
   ],
   "source": [
    "validation_dataset = image_dataset_from_directory(os.path.join(preprocessing_fp, \"val\"),\n",
    "                                                  shuffle=True,\n",
    "                                                  batch_size=BATCH_SIZE,\n",
    "                                                  image_size=IMG_SIZE)"
   ]
  },
  {
   "cell_type": "code",
   "execution_count": 7,
   "id": "a4b1107b-77af-4aee-961f-4a90136882e3",
   "metadata": {},
   "outputs": [
    {
     "name": "stdout",
     "output_type": "stream",
     "text": [
      "Model: \"model\"\n",
      "_________________________________________________________________\n",
      "Layer (type)                 Output Shape              Param #   \n",
      "=================================================================\n",
      "input_2 (InputLayer)         [(None, 224, 224, 3)]     0         \n",
      "_________________________________________________________________\n",
      "resnet50 (Functional)        (None, 7, 7, 2048)        23587712  \n",
      "_________________________________________________________________\n",
      "global_average_pooling2d (Gl (None, 2048)              0         \n",
      "_________________________________________________________________\n",
      "dense (Dense)                (None, 1)                 2049      \n",
      "=================================================================\n",
      "Total params: 23,589,761\n",
      "Trainable params: 2,049\n",
      "Non-trainable params: 23,587,712\n",
      "_________________________________________________________________\n"
     ]
    }
   ],
   "source": [
    "# Initialize the Pretrained Model\n",
    "feature_extractor = tf.keras.applications.resnet50.ResNet50(input_shape=(224, 224, 3),\n",
    "                                               include_top=False,\n",
    "                                               weights='imagenet')\n",
    "\n",
    "# Set this parameter to make sure it's not being trained\n",
    "feature_extractor.trainable = False\n",
    "\n",
    "# Set the input layer\n",
    "input_ = tf.keras.Input(shape=(224, 224, 3))\n",
    "\n",
    "# Set the feature extractor layer\n",
    "x = feature_extractor(input_, training=False)\n",
    "\n",
    "# Set the pooling layer\n",
    "x = tf.keras.layers.GlobalAveragePooling2D()(x)\n",
    "\n",
    "# Set the final layer with sigmoid activation function\n",
    "output_ = tf.keras.layers.Dense(1, activation='sigmoid')(x)\n",
    "\n",
    "# Create the new model object\n",
    "model = tf.keras.Model(input_, output_)\n",
    "\n",
    "# Compile it\n",
    "model.compile(optimizer='adam',\n",
    "             loss='binary_crossentropy',\n",
    "             metrics=['accuracy'])\n",
    "\n",
    "# Print The Summary of The Model\n",
    "model.summary()"
   ]
  },
  {
   "cell_type": "code",
   "execution_count": 8,
   "id": "c5044f86-8a82-4ed8-b79a-e6e3a68b05c7",
   "metadata": {},
   "outputs": [
    {
     "name": "stdout",
     "output_type": "stream",
     "text": [
      "Epoch 1/20\n",
      "908/908 [==============================] - 66s 69ms/step - loss: 0.4682 - accuracy: 0.7684 - val_loss: 0.4028 - val_accuracy: 0.8141\n",
      "Epoch 2/20\n",
      "908/908 [==============================] - 61s 67ms/step - loss: 0.3757 - accuracy: 0.8277 - val_loss: 0.3680 - val_accuracy: 0.8331\n",
      "Epoch 3/20\n",
      "908/908 [==============================] - 61s 67ms/step - loss: 0.3534 - accuracy: 0.8437 - val_loss: 0.3608 - val_accuracy: 0.8389\n",
      "Epoch 4/20\n",
      "908/908 [==============================] - 61s 67ms/step - loss: 0.3394 - accuracy: 0.8517 - val_loss: 0.3568 - val_accuracy: 0.8399\n",
      "Epoch 5/20\n",
      "908/908 [==============================] - 61s 67ms/step - loss: 0.3320 - accuracy: 0.8529 - val_loss: 0.3519 - val_accuracy: 0.8418\n",
      "Epoch 6/20\n",
      "908/908 [==============================] - 61s 67ms/step - loss: 0.3253 - accuracy: 0.8560 - val_loss: 0.3512 - val_accuracy: 0.8427\n",
      "Epoch 7/20\n",
      "908/908 [==============================] - 62s 68ms/step - loss: 0.3175 - accuracy: 0.8633 - val_loss: 0.3546 - val_accuracy: 0.8436\n",
      "Epoch 8/20\n",
      "908/908 [==============================] - 62s 68ms/step - loss: 0.3177 - accuracy: 0.8622 - val_loss: 0.3518 - val_accuracy: 0.8452\n",
      "Epoch 9/20\n",
      "908/908 [==============================] - 61s 68ms/step - loss: 0.3161 - accuracy: 0.8634 - val_loss: 0.3448 - val_accuracy: 0.8465\n",
      "Epoch 10/20\n",
      "908/908 [==============================] - 61s 67ms/step - loss: 0.3189 - accuracy: 0.8600 - val_loss: 0.3483 - val_accuracy: 0.8475\n",
      "Epoch 11/20\n",
      "908/908 [==============================] - 62s 68ms/step - loss: 0.3091 - accuracy: 0.8664 - val_loss: 0.3451 - val_accuracy: 0.8480\n",
      "Epoch 12/20\n",
      "908/908 [==============================] - 62s 68ms/step - loss: 0.3063 - accuracy: 0.8683 - val_loss: 0.3466 - val_accuracy: 0.8466\n",
      "Epoch 13/20\n",
      "908/908 [==============================] - 62s 68ms/step - loss: 0.3023 - accuracy: 0.8695 - val_loss: 0.3466 - val_accuracy: 0.8474\n",
      "Epoch 14/20\n",
      "908/908 [==============================] - 62s 68ms/step - loss: 0.3047 - accuracy: 0.8686 - val_loss: 0.3975 - val_accuracy: 0.8295\n",
      "Epoch 15/20\n",
      "908/908 [==============================] - 61s 67ms/step - loss: 0.3086 - accuracy: 0.8650 - val_loss: 0.3591 - val_accuracy: 0.8429\n",
      "Epoch 16/20\n",
      "908/908 [==============================] - 60s 66ms/step - loss: 0.3022 - accuracy: 0.8687 - val_loss: 0.3668 - val_accuracy: 0.8410\n",
      "Epoch 17/20\n",
      "908/908 [==============================] - 62s 68ms/step - loss: 0.2988 - accuracy: 0.8706 - val_loss: 0.3490 - val_accuracy: 0.8474\n",
      "Epoch 18/20\n",
      "908/908 [==============================] - 62s 68ms/step - loss: 0.3007 - accuracy: 0.8711 - val_loss: 0.3489 - val_accuracy: 0.8470\n",
      "Epoch 19/20\n",
      "908/908 [==============================] - 62s 68ms/step - loss: 0.3017 - accuracy: 0.8698 - val_loss: 0.3553 - val_accuracy: 0.8433\n",
      "Epoch 20/20\n",
      "908/908 [==============================] - 62s 68ms/step - loss: 0.2963 - accuracy: 0.8722 - val_loss: 0.3594 - val_accuracy: 0.8394\n"
     ]
    },
    {
     "data": {
      "text/plain": [
       "<tensorflow.python.keras.callbacks.History at 0x7f1238136ac8>"
      ]
     },
     "execution_count": 8,
     "metadata": {},
     "output_type": "execute_result"
    }
   ],
   "source": [
    "model.fit(train_dataset, epochs=20, validation_data=validation_dataset)"
   ]
  },
  {
   "cell_type": "code",
   "execution_count": 11,
   "id": "7a165519-cdf8-404e-b899-3b49c6199ae6",
   "metadata": {},
   "outputs": [
    {
     "data": {
      "text/plain": [
       "'preprocessing/combined_filtered/'"
      ]
     },
     "execution_count": 11,
     "metadata": {},
     "output_type": "execute_result"
    }
   ],
   "source": [
    "preprocessing_fp"
   ]
  },
  {
   "cell_type": "code",
   "execution_count": 27,
   "id": "4b1ef4c9-db86-42be-bb1d-e1ee0b2681b2",
   "metadata": {},
   "outputs": [],
   "source": [
    "mobilenet = tf.keras.models.load_model('model_tl_best_weights.h5')\n",
    "resnet = tf.keras.models.load_model('model_tl_resnet_best_weights.h5')\n",
    "densenet = tf.keras.models.load_model('model_tl_densenet_best_weights.h5')"
   ]
  },
  {
   "cell_type": "code",
   "execution_count": 28,
   "id": "1ddd0dc2-9438-41e1-aa4f-259e1803d89f",
   "metadata": {},
   "outputs": [],
   "source": [
    "models = [mobilenet, resnet, densenet]"
   ]
  },
  {
   "cell_type": "code",
   "execution_count": 41,
   "id": "bb2a0d8c-547a-4f25-bdd9-d4088437cd91",
   "metadata": {},
   "outputs": [],
   "source": [
    "from PIL import Image\n",
    "from sklearn.metrics import classification_report, confusion_matrix\n",
    "\n",
    "def make_preds(model, gender=None):\n",
    "    # FEMALE => 0\n",
    "    # MALE => 1\n",
    "    datasets = [\"test_ori\", \"test_masked\", \"test_glasses\", \"test_make_up\"]\n",
    "    for data_name in datasets:\n",
    "        y_true = []\n",
    "        y_pred = []\n",
    "        if gender is None:\n",
    "            for i in os.listdir(preprocessing_fp + data_name + \"/male\"):\n",
    "                img = Image.open(preprocessing_fp + data_name + \"/male/\" + i)\n",
    "                img = img.resize((224, 224))\n",
    "                img = np.array(img)\n",
    "                img = np.expand_dims(img, 0)\n",
    "\n",
    "                y_true.append(1)\n",
    "                y_pred.append(1 if model.predict(img) > 0.5 else 0)\n",
    "\n",
    "            for i in os.listdir(preprocessing_fp + data_name + \"/female\"):\n",
    "                img = Image.open(preprocessing_fp + data_name + \"/female/\" + i)\n",
    "                img = img.resize((224, 224))\n",
    "                img = np.array(img)\n",
    "                img = np.expand_dims(img, 0)\n",
    "\n",
    "                y_true.append(0)\n",
    "                y_pred.append(1 if model.predict(img) > 0.5 else 0)\n",
    "        elif gender == 'male':\n",
    "            for i in os.listdir(preprocessing_fp + data_name + \"/male\"):\n",
    "                img = Image.open(preprocessing_fp + data_name + \"/male/\" + i)\n",
    "                img = img.resize((224, 224))\n",
    "                img = np.array(img)\n",
    "                img = np.expand_dims(img, 0)\n",
    "\n",
    "                y_true.append(1)\n",
    "                y_pred.append(1 if model.predict(img) > 0.5 else 0)\n",
    "        elif gender == 'female':\n",
    "            for i in os.listdir(preprocessing_fp + data_name + \"/female\"):\n",
    "                img = Image.open(preprocessing_fp + data_name + \"/female/\" + i)\n",
    "                img = img.resize((224, 224))\n",
    "                img = np.array(img)\n",
    "                img = np.expand_dims(img, 0)\n",
    "\n",
    "                y_true.append(0)\n",
    "                y_pred.append(1 if model.predict(img) > 0.5 else 0)\n",
    "\n",
    "        print(classification_report(y_true, y_pred))\n",
    "        print()\n",
    "        print(confusion_matrix(y_true, y_pred))"
   ]
  },
  {
   "cell_type": "code",
   "execution_count": 38,
   "id": "0628de46-2ef4-4be7-8bb7-3c142ff4e7e1",
   "metadata": {
    "collapsed": true,
    "jupyter": {
     "outputs_hidden": true
    },
    "tags": []
   },
   "outputs": [
    {
     "name": "stdout",
     "output_type": "stream",
     "text": [
      "              precision    recall  f1-score   support\n",
      "\n",
      "           0       0.80      0.83      0.81      2144\n",
      "           1       0.79      0.76      0.78      1860\n",
      "\n",
      "    accuracy                           0.80      4004\n",
      "   macro avg       0.80      0.80      0.80      4004\n",
      "weighted avg       0.80      0.80      0.80      4004\n",
      "\n",
      "\n",
      "[[1774  370]\n",
      " [ 438 1422]]\n",
      "              precision    recall  f1-score   support\n",
      "\n",
      "           0       0.67      0.60      0.63      2144\n",
      "           1       0.59      0.66      0.62      1862\n",
      "\n",
      "    accuracy                           0.63      4006\n",
      "   macro avg       0.63      0.63      0.63      4006\n",
      "weighted avg       0.63      0.63      0.63      4006\n",
      "\n",
      "\n",
      "[[1284  860]\n",
      " [ 636 1226]]\n",
      "              precision    recall  f1-score   support\n",
      "\n",
      "           0       0.78      0.61      0.69      2144\n",
      "           1       0.64      0.80      0.71      1860\n",
      "\n",
      "    accuracy                           0.70      4004\n",
      "   macro avg       0.71      0.71      0.70      4004\n",
      "weighted avg       0.72      0.70      0.70      4004\n",
      "\n",
      "\n",
      "[[1316  828]\n",
      " [ 367 1493]]\n",
      "              precision    recall  f1-score   support\n",
      "\n",
      "           0       0.67      0.94      0.78      2144\n",
      "           1       0.87      0.46      0.60      1860\n",
      "\n",
      "    accuracy                           0.72      4004\n",
      "   macro avg       0.77      0.70      0.69      4004\n",
      "weighted avg       0.76      0.72      0.70      4004\n",
      "\n",
      "\n",
      "[[2019  125]\n",
      " [1011  849]]\n",
      "\n",
      " ================================================= \n",
      "\n",
      "              precision    recall  f1-score   support\n",
      "\n",
      "           0       0.84      0.87      0.86      2144\n",
      "           1       0.85      0.81      0.83      1860\n",
      "\n",
      "    accuracy                           0.84      4004\n",
      "   macro avg       0.84      0.84      0.84      4004\n",
      "weighted avg       0.84      0.84      0.84      4004\n",
      "\n",
      "\n",
      "[[1874  270]\n",
      " [ 358 1502]]\n",
      "              precision    recall  f1-score   support\n",
      "\n",
      "           0       0.76      0.39      0.52      2144\n",
      "           1       0.55      0.86      0.67      1862\n",
      "\n",
      "    accuracy                           0.61      4006\n",
      "   macro avg       0.66      0.63      0.59      4006\n",
      "weighted avg       0.66      0.61      0.59      4006\n",
      "\n",
      "\n",
      "[[ 834 1310]\n",
      " [ 258 1604]]\n",
      "              precision    recall  f1-score   support\n",
      "\n",
      "           0       0.79      0.66      0.72      2144\n",
      "           1       0.67      0.79      0.73      1860\n",
      "\n",
      "    accuracy                           0.72      4004\n",
      "   macro avg       0.73      0.73      0.72      4004\n",
      "weighted avg       0.73      0.72      0.72      4004\n",
      "\n",
      "\n",
      "[[1414  730]\n",
      " [ 382 1478]]\n",
      "              precision    recall  f1-score   support\n",
      "\n",
      "           0       0.68      0.94      0.79      2144\n",
      "           1       0.88      0.48      0.62      1860\n",
      "\n",
      "    accuracy                           0.73      4004\n",
      "   macro avg       0.78      0.71      0.71      4004\n",
      "weighted avg       0.77      0.73      0.71      4004\n",
      "\n",
      "\n",
      "[[2021  123]\n",
      " [ 959  901]]\n",
      "\n",
      " ================================================= \n",
      "\n",
      "              precision    recall  f1-score   support\n",
      "\n",
      "           0       0.87      0.83      0.85      2144\n",
      "           1       0.81      0.85      0.83      1860\n",
      "\n",
      "    accuracy                           0.84      4004\n",
      "   macro avg       0.84      0.84      0.84      4004\n",
      "weighted avg       0.84      0.84      0.84      4004\n",
      "\n",
      "\n",
      "[[1783  361]\n",
      " [ 272 1588]]\n",
      "              precision    recall  f1-score   support\n",
      "\n",
      "           0       0.69      0.61      0.65      2144\n",
      "           1       0.60      0.68      0.64      1862\n",
      "\n",
      "    accuracy                           0.64      4006\n",
      "   macro avg       0.65      0.65      0.64      4006\n",
      "weighted avg       0.65      0.64      0.65      4006\n",
      "\n",
      "\n",
      "[[1312  832]\n",
      " [ 591 1271]]\n",
      "              precision    recall  f1-score   support\n",
      "\n",
      "           0       0.71      0.88      0.79      2144\n",
      "           1       0.81      0.58      0.68      1860\n",
      "\n",
      "    accuracy                           0.74      4004\n",
      "   macro avg       0.76      0.73      0.73      4004\n",
      "weighted avg       0.76      0.74      0.74      4004\n",
      "\n",
      "\n",
      "[[1890  254]\n",
      " [ 774 1086]]\n",
      "              precision    recall  f1-score   support\n",
      "\n",
      "           0       0.69      0.95      0.80      2144\n",
      "           1       0.90      0.51      0.65      1860\n",
      "\n",
      "    accuracy                           0.74      4004\n",
      "   macro avg       0.79      0.73      0.72      4004\n",
      "weighted avg       0.79      0.74      0.73      4004\n",
      "\n",
      "\n",
      "[[2034  110]\n",
      " [ 912  948]]\n",
      "\n",
      " ================================================= \n",
      "\n"
     ]
    }
   ],
   "source": [
    "for model in models:\n",
    "    make_preds(model)\n",
    "    print(\"\\n ================================================= \\n\")"
   ]
  },
  {
   "cell_type": "markdown",
   "id": "e99de50b-9724-414c-9343-2ccdfc87e7f7",
   "metadata": {},
   "source": [
    "# Male only"
   ]
  },
  {
   "cell_type": "code",
   "execution_count": 42,
   "id": "3d8ace32-228c-4e3a-b7f5-3ca9095a6b2a",
   "metadata": {},
   "outputs": [
    {
     "name": "stderr",
     "output_type": "stream",
     "text": [
      "/home/monash/.pyenv/versions/3.6.13/envs/fyp/lib/python3.6/site-packages/sklearn/metrics/_classification.py:1248: UndefinedMetricWarning: Recall and F-score are ill-defined and being set to 0.0 in labels with no true samples. Use `zero_division` parameter to control this behavior.\n",
      "  _warn_prf(average, modifier, msg_start, len(result))\n",
      "/home/monash/.pyenv/versions/3.6.13/envs/fyp/lib/python3.6/site-packages/sklearn/metrics/_classification.py:1248: UndefinedMetricWarning: Recall and F-score are ill-defined and being set to 0.0 in labels with no true samples. Use `zero_division` parameter to control this behavior.\n",
      "  _warn_prf(average, modifier, msg_start, len(result))\n",
      "/home/monash/.pyenv/versions/3.6.13/envs/fyp/lib/python3.6/site-packages/sklearn/metrics/_classification.py:1248: UndefinedMetricWarning: Recall and F-score are ill-defined and being set to 0.0 in labels with no true samples. Use `zero_division` parameter to control this behavior.\n",
      "  _warn_prf(average, modifier, msg_start, len(result))\n"
     ]
    },
    {
     "name": "stdout",
     "output_type": "stream",
     "text": [
      "              precision    recall  f1-score   support\n",
      "\n",
      "           0       0.00      0.00      0.00         0\n",
      "           1       1.00      0.76      0.87      1860\n",
      "\n",
      "    accuracy                           0.76      1860\n",
      "   macro avg       0.50      0.38      0.43      1860\n",
      "weighted avg       1.00      0.76      0.87      1860\n",
      "\n",
      "\n",
      "[[   0    0]\n",
      " [ 438 1422]]\n"
     ]
    },
    {
     "name": "stderr",
     "output_type": "stream",
     "text": [
      "/home/monash/.pyenv/versions/3.6.13/envs/fyp/lib/python3.6/site-packages/sklearn/metrics/_classification.py:1248: UndefinedMetricWarning: Recall and F-score are ill-defined and being set to 0.0 in labels with no true samples. Use `zero_division` parameter to control this behavior.\n",
      "  _warn_prf(average, modifier, msg_start, len(result))\n",
      "/home/monash/.pyenv/versions/3.6.13/envs/fyp/lib/python3.6/site-packages/sklearn/metrics/_classification.py:1248: UndefinedMetricWarning: Recall and F-score are ill-defined and being set to 0.0 in labels with no true samples. Use `zero_division` parameter to control this behavior.\n",
      "  _warn_prf(average, modifier, msg_start, len(result))\n",
      "/home/monash/.pyenv/versions/3.6.13/envs/fyp/lib/python3.6/site-packages/sklearn/metrics/_classification.py:1248: UndefinedMetricWarning: Recall and F-score are ill-defined and being set to 0.0 in labels with no true samples. Use `zero_division` parameter to control this behavior.\n",
      "  _warn_prf(average, modifier, msg_start, len(result))\n"
     ]
    },
    {
     "name": "stdout",
     "output_type": "stream",
     "text": [
      "              precision    recall  f1-score   support\n",
      "\n",
      "           0       0.00      0.00      0.00         0\n",
      "           1       1.00      0.66      0.79      1862\n",
      "\n",
      "    accuracy                           0.66      1862\n",
      "   macro avg       0.50      0.33      0.40      1862\n",
      "weighted avg       1.00      0.66      0.79      1862\n",
      "\n",
      "\n",
      "[[   0    0]\n",
      " [ 636 1226]]\n"
     ]
    },
    {
     "name": "stderr",
     "output_type": "stream",
     "text": [
      "/home/monash/.pyenv/versions/3.6.13/envs/fyp/lib/python3.6/site-packages/sklearn/metrics/_classification.py:1248: UndefinedMetricWarning: Recall and F-score are ill-defined and being set to 0.0 in labels with no true samples. Use `zero_division` parameter to control this behavior.\n",
      "  _warn_prf(average, modifier, msg_start, len(result))\n",
      "/home/monash/.pyenv/versions/3.6.13/envs/fyp/lib/python3.6/site-packages/sklearn/metrics/_classification.py:1248: UndefinedMetricWarning: Recall and F-score are ill-defined and being set to 0.0 in labels with no true samples. Use `zero_division` parameter to control this behavior.\n",
      "  _warn_prf(average, modifier, msg_start, len(result))\n",
      "/home/monash/.pyenv/versions/3.6.13/envs/fyp/lib/python3.6/site-packages/sklearn/metrics/_classification.py:1248: UndefinedMetricWarning: Recall and F-score are ill-defined and being set to 0.0 in labels with no true samples. Use `zero_division` parameter to control this behavior.\n",
      "  _warn_prf(average, modifier, msg_start, len(result))\n"
     ]
    },
    {
     "name": "stdout",
     "output_type": "stream",
     "text": [
      "              precision    recall  f1-score   support\n",
      "\n",
      "           0       0.00      0.00      0.00         0\n",
      "           1       1.00      0.80      0.89      1860\n",
      "\n",
      "    accuracy                           0.80      1860\n",
      "   macro avg       0.50      0.40      0.45      1860\n",
      "weighted avg       1.00      0.80      0.89      1860\n",
      "\n",
      "\n",
      "[[   0    0]\n",
      " [ 367 1493]]\n"
     ]
    },
    {
     "name": "stderr",
     "output_type": "stream",
     "text": [
      "/home/monash/.pyenv/versions/3.6.13/envs/fyp/lib/python3.6/site-packages/sklearn/metrics/_classification.py:1248: UndefinedMetricWarning: Recall and F-score are ill-defined and being set to 0.0 in labels with no true samples. Use `zero_division` parameter to control this behavior.\n",
      "  _warn_prf(average, modifier, msg_start, len(result))\n",
      "/home/monash/.pyenv/versions/3.6.13/envs/fyp/lib/python3.6/site-packages/sklearn/metrics/_classification.py:1248: UndefinedMetricWarning: Recall and F-score are ill-defined and being set to 0.0 in labels with no true samples. Use `zero_division` parameter to control this behavior.\n",
      "  _warn_prf(average, modifier, msg_start, len(result))\n",
      "/home/monash/.pyenv/versions/3.6.13/envs/fyp/lib/python3.6/site-packages/sklearn/metrics/_classification.py:1248: UndefinedMetricWarning: Recall and F-score are ill-defined and being set to 0.0 in labels with no true samples. Use `zero_division` parameter to control this behavior.\n",
      "  _warn_prf(average, modifier, msg_start, len(result))\n"
     ]
    },
    {
     "name": "stdout",
     "output_type": "stream",
     "text": [
      "              precision    recall  f1-score   support\n",
      "\n",
      "           0       0.00      0.00      0.00         0\n",
      "           1       1.00      0.46      0.63      1860\n",
      "\n",
      "    accuracy                           0.46      1860\n",
      "   macro avg       0.50      0.23      0.31      1860\n",
      "weighted avg       1.00      0.46      0.63      1860\n",
      "\n",
      "\n",
      "[[   0    0]\n",
      " [1011  849]]\n",
      "\n",
      " ================================================= \n",
      "\n"
     ]
    },
    {
     "name": "stderr",
     "output_type": "stream",
     "text": [
      "/home/monash/.pyenv/versions/3.6.13/envs/fyp/lib/python3.6/site-packages/sklearn/metrics/_classification.py:1248: UndefinedMetricWarning: Recall and F-score are ill-defined and being set to 0.0 in labels with no true samples. Use `zero_division` parameter to control this behavior.\n",
      "  _warn_prf(average, modifier, msg_start, len(result))\n",
      "/home/monash/.pyenv/versions/3.6.13/envs/fyp/lib/python3.6/site-packages/sklearn/metrics/_classification.py:1248: UndefinedMetricWarning: Recall and F-score are ill-defined and being set to 0.0 in labels with no true samples. Use `zero_division` parameter to control this behavior.\n",
      "  _warn_prf(average, modifier, msg_start, len(result))\n",
      "/home/monash/.pyenv/versions/3.6.13/envs/fyp/lib/python3.6/site-packages/sklearn/metrics/_classification.py:1248: UndefinedMetricWarning: Recall and F-score are ill-defined and being set to 0.0 in labels with no true samples. Use `zero_division` parameter to control this behavior.\n",
      "  _warn_prf(average, modifier, msg_start, len(result))\n"
     ]
    },
    {
     "name": "stdout",
     "output_type": "stream",
     "text": [
      "              precision    recall  f1-score   support\n",
      "\n",
      "           0       0.00      0.00      0.00         0\n",
      "           1       1.00      0.81      0.89      1860\n",
      "\n",
      "    accuracy                           0.81      1860\n",
      "   macro avg       0.50      0.40      0.45      1860\n",
      "weighted avg       1.00      0.81      0.89      1860\n",
      "\n",
      "\n",
      "[[   0    0]\n",
      " [ 358 1502]]\n"
     ]
    },
    {
     "name": "stderr",
     "output_type": "stream",
     "text": [
      "/home/monash/.pyenv/versions/3.6.13/envs/fyp/lib/python3.6/site-packages/sklearn/metrics/_classification.py:1248: UndefinedMetricWarning: Recall and F-score are ill-defined and being set to 0.0 in labels with no true samples. Use `zero_division` parameter to control this behavior.\n",
      "  _warn_prf(average, modifier, msg_start, len(result))\n",
      "/home/monash/.pyenv/versions/3.6.13/envs/fyp/lib/python3.6/site-packages/sklearn/metrics/_classification.py:1248: UndefinedMetricWarning: Recall and F-score are ill-defined and being set to 0.0 in labels with no true samples. Use `zero_division` parameter to control this behavior.\n",
      "  _warn_prf(average, modifier, msg_start, len(result))\n",
      "/home/monash/.pyenv/versions/3.6.13/envs/fyp/lib/python3.6/site-packages/sklearn/metrics/_classification.py:1248: UndefinedMetricWarning: Recall and F-score are ill-defined and being set to 0.0 in labels with no true samples. Use `zero_division` parameter to control this behavior.\n",
      "  _warn_prf(average, modifier, msg_start, len(result))\n"
     ]
    },
    {
     "name": "stdout",
     "output_type": "stream",
     "text": [
      "              precision    recall  f1-score   support\n",
      "\n",
      "           0       0.00      0.00      0.00         0\n",
      "           1       1.00      0.86      0.93      1862\n",
      "\n",
      "    accuracy                           0.86      1862\n",
      "   macro avg       0.50      0.43      0.46      1862\n",
      "weighted avg       1.00      0.86      0.93      1862\n",
      "\n",
      "\n",
      "[[   0    0]\n",
      " [ 258 1604]]\n"
     ]
    },
    {
     "name": "stderr",
     "output_type": "stream",
     "text": [
      "/home/monash/.pyenv/versions/3.6.13/envs/fyp/lib/python3.6/site-packages/sklearn/metrics/_classification.py:1248: UndefinedMetricWarning: Recall and F-score are ill-defined and being set to 0.0 in labels with no true samples. Use `zero_division` parameter to control this behavior.\n",
      "  _warn_prf(average, modifier, msg_start, len(result))\n",
      "/home/monash/.pyenv/versions/3.6.13/envs/fyp/lib/python3.6/site-packages/sklearn/metrics/_classification.py:1248: UndefinedMetricWarning: Recall and F-score are ill-defined and being set to 0.0 in labels with no true samples. Use `zero_division` parameter to control this behavior.\n",
      "  _warn_prf(average, modifier, msg_start, len(result))\n",
      "/home/monash/.pyenv/versions/3.6.13/envs/fyp/lib/python3.6/site-packages/sklearn/metrics/_classification.py:1248: UndefinedMetricWarning: Recall and F-score are ill-defined and being set to 0.0 in labels with no true samples. Use `zero_division` parameter to control this behavior.\n",
      "  _warn_prf(average, modifier, msg_start, len(result))\n"
     ]
    },
    {
     "name": "stdout",
     "output_type": "stream",
     "text": [
      "              precision    recall  f1-score   support\n",
      "\n",
      "           0       0.00      0.00      0.00         0\n",
      "           1       1.00      0.79      0.89      1860\n",
      "\n",
      "    accuracy                           0.79      1860\n",
      "   macro avg       0.50      0.40      0.44      1860\n",
      "weighted avg       1.00      0.79      0.89      1860\n",
      "\n",
      "\n",
      "[[   0    0]\n",
      " [ 382 1478]]\n"
     ]
    },
    {
     "name": "stderr",
     "output_type": "stream",
     "text": [
      "/home/monash/.pyenv/versions/3.6.13/envs/fyp/lib/python3.6/site-packages/sklearn/metrics/_classification.py:1248: UndefinedMetricWarning: Recall and F-score are ill-defined and being set to 0.0 in labels with no true samples. Use `zero_division` parameter to control this behavior.\n",
      "  _warn_prf(average, modifier, msg_start, len(result))\n",
      "/home/monash/.pyenv/versions/3.6.13/envs/fyp/lib/python3.6/site-packages/sklearn/metrics/_classification.py:1248: UndefinedMetricWarning: Recall and F-score are ill-defined and being set to 0.0 in labels with no true samples. Use `zero_division` parameter to control this behavior.\n",
      "  _warn_prf(average, modifier, msg_start, len(result))\n",
      "/home/monash/.pyenv/versions/3.6.13/envs/fyp/lib/python3.6/site-packages/sklearn/metrics/_classification.py:1248: UndefinedMetricWarning: Recall and F-score are ill-defined and being set to 0.0 in labels with no true samples. Use `zero_division` parameter to control this behavior.\n",
      "  _warn_prf(average, modifier, msg_start, len(result))\n"
     ]
    },
    {
     "name": "stdout",
     "output_type": "stream",
     "text": [
      "              precision    recall  f1-score   support\n",
      "\n",
      "           0       0.00      0.00      0.00         0\n",
      "           1       1.00      0.48      0.65      1860\n",
      "\n",
      "    accuracy                           0.48      1860\n",
      "   macro avg       0.50      0.24      0.33      1860\n",
      "weighted avg       1.00      0.48      0.65      1860\n",
      "\n",
      "\n",
      "[[  0   0]\n",
      " [959 901]]\n",
      "\n",
      " ================================================= \n",
      "\n"
     ]
    },
    {
     "name": "stderr",
     "output_type": "stream",
     "text": [
      "/home/monash/.pyenv/versions/3.6.13/envs/fyp/lib/python3.6/site-packages/sklearn/metrics/_classification.py:1248: UndefinedMetricWarning: Recall and F-score are ill-defined and being set to 0.0 in labels with no true samples. Use `zero_division` parameter to control this behavior.\n",
      "  _warn_prf(average, modifier, msg_start, len(result))\n",
      "/home/monash/.pyenv/versions/3.6.13/envs/fyp/lib/python3.6/site-packages/sklearn/metrics/_classification.py:1248: UndefinedMetricWarning: Recall and F-score are ill-defined and being set to 0.0 in labels with no true samples. Use `zero_division` parameter to control this behavior.\n",
      "  _warn_prf(average, modifier, msg_start, len(result))\n",
      "/home/monash/.pyenv/versions/3.6.13/envs/fyp/lib/python3.6/site-packages/sklearn/metrics/_classification.py:1248: UndefinedMetricWarning: Recall and F-score are ill-defined and being set to 0.0 in labels with no true samples. Use `zero_division` parameter to control this behavior.\n",
      "  _warn_prf(average, modifier, msg_start, len(result))\n"
     ]
    },
    {
     "name": "stdout",
     "output_type": "stream",
     "text": [
      "              precision    recall  f1-score   support\n",
      "\n",
      "           0       0.00      0.00      0.00         0\n",
      "           1       1.00      0.85      0.92      1860\n",
      "\n",
      "    accuracy                           0.85      1860\n",
      "   macro avg       0.50      0.43      0.46      1860\n",
      "weighted avg       1.00      0.85      0.92      1860\n",
      "\n",
      "\n",
      "[[   0    0]\n",
      " [ 272 1588]]\n"
     ]
    },
    {
     "name": "stderr",
     "output_type": "stream",
     "text": [
      "/home/monash/.pyenv/versions/3.6.13/envs/fyp/lib/python3.6/site-packages/sklearn/metrics/_classification.py:1248: UndefinedMetricWarning: Recall and F-score are ill-defined and being set to 0.0 in labels with no true samples. Use `zero_division` parameter to control this behavior.\n",
      "  _warn_prf(average, modifier, msg_start, len(result))\n",
      "/home/monash/.pyenv/versions/3.6.13/envs/fyp/lib/python3.6/site-packages/sklearn/metrics/_classification.py:1248: UndefinedMetricWarning: Recall and F-score are ill-defined and being set to 0.0 in labels with no true samples. Use `zero_division` parameter to control this behavior.\n",
      "  _warn_prf(average, modifier, msg_start, len(result))\n",
      "/home/monash/.pyenv/versions/3.6.13/envs/fyp/lib/python3.6/site-packages/sklearn/metrics/_classification.py:1248: UndefinedMetricWarning: Recall and F-score are ill-defined and being set to 0.0 in labels with no true samples. Use `zero_division` parameter to control this behavior.\n",
      "  _warn_prf(average, modifier, msg_start, len(result))\n"
     ]
    },
    {
     "name": "stdout",
     "output_type": "stream",
     "text": [
      "              precision    recall  f1-score   support\n",
      "\n",
      "           0       0.00      0.00      0.00         0\n",
      "           1       1.00      0.68      0.81      1862\n",
      "\n",
      "    accuracy                           0.68      1862\n",
      "   macro avg       0.50      0.34      0.41      1862\n",
      "weighted avg       1.00      0.68      0.81      1862\n",
      "\n",
      "\n",
      "[[   0    0]\n",
      " [ 591 1271]]\n"
     ]
    },
    {
     "name": "stderr",
     "output_type": "stream",
     "text": [
      "/home/monash/.pyenv/versions/3.6.13/envs/fyp/lib/python3.6/site-packages/sklearn/metrics/_classification.py:1248: UndefinedMetricWarning: Recall and F-score are ill-defined and being set to 0.0 in labels with no true samples. Use `zero_division` parameter to control this behavior.\n",
      "  _warn_prf(average, modifier, msg_start, len(result))\n",
      "/home/monash/.pyenv/versions/3.6.13/envs/fyp/lib/python3.6/site-packages/sklearn/metrics/_classification.py:1248: UndefinedMetricWarning: Recall and F-score are ill-defined and being set to 0.0 in labels with no true samples. Use `zero_division` parameter to control this behavior.\n",
      "  _warn_prf(average, modifier, msg_start, len(result))\n",
      "/home/monash/.pyenv/versions/3.6.13/envs/fyp/lib/python3.6/site-packages/sklearn/metrics/_classification.py:1248: UndefinedMetricWarning: Recall and F-score are ill-defined and being set to 0.0 in labels with no true samples. Use `zero_division` parameter to control this behavior.\n",
      "  _warn_prf(average, modifier, msg_start, len(result))\n"
     ]
    },
    {
     "name": "stdout",
     "output_type": "stream",
     "text": [
      "              precision    recall  f1-score   support\n",
      "\n",
      "           0       0.00      0.00      0.00         0\n",
      "           1       1.00      0.58      0.74      1860\n",
      "\n",
      "    accuracy                           0.58      1860\n",
      "   macro avg       0.50      0.29      0.37      1860\n",
      "weighted avg       1.00      0.58      0.74      1860\n",
      "\n",
      "\n",
      "[[   0    0]\n",
      " [ 774 1086]]\n",
      "              precision    recall  f1-score   support\n",
      "\n",
      "           0       0.00      0.00      0.00         0\n",
      "           1       1.00      0.51      0.68      1860\n",
      "\n",
      "    accuracy                           0.51      1860\n",
      "   macro avg       0.50      0.25      0.34      1860\n",
      "weighted avg       1.00      0.51      0.68      1860\n",
      "\n",
      "\n",
      "[[  0   0]\n",
      " [912 948]]\n",
      "\n",
      " ================================================= \n",
      "\n"
     ]
    },
    {
     "name": "stderr",
     "output_type": "stream",
     "text": [
      "/home/monash/.pyenv/versions/3.6.13/envs/fyp/lib/python3.6/site-packages/sklearn/metrics/_classification.py:1248: UndefinedMetricWarning: Recall and F-score are ill-defined and being set to 0.0 in labels with no true samples. Use `zero_division` parameter to control this behavior.\n",
      "  _warn_prf(average, modifier, msg_start, len(result))\n",
      "/home/monash/.pyenv/versions/3.6.13/envs/fyp/lib/python3.6/site-packages/sklearn/metrics/_classification.py:1248: UndefinedMetricWarning: Recall and F-score are ill-defined and being set to 0.0 in labels with no true samples. Use `zero_division` parameter to control this behavior.\n",
      "  _warn_prf(average, modifier, msg_start, len(result))\n",
      "/home/monash/.pyenv/versions/3.6.13/envs/fyp/lib/python3.6/site-packages/sklearn/metrics/_classification.py:1248: UndefinedMetricWarning: Recall and F-score are ill-defined and being set to 0.0 in labels with no true samples. Use `zero_division` parameter to control this behavior.\n",
      "  _warn_prf(average, modifier, msg_start, len(result))\n"
     ]
    }
   ],
   "source": [
    "for model in models:\n",
    "    make_preds(model, 'male')\n",
    "    print(\"\\n ================================================= \\n\")"
   ]
  },
  {
   "cell_type": "markdown",
   "id": "02ded243-707f-4ffd-a6a7-935c121035e8",
   "metadata": {},
   "source": [
    "# Female only"
   ]
  },
  {
   "cell_type": "code",
   "execution_count": 43,
   "id": "84362b5a-6c75-4d73-8f54-fdb8bab25010",
   "metadata": {},
   "outputs": [
    {
     "name": "stderr",
     "output_type": "stream",
     "text": [
      "/home/monash/.pyenv/versions/3.6.13/envs/fyp/lib/python3.6/site-packages/sklearn/metrics/_classification.py:1248: UndefinedMetricWarning: Recall and F-score are ill-defined and being set to 0.0 in labels with no true samples. Use `zero_division` parameter to control this behavior.\n",
      "  _warn_prf(average, modifier, msg_start, len(result))\n",
      "/home/monash/.pyenv/versions/3.6.13/envs/fyp/lib/python3.6/site-packages/sklearn/metrics/_classification.py:1248: UndefinedMetricWarning: Recall and F-score are ill-defined and being set to 0.0 in labels with no true samples. Use `zero_division` parameter to control this behavior.\n",
      "  _warn_prf(average, modifier, msg_start, len(result))\n",
      "/home/monash/.pyenv/versions/3.6.13/envs/fyp/lib/python3.6/site-packages/sklearn/metrics/_classification.py:1248: UndefinedMetricWarning: Recall and F-score are ill-defined and being set to 0.0 in labels with no true samples. Use `zero_division` parameter to control this behavior.\n",
      "  _warn_prf(average, modifier, msg_start, len(result))\n"
     ]
    },
    {
     "name": "stdout",
     "output_type": "stream",
     "text": [
      "              precision    recall  f1-score   support\n",
      "\n",
      "           0       1.00      0.83      0.91      2144\n",
      "           1       0.00      0.00      0.00         0\n",
      "\n",
      "    accuracy                           0.83      2144\n",
      "   macro avg       0.50      0.41      0.45      2144\n",
      "weighted avg       1.00      0.83      0.91      2144\n",
      "\n",
      "\n",
      "[[1774  370]\n",
      " [   0    0]]\n"
     ]
    },
    {
     "name": "stderr",
     "output_type": "stream",
     "text": [
      "/home/monash/.pyenv/versions/3.6.13/envs/fyp/lib/python3.6/site-packages/sklearn/metrics/_classification.py:1248: UndefinedMetricWarning: Recall and F-score are ill-defined and being set to 0.0 in labels with no true samples. Use `zero_division` parameter to control this behavior.\n",
      "  _warn_prf(average, modifier, msg_start, len(result))\n",
      "/home/monash/.pyenv/versions/3.6.13/envs/fyp/lib/python3.6/site-packages/sklearn/metrics/_classification.py:1248: UndefinedMetricWarning: Recall and F-score are ill-defined and being set to 0.0 in labels with no true samples. Use `zero_division` parameter to control this behavior.\n",
      "  _warn_prf(average, modifier, msg_start, len(result))\n",
      "/home/monash/.pyenv/versions/3.6.13/envs/fyp/lib/python3.6/site-packages/sklearn/metrics/_classification.py:1248: UndefinedMetricWarning: Recall and F-score are ill-defined and being set to 0.0 in labels with no true samples. Use `zero_division` parameter to control this behavior.\n",
      "  _warn_prf(average, modifier, msg_start, len(result))\n"
     ]
    },
    {
     "name": "stdout",
     "output_type": "stream",
     "text": [
      "              precision    recall  f1-score   support\n",
      "\n",
      "           0       1.00      0.60      0.75      2144\n",
      "           1       0.00      0.00      0.00         0\n",
      "\n",
      "    accuracy                           0.60      2144\n",
      "   macro avg       0.50      0.30      0.37      2144\n",
      "weighted avg       1.00      0.60      0.75      2144\n",
      "\n",
      "\n",
      "[[1284  860]\n",
      " [   0    0]]\n"
     ]
    },
    {
     "name": "stderr",
     "output_type": "stream",
     "text": [
      "/home/monash/.pyenv/versions/3.6.13/envs/fyp/lib/python3.6/site-packages/sklearn/metrics/_classification.py:1248: UndefinedMetricWarning: Recall and F-score are ill-defined and being set to 0.0 in labels with no true samples. Use `zero_division` parameter to control this behavior.\n",
      "  _warn_prf(average, modifier, msg_start, len(result))\n",
      "/home/monash/.pyenv/versions/3.6.13/envs/fyp/lib/python3.6/site-packages/sklearn/metrics/_classification.py:1248: UndefinedMetricWarning: Recall and F-score are ill-defined and being set to 0.0 in labels with no true samples. Use `zero_division` parameter to control this behavior.\n",
      "  _warn_prf(average, modifier, msg_start, len(result))\n",
      "/home/monash/.pyenv/versions/3.6.13/envs/fyp/lib/python3.6/site-packages/sklearn/metrics/_classification.py:1248: UndefinedMetricWarning: Recall and F-score are ill-defined and being set to 0.0 in labels with no true samples. Use `zero_division` parameter to control this behavior.\n",
      "  _warn_prf(average, modifier, msg_start, len(result))\n"
     ]
    },
    {
     "name": "stdout",
     "output_type": "stream",
     "text": [
      "              precision    recall  f1-score   support\n",
      "\n",
      "           0       1.00      0.61      0.76      2144\n",
      "           1       0.00      0.00      0.00         0\n",
      "\n",
      "    accuracy                           0.61      2144\n",
      "   macro avg       0.50      0.31      0.38      2144\n",
      "weighted avg       1.00      0.61      0.76      2144\n",
      "\n",
      "\n",
      "[[1316  828]\n",
      " [   0    0]]\n"
     ]
    },
    {
     "name": "stderr",
     "output_type": "stream",
     "text": [
      "/home/monash/.pyenv/versions/3.6.13/envs/fyp/lib/python3.6/site-packages/sklearn/metrics/_classification.py:1248: UndefinedMetricWarning: Recall and F-score are ill-defined and being set to 0.0 in labels with no true samples. Use `zero_division` parameter to control this behavior.\n",
      "  _warn_prf(average, modifier, msg_start, len(result))\n",
      "/home/monash/.pyenv/versions/3.6.13/envs/fyp/lib/python3.6/site-packages/sklearn/metrics/_classification.py:1248: UndefinedMetricWarning: Recall and F-score are ill-defined and being set to 0.0 in labels with no true samples. Use `zero_division` parameter to control this behavior.\n",
      "  _warn_prf(average, modifier, msg_start, len(result))\n",
      "/home/monash/.pyenv/versions/3.6.13/envs/fyp/lib/python3.6/site-packages/sklearn/metrics/_classification.py:1248: UndefinedMetricWarning: Recall and F-score are ill-defined and being set to 0.0 in labels with no true samples. Use `zero_division` parameter to control this behavior.\n",
      "  _warn_prf(average, modifier, msg_start, len(result))\n"
     ]
    },
    {
     "name": "stdout",
     "output_type": "stream",
     "text": [
      "              precision    recall  f1-score   support\n",
      "\n",
      "           0       1.00      0.94      0.97      2144\n",
      "           1       0.00      0.00      0.00         0\n",
      "\n",
      "    accuracy                           0.94      2144\n",
      "   macro avg       0.50      0.47      0.48      2144\n",
      "weighted avg       1.00      0.94      0.97      2144\n",
      "\n",
      "\n",
      "[[2019  125]\n",
      " [   0    0]]\n",
      "\n",
      " ================================================= \n",
      "\n"
     ]
    },
    {
     "name": "stderr",
     "output_type": "stream",
     "text": [
      "/home/monash/.pyenv/versions/3.6.13/envs/fyp/lib/python3.6/site-packages/sklearn/metrics/_classification.py:1248: UndefinedMetricWarning: Recall and F-score are ill-defined and being set to 0.0 in labels with no true samples. Use `zero_division` parameter to control this behavior.\n",
      "  _warn_prf(average, modifier, msg_start, len(result))\n",
      "/home/monash/.pyenv/versions/3.6.13/envs/fyp/lib/python3.6/site-packages/sklearn/metrics/_classification.py:1248: UndefinedMetricWarning: Recall and F-score are ill-defined and being set to 0.0 in labels with no true samples. Use `zero_division` parameter to control this behavior.\n",
      "  _warn_prf(average, modifier, msg_start, len(result))\n",
      "/home/monash/.pyenv/versions/3.6.13/envs/fyp/lib/python3.6/site-packages/sklearn/metrics/_classification.py:1248: UndefinedMetricWarning: Recall and F-score are ill-defined and being set to 0.0 in labels with no true samples. Use `zero_division` parameter to control this behavior.\n",
      "  _warn_prf(average, modifier, msg_start, len(result))\n"
     ]
    },
    {
     "name": "stdout",
     "output_type": "stream",
     "text": [
      "              precision    recall  f1-score   support\n",
      "\n",
      "           0       1.00      0.87      0.93      2144\n",
      "           1       0.00      0.00      0.00         0\n",
      "\n",
      "    accuracy                           0.87      2144\n",
      "   macro avg       0.50      0.44      0.47      2144\n",
      "weighted avg       1.00      0.87      0.93      2144\n",
      "\n",
      "\n",
      "[[1874  270]\n",
      " [   0    0]]\n"
     ]
    },
    {
     "name": "stderr",
     "output_type": "stream",
     "text": [
      "/home/monash/.pyenv/versions/3.6.13/envs/fyp/lib/python3.6/site-packages/sklearn/metrics/_classification.py:1248: UndefinedMetricWarning: Recall and F-score are ill-defined and being set to 0.0 in labels with no true samples. Use `zero_division` parameter to control this behavior.\n",
      "  _warn_prf(average, modifier, msg_start, len(result))\n",
      "/home/monash/.pyenv/versions/3.6.13/envs/fyp/lib/python3.6/site-packages/sklearn/metrics/_classification.py:1248: UndefinedMetricWarning: Recall and F-score are ill-defined and being set to 0.0 in labels with no true samples. Use `zero_division` parameter to control this behavior.\n",
      "  _warn_prf(average, modifier, msg_start, len(result))\n",
      "/home/monash/.pyenv/versions/3.6.13/envs/fyp/lib/python3.6/site-packages/sklearn/metrics/_classification.py:1248: UndefinedMetricWarning: Recall and F-score are ill-defined and being set to 0.0 in labels with no true samples. Use `zero_division` parameter to control this behavior.\n",
      "  _warn_prf(average, modifier, msg_start, len(result))\n"
     ]
    },
    {
     "name": "stdout",
     "output_type": "stream",
     "text": [
      "              precision    recall  f1-score   support\n",
      "\n",
      "           0       1.00      0.39      0.56      2144\n",
      "           1       0.00      0.00      0.00         0\n",
      "\n",
      "    accuracy                           0.39      2144\n",
      "   macro avg       0.50      0.19      0.28      2144\n",
      "weighted avg       1.00      0.39      0.56      2144\n",
      "\n",
      "\n",
      "[[ 834 1310]\n",
      " [   0    0]]\n"
     ]
    },
    {
     "name": "stderr",
     "output_type": "stream",
     "text": [
      "/home/monash/.pyenv/versions/3.6.13/envs/fyp/lib/python3.6/site-packages/sklearn/metrics/_classification.py:1248: UndefinedMetricWarning: Recall and F-score are ill-defined and being set to 0.0 in labels with no true samples. Use `zero_division` parameter to control this behavior.\n",
      "  _warn_prf(average, modifier, msg_start, len(result))\n",
      "/home/monash/.pyenv/versions/3.6.13/envs/fyp/lib/python3.6/site-packages/sklearn/metrics/_classification.py:1248: UndefinedMetricWarning: Recall and F-score are ill-defined and being set to 0.0 in labels with no true samples. Use `zero_division` parameter to control this behavior.\n",
      "  _warn_prf(average, modifier, msg_start, len(result))\n",
      "/home/monash/.pyenv/versions/3.6.13/envs/fyp/lib/python3.6/site-packages/sklearn/metrics/_classification.py:1248: UndefinedMetricWarning: Recall and F-score are ill-defined and being set to 0.0 in labels with no true samples. Use `zero_division` parameter to control this behavior.\n",
      "  _warn_prf(average, modifier, msg_start, len(result))\n"
     ]
    },
    {
     "name": "stdout",
     "output_type": "stream",
     "text": [
      "              precision    recall  f1-score   support\n",
      "\n",
      "           0       1.00      0.66      0.79      2144\n",
      "           1       0.00      0.00      0.00         0\n",
      "\n",
      "    accuracy                           0.66      2144\n",
      "   macro avg       0.50      0.33      0.40      2144\n",
      "weighted avg       1.00      0.66      0.79      2144\n",
      "\n",
      "\n",
      "[[1414  730]\n",
      " [   0    0]]\n"
     ]
    },
    {
     "name": "stderr",
     "output_type": "stream",
     "text": [
      "/home/monash/.pyenv/versions/3.6.13/envs/fyp/lib/python3.6/site-packages/sklearn/metrics/_classification.py:1248: UndefinedMetricWarning: Recall and F-score are ill-defined and being set to 0.0 in labels with no true samples. Use `zero_division` parameter to control this behavior.\n",
      "  _warn_prf(average, modifier, msg_start, len(result))\n",
      "/home/monash/.pyenv/versions/3.6.13/envs/fyp/lib/python3.6/site-packages/sklearn/metrics/_classification.py:1248: UndefinedMetricWarning: Recall and F-score are ill-defined and being set to 0.0 in labels with no true samples. Use `zero_division` parameter to control this behavior.\n",
      "  _warn_prf(average, modifier, msg_start, len(result))\n",
      "/home/monash/.pyenv/versions/3.6.13/envs/fyp/lib/python3.6/site-packages/sklearn/metrics/_classification.py:1248: UndefinedMetricWarning: Recall and F-score are ill-defined and being set to 0.0 in labels with no true samples. Use `zero_division` parameter to control this behavior.\n",
      "  _warn_prf(average, modifier, msg_start, len(result))\n"
     ]
    },
    {
     "name": "stdout",
     "output_type": "stream",
     "text": [
      "              precision    recall  f1-score   support\n",
      "\n",
      "           0       1.00      0.94      0.97      2144\n",
      "           1       0.00      0.00      0.00         0\n",
      "\n",
      "    accuracy                           0.94      2144\n",
      "   macro avg       0.50      0.47      0.49      2144\n",
      "weighted avg       1.00      0.94      0.97      2144\n",
      "\n",
      "\n",
      "[[2021  123]\n",
      " [   0    0]]\n",
      "\n",
      " ================================================= \n",
      "\n"
     ]
    },
    {
     "name": "stderr",
     "output_type": "stream",
     "text": [
      "/home/monash/.pyenv/versions/3.6.13/envs/fyp/lib/python3.6/site-packages/sklearn/metrics/_classification.py:1248: UndefinedMetricWarning: Recall and F-score are ill-defined and being set to 0.0 in labels with no true samples. Use `zero_division` parameter to control this behavior.\n",
      "  _warn_prf(average, modifier, msg_start, len(result))\n",
      "/home/monash/.pyenv/versions/3.6.13/envs/fyp/lib/python3.6/site-packages/sklearn/metrics/_classification.py:1248: UndefinedMetricWarning: Recall and F-score are ill-defined and being set to 0.0 in labels with no true samples. Use `zero_division` parameter to control this behavior.\n",
      "  _warn_prf(average, modifier, msg_start, len(result))\n",
      "/home/monash/.pyenv/versions/3.6.13/envs/fyp/lib/python3.6/site-packages/sklearn/metrics/_classification.py:1248: UndefinedMetricWarning: Recall and F-score are ill-defined and being set to 0.0 in labels with no true samples. Use `zero_division` parameter to control this behavior.\n",
      "  _warn_prf(average, modifier, msg_start, len(result))\n"
     ]
    },
    {
     "name": "stdout",
     "output_type": "stream",
     "text": [
      "              precision    recall  f1-score   support\n",
      "\n",
      "           0       1.00      0.83      0.91      2144\n",
      "           1       0.00      0.00      0.00         0\n",
      "\n",
      "    accuracy                           0.83      2144\n",
      "   macro avg       0.50      0.42      0.45      2144\n",
      "weighted avg       1.00      0.83      0.91      2144\n",
      "\n",
      "\n",
      "[[1783  361]\n",
      " [   0    0]]\n"
     ]
    },
    {
     "name": "stderr",
     "output_type": "stream",
     "text": [
      "/home/monash/.pyenv/versions/3.6.13/envs/fyp/lib/python3.6/site-packages/sklearn/metrics/_classification.py:1248: UndefinedMetricWarning: Recall and F-score are ill-defined and being set to 0.0 in labels with no true samples. Use `zero_division` parameter to control this behavior.\n",
      "  _warn_prf(average, modifier, msg_start, len(result))\n",
      "/home/monash/.pyenv/versions/3.6.13/envs/fyp/lib/python3.6/site-packages/sklearn/metrics/_classification.py:1248: UndefinedMetricWarning: Recall and F-score are ill-defined and being set to 0.0 in labels with no true samples. Use `zero_division` parameter to control this behavior.\n",
      "  _warn_prf(average, modifier, msg_start, len(result))\n",
      "/home/monash/.pyenv/versions/3.6.13/envs/fyp/lib/python3.6/site-packages/sklearn/metrics/_classification.py:1248: UndefinedMetricWarning: Recall and F-score are ill-defined and being set to 0.0 in labels with no true samples. Use `zero_division` parameter to control this behavior.\n",
      "  _warn_prf(average, modifier, msg_start, len(result))\n"
     ]
    },
    {
     "name": "stdout",
     "output_type": "stream",
     "text": [
      "              precision    recall  f1-score   support\n",
      "\n",
      "           0       1.00      0.61      0.76      2144\n",
      "           1       0.00      0.00      0.00         0\n",
      "\n",
      "    accuracy                           0.61      2144\n",
      "   macro avg       0.50      0.31      0.38      2144\n",
      "weighted avg       1.00      0.61      0.76      2144\n",
      "\n",
      "\n",
      "[[1312  832]\n",
      " [   0    0]]\n"
     ]
    },
    {
     "name": "stderr",
     "output_type": "stream",
     "text": [
      "/home/monash/.pyenv/versions/3.6.13/envs/fyp/lib/python3.6/site-packages/sklearn/metrics/_classification.py:1248: UndefinedMetricWarning: Recall and F-score are ill-defined and being set to 0.0 in labels with no true samples. Use `zero_division` parameter to control this behavior.\n",
      "  _warn_prf(average, modifier, msg_start, len(result))\n",
      "/home/monash/.pyenv/versions/3.6.13/envs/fyp/lib/python3.6/site-packages/sklearn/metrics/_classification.py:1248: UndefinedMetricWarning: Recall and F-score are ill-defined and being set to 0.0 in labels with no true samples. Use `zero_division` parameter to control this behavior.\n",
      "  _warn_prf(average, modifier, msg_start, len(result))\n",
      "/home/monash/.pyenv/versions/3.6.13/envs/fyp/lib/python3.6/site-packages/sklearn/metrics/_classification.py:1248: UndefinedMetricWarning: Recall and F-score are ill-defined and being set to 0.0 in labels with no true samples. Use `zero_division` parameter to control this behavior.\n",
      "  _warn_prf(average, modifier, msg_start, len(result))\n"
     ]
    },
    {
     "name": "stdout",
     "output_type": "stream",
     "text": [
      "              precision    recall  f1-score   support\n",
      "\n",
      "           0       1.00      0.88      0.94      2144\n",
      "           1       0.00      0.00      0.00         0\n",
      "\n",
      "    accuracy                           0.88      2144\n",
      "   macro avg       0.50      0.44      0.47      2144\n",
      "weighted avg       1.00      0.88      0.94      2144\n",
      "\n",
      "\n",
      "[[1890  254]\n",
      " [   0    0]]\n",
      "              precision    recall  f1-score   support\n",
      "\n",
      "           0       1.00      0.95      0.97      2144\n",
      "           1       0.00      0.00      0.00         0\n",
      "\n",
      "    accuracy                           0.95      2144\n",
      "   macro avg       0.50      0.47      0.49      2144\n",
      "weighted avg       1.00      0.95      0.97      2144\n",
      "\n",
      "\n",
      "[[2034  110]\n",
      " [   0    0]]\n",
      "\n",
      " ================================================= \n",
      "\n"
     ]
    },
    {
     "name": "stderr",
     "output_type": "stream",
     "text": [
      "/home/monash/.pyenv/versions/3.6.13/envs/fyp/lib/python3.6/site-packages/sklearn/metrics/_classification.py:1248: UndefinedMetricWarning: Recall and F-score are ill-defined and being set to 0.0 in labels with no true samples. Use `zero_division` parameter to control this behavior.\n",
      "  _warn_prf(average, modifier, msg_start, len(result))\n",
      "/home/monash/.pyenv/versions/3.6.13/envs/fyp/lib/python3.6/site-packages/sklearn/metrics/_classification.py:1248: UndefinedMetricWarning: Recall and F-score are ill-defined and being set to 0.0 in labels with no true samples. Use `zero_division` parameter to control this behavior.\n",
      "  _warn_prf(average, modifier, msg_start, len(result))\n",
      "/home/monash/.pyenv/versions/3.6.13/envs/fyp/lib/python3.6/site-packages/sklearn/metrics/_classification.py:1248: UndefinedMetricWarning: Recall and F-score are ill-defined and being set to 0.0 in labels with no true samples. Use `zero_division` parameter to control this behavior.\n",
      "  _warn_prf(average, modifier, msg_start, len(result))\n"
     ]
    }
   ],
   "source": [
    "for model in models:\n",
    "    make_preds(model, 'female')\n",
    "    print(\"\\n ================================================= \\n\")"
   ]
  },
  {
   "cell_type": "code",
   "execution_count": null,
   "id": "d599d45b-d523-4ca2-b124-28044a222a5a",
   "metadata": {},
   "outputs": [],
   "source": []
  }
 ],
 "metadata": {
  "kernelspec": {
   "display_name": "fyp",
   "language": "python",
   "name": "fyp"
  },
  "language_info": {
   "codemirror_mode": {
    "name": "ipython",
    "version": 3
   },
   "file_extension": ".py",
   "mimetype": "text/x-python",
   "name": "python",
   "nbconvert_exporter": "python",
   "pygments_lexer": "ipython3",
   "version": "3.6.13"
  }
 },
 "nbformat": 4,
 "nbformat_minor": 5
}
