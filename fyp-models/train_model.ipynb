{
 "cells": [
  {
   "cell_type": "code",
   "execution_count": null,
   "id": "26bd1d7e-18cb-4514-b56b-e305c064bf50",
   "metadata": {},
   "outputs": [],
   "source": [
    "# Construct the baseline (unperturbed) model\n",
    "model = create_model()\n",
    "\n",
    "# Save a checkpoint of the model for later use\n",
    "checkpoint = ModelCheckpoint(\n",
    "    \"model_best_weights.h5\",\n",
    "    monitor=\"loss\",\n",
    "    verbose=0,\n",
    "    save_best_only=True,\n",
    "    mode=\"min\",\n",
    "    save_freq=\"epoch\",\n",
    ")\n",
    "\n",
    "# Train the model\n",
    "history = model.fit(\n",
    "    x_train,\n",
    "    y_train,\n",
    "    epochs=epochs,\n",
    "    batch_size=batch_size,\n",
    "    verbose=0,\n",
    "    validation_data=(x_val, y_val),\n",
    "    callbacks=[checkpoint],\n",
    ")\n",
    "\n",
    "# Store model history as a JSON file\n",
    "with open(os.path.join(\"history\", \"model_history.json\"), \"w\") as f:\n",
    "    json.dump(history.history, f)"
   ]
  },
  {
   "cell_type": "code",
   "execution_count": null,
   "id": "7a0d53dd-2643-4b41-889f-ab86fcb16deb",
   "metadata": {},
   "outputs": [],
   "source": [
    "# Construct the perturbed model\n",
    "model_pert = create_model()\n",
    "\n",
    "# Save a checkpoint of the model for later use\n",
    "checkpoint_pert = ModelCheckpoint(\n",
    "    \"model_best_weights_pert.h5\",\n",
    "    monitor=\"loss\",\n",
    "    verbose=0,\n",
    "    save_best_only=True,\n",
    "    mode=\"min\",\n",
    "    save_freq=\"epoch\",\n",
    ")\n",
    "\n",
    "# Train the model\n",
    "history_pert = model_pert.fit(\n",
    "    x_train_pert,\n",
    "    y_train_pert,\n",
    "    epochs=epochs,\n",
    "    batch_size=batch_size,\n",
    "    verbose=0,\n",
    "    validation_data=(x_val, y_val),\n",
    "    callbacks=[checkpoint_pert],\n",
    ")\n",
    "\n",
    "# Store model history as a JSON file\n",
    "with open(os.path.join(\"history\", \"model_pert_history.json\"), \"w\") as f:\n",
    "    json.dump(history_pert.history, f)"
   ]
  }
 ],
 "metadata": {
  "kernelspec": {
   "display_name": "Python 3",
   "language": "python",
   "name": "python3"
  },
  "language_info": {
   "codemirror_mode": {
    "name": "ipython",
    "version": 3
   },
   "file_extension": ".py",
   "mimetype": "text/x-python",
   "name": "python",
   "nbconvert_exporter": "python",
   "pygments_lexer": "ipython3",
   "version": "3.6.13"
  }
 },
 "nbformat": 4,
 "nbformat_minor": 5
}