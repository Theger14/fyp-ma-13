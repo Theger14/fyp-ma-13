{
 "cells": [
  {
   "cell_type": "code",
   "execution_count": 10,
   "id": "90c64b9b",
   "metadata": {},
   "outputs": [
    {
     "name": "stderr",
     "output_type": "stream",
     "text": [
      "Using TensorFlow backend.\n"
     ]
    }
   ],
   "source": [
    "import tensorflow as tf\n",
    "from keras.models import Sequential\n",
    "from keras.layers import Convolution2D\n",
    "from keras.layers import MaxPooling2D\n",
    "from keras.layers import Flatten\n",
    "from keras.layers import Dense"
   ]
  },
  {
   "cell_type": "code",
   "execution_count": 16,
   "id": "5d1a576c",
   "metadata": {},
   "outputs": [],
   "source": [
    "class PertubatedCNN(tf.keras.Model):\n",
    "  def __init__(self, image_size):\n",
    "    super(PertubatedCNN, self).__init__()\n",
    "    self.dense1 = tf.keras.layers.Dense(4, activation=tf.nn.relu)\n",
    "    self.dense2 = tf.keras.layers.Dense(5, activation=tf.nn.softmax)\n",
    "    self.optimizer = 'adam'\n",
    "    self.loss = 'binary_crossentropy'\n",
    "    \n",
    "    # Step 1 - Convolution\n",
    "#     self.add(Convolution2D(32, 3, 3, input_shape = (image_size, image_size, 3), activation = 'relu'))\n",
    "\n",
    "    # Step 2 - Pooling\n",
    "#     self.add(MaxPooling2D(pool_size = (2, 2)))\n",
    "\n",
    "    # Adding a second convolutional layer\n",
    "#     self.add(Convolution2D(32, 3, 3, activation = 'relu'))\n",
    "#     self.add(MaxPooling2D(pool_size = (2, 2)))\n",
    "\n",
    "#     # Step 3 - Flattening\n",
    "#     self.add(Flatten())\n",
    "\n",
    "  def call(self, inputs):\n",
    "    x = self.dense1(inputs)\n",
    "    return self.dense2(x)\n",
    "\n",
    "classifier = PertubatedCNN(224)"
   ]
  },
  {
   "cell_type": "code",
   "execution_count": 8,
   "id": "a5521772",
   "metadata": {},
   "outputs": [
    {
     "data": {
      "text/plain": [
       "<__main__.PertubatedCNN at 0x7effcf76ed30>"
      ]
     },
     "execution_count": 8,
     "metadata": {},
     "output_type": "execute_result"
    }
   ],
   "source": [
    "classifier."
   ]
  },
  {
   "cell_type": "code",
   "execution_count": null,
   "id": "72f3721b",
   "metadata": {},
   "outputs": [],
   "source": []
  }
 ],
 "metadata": {
  "kernelspec": {
   "display_name": "conda_tensorflow2_p36",
   "language": "python",
   "name": "conda_tensorflow2_p36"
  },
  "language_info": {
   "codemirror_mode": {
    "name": "ipython",
    "version": 3
   },
   "file_extension": ".py",
   "mimetype": "text/x-python",
   "name": "python",
   "nbconvert_exporter": "python",
   "pygments_lexer": "ipython3",
   "version": "3.6.13"
  }
 },
 "nbformat": 4,
 "nbformat_minor": 5
}
