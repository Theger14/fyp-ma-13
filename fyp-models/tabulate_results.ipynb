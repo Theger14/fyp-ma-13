{
 "cells": [
  {
   "cell_type": "code",
   "execution_count": null,
   "id": "a8a21e49-ba63-4430-9dbc-9e8aecd7687e",
   "metadata": {},
   "outputs": [],
   "source": [
    "import os \n",
    "import json\n",
    "import pandas as pd"
   ]
  },
  {
   "cell_type": "code",
   "execution_count": null,
   "id": "b2a805cc-c2e2-49d5-87d0-10b59bf3fc5b",
   "metadata": {},
   "outputs": [],
   "source": [
    "def calculate_sum_cm(cm):\n",
    "    res = 0\n",
    "    for i in cm:\n",
    "        res += sum(i)\n",
    "    return res\n",
    "\n",
    "def calculate_acc_cm(cm):\n",
    "    female_acc = round(calculate_female_acc(cm), 2)\n",
    "    male_acc = round(calculate_male_acc(cm), 2)\n",
    "    return (female_acc + male_acc) / 2\n",
    "\n",
    "def calculate_female_acc(cm):\n",
    "    female_row = cm[0]\n",
    "    return (female_row[0] / (female_row[0] + female_row[1]))*100\n",
    "    \n",
    "def calculate_male_acc(cm):\n",
    "    male_row = cm[1]\n",
    "    return (male_row[1] / (male_row[0] + male_row[1]))*100"
   ]
  },
  {
   "cell_type": "code",
   "execution_count": null,
   "id": "e4e5112c-d74d-4159-b39c-574b5c06bc26",
   "metadata": {},
   "outputs": [],
   "source": [
    "def get_averages(male_perc, female_perc, male_pert, female_pert, test_pert):\n",
    "    \"\"\"\n",
    "    Get average across all sets\n",
    "    \n",
    "    model_type : str\n",
    "        Model type\n",
    "    \"\"\"\n",
    "    assert type(male_perc) == float or male_perc == 'ori'\n",
    "    assert type(female_perc) == float or female_perc == 'ori'\n",
    "    male_label = int(male_perc*100) if type(male_perc) == float else male_perc\n",
    "    female_label = int(female_perc*100) if type(female_perc) == float else female_perc\n",
    "    all_dfs = []\n",
    "    new_v = [1,5,8,10]\n",
    "    for set_no in new_v:\n",
    "        print('----------------------')\n",
    "        print(\"Set no:\", set_no)\n",
    "        directory = f'cr_cm_results/male_{male_label}_{male_pert}_female_{female_label}_{female_pert}/set{set_no}/'\n",
    "        gender = 'bothg'\n",
    "        # \n",
    "        res = {}\n",
    "        row = []\n",
    "        for model_type in ['mobile', 'dense', 'res']:\n",
    "            print(f\"Model:{model_type}\")\n",
    "            # print(\"cr_cm_{}_{}_{}\".format(model_type, perturbation, gender))\n",
    "            with open(f\"{directory}cr_cm_{model_type}_{test_pert}_{gender}\") as json_file:\n",
    "                data = json.load(json_file)\n",
    "                data = json.loads(data)\n",
    "            cm = data[f\"cm_{model_type}_{gender}\"]\n",
    "            print(cm)\n",
    "            all_acc = round(calculate_acc_cm(cm), 2)\n",
    "            female_acc = round(calculate_female_acc(cm), 2)\n",
    "            male_acc = round(calculate_male_acc(cm), 2)\n",
    "            row = [all_acc, female_acc, male_acc]\n",
    "            print(\"Both Gender Acc:\", all_acc)\n",
    "            print(\"Female cm:\", female_acc)\n",
    "            print(\"Male cm:\", male_acc)\n",
    "            print(\"=====================\")\n",
    "            res[test_pert] = row\n",
    "        df = pd.DataFrame(data=res)\n",
    "        all_dfs.append(df)\n",
    "    return df"
   ]
  },
  {
   "cell_type": "code",
   "execution_count": null,
   "id": "f1a3e76d-747f-4346-8b54-dd5efd200a3e",
   "metadata": {},
   "outputs": [],
   "source": [
    "percs = [0.1, 0.25, 0.5]\n",
    "pert_types = ['glasses', 'makeup', 'masked', 'ori']\n",
    "\n",
    "all_dfs = get_averages(0.5, 0.5, 'glasses', 'makeup', 'glasses')"
   ]
  },
  {
   "cell_type": "code",
   "execution_count": null,
   "id": "e333e643-281b-4d4d-a882-f1f9397b5ce5",
   "metadata": {},
   "outputs": [],
   "source": [
    "all_dfs = get_averages(0.1, 'ori')"
   ]
  },
  {
   "cell_type": "code",
   "execution_count": null,
   "id": "4c189507-71e8-41fb-86c8-4f9bb7ba2fb2",
   "metadata": {},
   "outputs": [],
   "source": [
    "all_dfs"
   ]
  },
  {
   "cell_type": "code",
   "execution_count": null,
   "id": "093c46b9-57cc-4af8-a1f5-84a7549869c6",
   "metadata": {},
   "outputs": [],
   "source": [
    "all_dfs[0]"
   ]
  },
  {
   "cell_type": "code",
   "execution_count": null,
   "id": "5f43b608-ce19-4fef-88cc-04e562748698",
   "metadata": {},
   "outputs": [],
   "source": [
    "all_dfs[1]"
   ]
  },
  {
   "cell_type": "code",
   "execution_count": null,
   "id": "b503f0f2-6edf-4b39-b120-97c06492e8c9",
   "metadata": {},
   "outputs": [],
   "source": [
    "all_dfs[2]"
   ]
  },
  {
   "cell_type": "code",
   "execution_count": null,
   "id": "03205bab-9bb4-4716-a96f-8acbf75fccc9",
   "metadata": {},
   "outputs": [],
   "source": [
    "all_dfs[3]"
   ]
  },
  {
   "cell_type": "code",
   "execution_count": null,
   "id": "d8801270-4d54-484c-9f09-75f9cc8733bf",
   "metadata": {},
   "outputs": [],
   "source": []
  },
  {
   "cell_type": "code",
   "execution_count": null,
   "id": "11279fa2-936f-437d-b79f-fa66d5faa2f7",
   "metadata": {},
   "outputs": [],
   "source": []
  }
 ],
 "metadata": {
  "kernelspec": {
   "display_name": "fyp",
   "language": "python",
   "name": "fyp"
  },
  "language_info": {
   "codemirror_mode": {
    "name": "ipython",
    "version": 3
   },
   "file_extension": ".py",
   "mimetype": "text/x-python",
   "name": "python",
   "nbconvert_exporter": "python",
   "pygments_lexer": "ipython3",
   "version": "3.6.13"
  }
 },
 "nbformat": 4,
 "nbformat_minor": 5
}
