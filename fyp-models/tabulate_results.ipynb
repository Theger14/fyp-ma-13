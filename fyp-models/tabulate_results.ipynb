{
 "cells": [
  {
   "cell_type": "code",
   "execution_count": 1,
   "id": "a8a21e49-ba63-4430-9dbc-9e8aecd7687e",
   "metadata": {},
   "outputs": [],
   "source": [
    "import os \n",
    "import json\n",
    "import pandas as pd"
   ]
  },
  {
   "cell_type": "code",
   "execution_count": 2,
   "id": "b2a805cc-c2e2-49d5-87d0-10b59bf3fc5b",
   "metadata": {},
   "outputs": [],
   "source": [
    "def calculate_sum_cm(cm):\n",
    "    res = 0\n",
    "    for i in cm:\n",
    "        res += sum(i)\n",
    "    return res\n",
    "\n",
    "def calculate_acc_cm(cm):\n",
    "    female_acc = round(calculate_female_acc(cm), 2)\n",
    "    male_acc = round(calculate_male_acc(cm), 2)\n",
    "    return (female_acc + male_acc) / 2\n",
    "\n",
    "def calculate_female_acc(cm):\n",
    "    female_row = cm[0]\n",
    "    return (female_row[0] / (female_row[0] + female_row[1]))*100\n",
    "    \n",
    "def calculate_male_acc(cm):\n",
    "    male_row = cm[1]\n",
    "    return (male_row[1] / (male_row[0] + male_row[1]))*100"
   ]
  },
  {
   "cell_type": "code",
   "execution_count": 23,
   "id": "e4e5112c-d74d-4159-b39c-574b5c06bc26",
   "metadata": {},
   "outputs": [],
   "source": [
    "def get_averages(model_type, male_perc, female_perc):\n",
    "    \"\"\"\n",
    "    Get average across all sets\n",
    "    \n",
    "    model_type : str\n",
    "        Model type\n",
    "    \"\"\"\n",
    "    assert type(male_perc) == float or male_perc == 'ori'\n",
    "    assert type(female_perc) == float or female_perc == 'ori'\n",
    "    male_label = int(male_perc*100) if type(male_perc) == float else male_perc\n",
    "    female_label = int(female_perc*100) if type(female_perc) == float else female_perc\n",
    "    all_dfs = []\n",
    "    new_v = [1,5,8,10]\n",
    "    for set_no in new_v:\n",
    "        print('----------------------')\n",
    "        print(\"Set no:\", set_no)\n",
    "        directory = f'cr_cm_results/male_{male_label}_female_{female_label}/set{set_no}/'\n",
    "        gender = 'bothg'\n",
    "        perturbations = ['all']\n",
    "        for filename in os.listdir(directory):\n",
    "            res = {}\n",
    "            if filename != \".ipynb_checkpoints\":\n",
    "                row = []\n",
    "                for perturbation in perturbations:\n",
    "                    # print(\"cr_cm_{}_{}_{}\".format(model_type, perturbation, gender))\n",
    "                    with open(f\"{directory}cr_cm_{model_type}_{perturbation}_{gender}\") as json_file:\n",
    "                        data = json.load(json_file)\n",
    "                        data = json.loads(data)\n",
    "                    cm = data[f\"cm_{model_type}_{gender}\"]\n",
    "                    all_acc = round(calculate_acc_cm(cm), 2)\n",
    "                    female_acc = round(calculate_female_acc(cm), 2)\n",
    "                    male_acc = round(calculate_male_acc(cm), 2)\n",
    "                    row = [all_acc, female_acc, male_acc]\n",
    "                    print(\"Both Gender Acc:\", all_acc)\n",
    "                    print(\"Female cm:\", female_acc)\n",
    "                    print(\"Male cm:\", male_acc)\n",
    "                    print(\"=====================\")\n",
    "                    res[perturbation] = row\n",
    "        df = pd.DataFrame(data=res)\n",
    "        all_dfs.append(df)\n",
    "    return df"
   ]
  },
  {
   "cell_type": "code",
   "execution_count": 24,
   "id": "e333e643-281b-4d4d-a882-f1f9397b5ce5",
   "metadata": {},
   "outputs": [
    {
     "name": "stdout",
     "output_type": "stream",
     "text": [
      "----------------------\n",
      "Set no: 1\n",
      "Both Gender Acc: 71.83\n",
      "Female cm: 92.05\n",
      "Male cm: 51.62\n",
      "=====================\n",
      "Both Gender Acc: 71.83\n",
      "Female cm: 92.05\n",
      "Male cm: 51.62\n",
      "=====================\n",
      "Both Gender Acc: 71.83\n",
      "Female cm: 92.05\n",
      "Male cm: 51.62\n",
      "=====================\n",
      "----------------------\n",
      "Set no: 5\n",
      "Both Gender Acc: 64.33\n",
      "Female cm: 96.39\n",
      "Male cm: 32.27\n",
      "=====================\n",
      "Both Gender Acc: 64.33\n",
      "Female cm: 96.39\n",
      "Male cm: 32.27\n",
      "=====================\n",
      "Both Gender Acc: 64.33\n",
      "Female cm: 96.39\n",
      "Male cm: 32.27\n",
      "=====================\n",
      "----------------------\n",
      "Set no: 8\n",
      "Both Gender Acc: 69.11\n",
      "Female cm: 91.86\n",
      "Male cm: 46.36\n",
      "=====================\n",
      "Both Gender Acc: 69.11\n",
      "Female cm: 91.86\n",
      "Male cm: 46.36\n",
      "=====================\n",
      "Both Gender Acc: 69.11\n",
      "Female cm: 91.86\n",
      "Male cm: 46.36\n",
      "=====================\n",
      "----------------------\n",
      "Set no: 10\n",
      "Both Gender Acc: 68.09\n",
      "Female cm: 96.32\n",
      "Male cm: 39.86\n",
      "=====================\n",
      "Both Gender Acc: 68.09\n",
      "Female cm: 96.32\n",
      "Male cm: 39.86\n",
      "=====================\n",
      "Both Gender Acc: 68.09\n",
      "Female cm: 96.32\n",
      "Male cm: 39.86\n",
      "=====================\n"
     ]
    }
   ],
   "source": [
    "all_dfs = get_averages('mobile', 0.1, 0.1)"
   ]
  },
  {
   "cell_type": "code",
   "execution_count": 20,
   "id": "4c189507-71e8-41fb-86c8-4f9bb7ba2fb2",
   "metadata": {},
   "outputs": [
    {
     "data": {
      "text/plain": [
       "[     all\n",
       " 0  71.83\n",
       " 1  92.05\n",
       " 2  51.62,\n",
       "      all\n",
       " 0  64.33\n",
       " 1  96.39\n",
       " 2  32.27,\n",
       "      all\n",
       " 0  69.11\n",
       " 1  91.86\n",
       " 2  46.36,\n",
       "      all\n",
       " 0  68.09\n",
       " 1  96.32\n",
       " 2  39.86]"
      ]
     },
     "execution_count": 20,
     "metadata": {},
     "output_type": "execute_result"
    }
   ],
   "source": [
    "all_dfs"
   ]
  },
  {
   "cell_type": "code",
   "execution_count": 16,
   "id": "093c46b9-57cc-4af8-a1f5-84a7549869c6",
   "metadata": {},
   "outputs": [
    {
     "data": {
      "text/html": [
       "<div>\n",
       "<style scoped>\n",
       "    .dataframe tbody tr th:only-of-type {\n",
       "        vertical-align: middle;\n",
       "    }\n",
       "\n",
       "    .dataframe tbody tr th {\n",
       "        vertical-align: top;\n",
       "    }\n",
       "\n",
       "    .dataframe thead th {\n",
       "        text-align: right;\n",
       "    }\n",
       "</style>\n",
       "<table border=\"1\" class=\"dataframe\">\n",
       "  <thead>\n",
       "    <tr style=\"text-align: right;\">\n",
       "      <th></th>\n",
       "      <th>all</th>\n",
       "    </tr>\n",
       "  </thead>\n",
       "  <tbody>\n",
       "    <tr>\n",
       "      <th>0</th>\n",
       "      <td>71.83</td>\n",
       "    </tr>\n",
       "    <tr>\n",
       "      <th>1</th>\n",
       "      <td>92.05</td>\n",
       "    </tr>\n",
       "    <tr>\n",
       "      <th>2</th>\n",
       "      <td>51.62</td>\n",
       "    </tr>\n",
       "  </tbody>\n",
       "</table>\n",
       "</div>"
      ],
      "text/plain": [
       "     all\n",
       "0  71.83\n",
       "1  92.05\n",
       "2  51.62"
      ]
     },
     "execution_count": 16,
     "metadata": {},
     "output_type": "execute_result"
    }
   ],
   "source": [
    "all_dfs[0]"
   ]
  },
  {
   "cell_type": "code",
   "execution_count": 17,
   "id": "5f43b608-ce19-4fef-88cc-04e562748698",
   "metadata": {},
   "outputs": [
    {
     "data": {
      "text/html": [
       "<div>\n",
       "<style scoped>\n",
       "    .dataframe tbody tr th:only-of-type {\n",
       "        vertical-align: middle;\n",
       "    }\n",
       "\n",
       "    .dataframe tbody tr th {\n",
       "        vertical-align: top;\n",
       "    }\n",
       "\n",
       "    .dataframe thead th {\n",
       "        text-align: right;\n",
       "    }\n",
       "</style>\n",
       "<table border=\"1\" class=\"dataframe\">\n",
       "  <thead>\n",
       "    <tr style=\"text-align: right;\">\n",
       "      <th></th>\n",
       "      <th>all</th>\n",
       "    </tr>\n",
       "  </thead>\n",
       "  <tbody>\n",
       "    <tr>\n",
       "      <th>0</th>\n",
       "      <td>64.33</td>\n",
       "    </tr>\n",
       "    <tr>\n",
       "      <th>1</th>\n",
       "      <td>96.39</td>\n",
       "    </tr>\n",
       "    <tr>\n",
       "      <th>2</th>\n",
       "      <td>32.27</td>\n",
       "    </tr>\n",
       "  </tbody>\n",
       "</table>\n",
       "</div>"
      ],
      "text/plain": [
       "     all\n",
       "0  64.33\n",
       "1  96.39\n",
       "2  32.27"
      ]
     },
     "execution_count": 17,
     "metadata": {},
     "output_type": "execute_result"
    }
   ],
   "source": [
    "all_dfs[1]"
   ]
  },
  {
   "cell_type": "code",
   "execution_count": 18,
   "id": "b503f0f2-6edf-4b39-b120-97c06492e8c9",
   "metadata": {},
   "outputs": [
    {
     "data": {
      "text/html": [
       "<div>\n",
       "<style scoped>\n",
       "    .dataframe tbody tr th:only-of-type {\n",
       "        vertical-align: middle;\n",
       "    }\n",
       "\n",
       "    .dataframe tbody tr th {\n",
       "        vertical-align: top;\n",
       "    }\n",
       "\n",
       "    .dataframe thead th {\n",
       "        text-align: right;\n",
       "    }\n",
       "</style>\n",
       "<table border=\"1\" class=\"dataframe\">\n",
       "  <thead>\n",
       "    <tr style=\"text-align: right;\">\n",
       "      <th></th>\n",
       "      <th>all</th>\n",
       "    </tr>\n",
       "  </thead>\n",
       "  <tbody>\n",
       "    <tr>\n",
       "      <th>0</th>\n",
       "      <td>69.11</td>\n",
       "    </tr>\n",
       "    <tr>\n",
       "      <th>1</th>\n",
       "      <td>91.86</td>\n",
       "    </tr>\n",
       "    <tr>\n",
       "      <th>2</th>\n",
       "      <td>46.36</td>\n",
       "    </tr>\n",
       "  </tbody>\n",
       "</table>\n",
       "</div>"
      ],
      "text/plain": [
       "     all\n",
       "0  69.11\n",
       "1  91.86\n",
       "2  46.36"
      ]
     },
     "execution_count": 18,
     "metadata": {},
     "output_type": "execute_result"
    }
   ],
   "source": [
    "all_dfs[2]"
   ]
  },
  {
   "cell_type": "code",
   "execution_count": 19,
   "id": "03205bab-9bb4-4716-a96f-8acbf75fccc9",
   "metadata": {},
   "outputs": [
    {
     "data": {
      "text/html": [
       "<div>\n",
       "<style scoped>\n",
       "    .dataframe tbody tr th:only-of-type {\n",
       "        vertical-align: middle;\n",
       "    }\n",
       "\n",
       "    .dataframe tbody tr th {\n",
       "        vertical-align: top;\n",
       "    }\n",
       "\n",
       "    .dataframe thead th {\n",
       "        text-align: right;\n",
       "    }\n",
       "</style>\n",
       "<table border=\"1\" class=\"dataframe\">\n",
       "  <thead>\n",
       "    <tr style=\"text-align: right;\">\n",
       "      <th></th>\n",
       "      <th>all</th>\n",
       "    </tr>\n",
       "  </thead>\n",
       "  <tbody>\n",
       "    <tr>\n",
       "      <th>0</th>\n",
       "      <td>68.09</td>\n",
       "    </tr>\n",
       "    <tr>\n",
       "      <th>1</th>\n",
       "      <td>96.32</td>\n",
       "    </tr>\n",
       "    <tr>\n",
       "      <th>2</th>\n",
       "      <td>39.86</td>\n",
       "    </tr>\n",
       "  </tbody>\n",
       "</table>\n",
       "</div>"
      ],
      "text/plain": [
       "     all\n",
       "0  68.09\n",
       "1  96.32\n",
       "2  39.86"
      ]
     },
     "execution_count": 19,
     "metadata": {},
     "output_type": "execute_result"
    }
   ],
   "source": [
    "all_dfs[3]"
   ]
  },
  {
   "cell_type": "code",
   "execution_count": null,
   "id": "d8801270-4d54-484c-9f09-75f9cc8733bf",
   "metadata": {},
   "outputs": [],
   "source": []
  },
  {
   "cell_type": "code",
   "execution_count": null,
   "id": "11279fa2-936f-437d-b79f-fa66d5faa2f7",
   "metadata": {},
   "outputs": [],
   "source": []
  }
 ],
 "metadata": {
  "kernelspec": {
   "display_name": "fyp",
   "language": "python",
   "name": "fyp"
  },
  "language_info": {
   "codemirror_mode": {
    "name": "ipython",
    "version": 3
   },
   "file_extension": ".py",
   "mimetype": "text/x-python",
   "name": "python",
   "nbconvert_exporter": "python",
   "pygments_lexer": "ipython3",
   "version": "3.6.13"
  }
 },
 "nbformat": 4,
 "nbformat_minor": 5
}
