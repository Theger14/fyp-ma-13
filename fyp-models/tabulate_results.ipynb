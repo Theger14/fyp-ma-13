{
 "cells": [
  {
   "cell_type": "code",
   "execution_count": 26,
   "id": "a8a21e49-ba63-4430-9dbc-9e8aecd7687e",
   "metadata": {},
   "outputs": [],
   "source": [
    "import os \n",
    "import json\n",
    "import pandas as pd"
   ]
  },
  {
   "cell_type": "code",
   "execution_count": 76,
   "id": "b2a805cc-c2e2-49d5-87d0-10b59bf3fc5b",
   "metadata": {},
   "outputs": [],
   "source": [
    "def calculate_sum_cm(cm):\n",
    "    res = 0\n",
    "    for i in cm:\n",
    "        res += sum(i)\n",
    "    return res\n",
    "\n",
    "def calculate_acc_cm(cm):\n",
    "    female_acc = round(calculate_female_acc(cm), 2)\n",
    "    male_acc = round(calculate_male_acc(cm), 2)\n",
    "    return (female_acc + male_acc) / 2\n",
    "\n",
    "def calculate_female_acc(cm):\n",
    "    female_row = cm[0]\n",
    "    return (female_row[0] / (female_row[0] + female_row[1]))*100\n",
    "    \n",
    "def calculate_male_acc(cm):\n",
    "    male_row = cm[1]\n",
    "    return (male_row[1] / (male_row[0] + male_row[1]))*100"
   ]
  },
  {
   "cell_type": "code",
   "execution_count": 82,
   "id": "e4e5112c-d74d-4159-b39c-574b5c06bc26",
   "metadata": {},
   "outputs": [],
   "source": [
    "\"\"\"\n",
    "Get average across all sets\n",
    "\"\"\"\n",
    "all_dfs = []\n",
    "model_type = 'dense'\n",
    "new_v = [1,5,8,10] \n",
    "for set_no in new_v:\n",
    "    # print(\"Set no:\", set_no)\n",
    "    directory = 'cr_cm_results/set{}/'.format(set_no)\n",
    "    gender = 'bothg'\n",
    "    perturbations = ['ori', 'glasses', 'masked', 'makeup']\n",
    "    #for filename in os.listdir(directory):\n",
    "    res = {}\n",
    "    if filename != \".ipynb_checkpoints\":\n",
    "        row = []\n",
    "        for perturbation in perturbations:\n",
    "            # print(\"cr_cm_{}_{}_{}\".format(model_type, perturbation, gender))\n",
    "            with open(directory + \"cr_cm_{}_{}_{}\".format(model_type, perturbation, gender)) as json_file:\n",
    "                data = json.load(json_file)\n",
    "                data = json.loads(data)\n",
    "            cm = data[\"cm_{}_{}\".format(model_type, gender)]\n",
    "            all_acc = round(calculate_acc_cm(cm), 2)\n",
    "            female_acc = round(calculate_female_acc(cm), 2)\n",
    "            male_acc = round(calculate_male_acc(cm), 2)\n",
    "            row = [all_acc, female_acc, male_acc]\n",
    "            # print(\"Both Gender Acc:\", all_acc)\n",
    "            # print(\"Female cm:\", female_acc)\n",
    "            # print(\"Male cm:\", male_acc)\n",
    "            # print(\"----------------------\")\n",
    "            res[perturbation] = row\n",
    "    df = pd.DataFrame(data=res)\n",
    "    all_dfs.append(df)"
   ]
  },
  {
   "cell_type": "code",
   "execution_count": 83,
   "id": "093c46b9-57cc-4af8-a1f5-84a7549869c6",
   "metadata": {},
   "outputs": [
    {
     "data": {
      "text/html": [
       "<div>\n",
       "<style scoped>\n",
       "    .dataframe tbody tr th:only-of-type {\n",
       "        vertical-align: middle;\n",
       "    }\n",
       "\n",
       "    .dataframe tbody tr th {\n",
       "        vertical-align: top;\n",
       "    }\n",
       "\n",
       "    .dataframe thead th {\n",
       "        text-align: right;\n",
       "    }\n",
       "</style>\n",
       "<table border=\"1\" class=\"dataframe\">\n",
       "  <thead>\n",
       "    <tr style=\"text-align: right;\">\n",
       "      <th></th>\n",
       "      <th>ori</th>\n",
       "      <th>glasses</th>\n",
       "      <th>masked</th>\n",
       "      <th>makeup</th>\n",
       "    </tr>\n",
       "  </thead>\n",
       "  <tbody>\n",
       "    <tr>\n",
       "      <th>0</th>\n",
       "      <td>85.40</td>\n",
       "      <td>70.26</td>\n",
       "      <td>66.7</td>\n",
       "      <td>76.1</td>\n",
       "    </tr>\n",
       "    <tr>\n",
       "      <th>1</th>\n",
       "      <td>86.77</td>\n",
       "      <td>51.37</td>\n",
       "      <td>78.2</td>\n",
       "      <td>94.2</td>\n",
       "    </tr>\n",
       "    <tr>\n",
       "      <th>2</th>\n",
       "      <td>84.03</td>\n",
       "      <td>89.15</td>\n",
       "      <td>55.2</td>\n",
       "      <td>58.0</td>\n",
       "    </tr>\n",
       "  </tbody>\n",
       "</table>\n",
       "</div>"
      ],
      "text/plain": [
       "     ori  glasses  masked  makeup\n",
       "0  85.40    70.26    66.7    76.1\n",
       "1  86.77    51.37    78.2    94.2\n",
       "2  84.03    89.15    55.2    58.0"
      ]
     },
     "execution_count": 83,
     "metadata": {},
     "output_type": "execute_result"
    }
   ],
   "source": [
    "all_dfs[0]"
   ]
  },
  {
   "cell_type": "code",
   "execution_count": 84,
   "id": "5f43b608-ce19-4fef-88cc-04e562748698",
   "metadata": {},
   "outputs": [
    {
     "data": {
      "text/html": [
       "<div>\n",
       "<style scoped>\n",
       "    .dataframe tbody tr th:only-of-type {\n",
       "        vertical-align: middle;\n",
       "    }\n",
       "\n",
       "    .dataframe tbody tr th {\n",
       "        vertical-align: top;\n",
       "    }\n",
       "\n",
       "    .dataframe thead th {\n",
       "        text-align: right;\n",
       "    }\n",
       "</style>\n",
       "<table border=\"1\" class=\"dataframe\">\n",
       "  <thead>\n",
       "    <tr style=\"text-align: right;\">\n",
       "      <th></th>\n",
       "      <th>ori</th>\n",
       "      <th>glasses</th>\n",
       "      <th>masked</th>\n",
       "      <th>makeup</th>\n",
       "    </tr>\n",
       "  </thead>\n",
       "  <tbody>\n",
       "    <tr>\n",
       "      <th>0</th>\n",
       "      <td>85.02</td>\n",
       "      <td>73.44</td>\n",
       "      <td>59.23</td>\n",
       "      <td>69.25</td>\n",
       "    </tr>\n",
       "    <tr>\n",
       "      <th>1</th>\n",
       "      <td>84.24</td>\n",
       "      <td>73.75</td>\n",
       "      <td>96.49</td>\n",
       "      <td>98.27</td>\n",
       "    </tr>\n",
       "    <tr>\n",
       "      <th>2</th>\n",
       "      <td>85.79</td>\n",
       "      <td>73.13</td>\n",
       "      <td>21.97</td>\n",
       "      <td>40.23</td>\n",
       "    </tr>\n",
       "  </tbody>\n",
       "</table>\n",
       "</div>"
      ],
      "text/plain": [
       "     ori  glasses  masked  makeup\n",
       "0  85.02    73.44   59.23   69.25\n",
       "1  84.24    73.75   96.49   98.27\n",
       "2  85.79    73.13   21.97   40.23"
      ]
     },
     "execution_count": 84,
     "metadata": {},
     "output_type": "execute_result"
    }
   ],
   "source": [
    "all_dfs[1]"
   ]
  },
  {
   "cell_type": "code",
   "execution_count": 85,
   "id": "b503f0f2-6edf-4b39-b120-97c06492e8c9",
   "metadata": {},
   "outputs": [
    {
     "data": {
      "text/html": [
       "<div>\n",
       "<style scoped>\n",
       "    .dataframe tbody tr th:only-of-type {\n",
       "        vertical-align: middle;\n",
       "    }\n",
       "\n",
       "    .dataframe tbody tr th {\n",
       "        vertical-align: top;\n",
       "    }\n",
       "\n",
       "    .dataframe thead th {\n",
       "        text-align: right;\n",
       "    }\n",
       "</style>\n",
       "<table border=\"1\" class=\"dataframe\">\n",
       "  <thead>\n",
       "    <tr style=\"text-align: right;\">\n",
       "      <th></th>\n",
       "      <th>ori</th>\n",
       "      <th>glasses</th>\n",
       "      <th>masked</th>\n",
       "      <th>makeup</th>\n",
       "    </tr>\n",
       "  </thead>\n",
       "  <tbody>\n",
       "    <tr>\n",
       "      <th>0</th>\n",
       "      <td>85.34</td>\n",
       "      <td>74.19</td>\n",
       "      <td>62.73</td>\n",
       "      <td>72.65</td>\n",
       "    </tr>\n",
       "    <tr>\n",
       "      <th>1</th>\n",
       "      <td>82.58</td>\n",
       "      <td>75.71</td>\n",
       "      <td>91.64</td>\n",
       "      <td>95.49</td>\n",
       "    </tr>\n",
       "    <tr>\n",
       "      <th>2</th>\n",
       "      <td>88.11</td>\n",
       "      <td>72.66</td>\n",
       "      <td>33.83</td>\n",
       "      <td>49.81</td>\n",
       "    </tr>\n",
       "  </tbody>\n",
       "</table>\n",
       "</div>"
      ],
      "text/plain": [
       "     ori  glasses  masked  makeup\n",
       "0  85.34    74.19   62.73   72.65\n",
       "1  82.58    75.71   91.64   95.49\n",
       "2  88.11    72.66   33.83   49.81"
      ]
     },
     "execution_count": 85,
     "metadata": {},
     "output_type": "execute_result"
    }
   ],
   "source": [
    "all_dfs[2]"
   ]
  },
  {
   "cell_type": "code",
   "execution_count": 86,
   "id": "03205bab-9bb4-4716-a96f-8acbf75fccc9",
   "metadata": {},
   "outputs": [
    {
     "data": {
      "text/html": [
       "<div>\n",
       "<style scoped>\n",
       "    .dataframe tbody tr th:only-of-type {\n",
       "        vertical-align: middle;\n",
       "    }\n",
       "\n",
       "    .dataframe tbody tr th {\n",
       "        vertical-align: top;\n",
       "    }\n",
       "\n",
       "    .dataframe thead th {\n",
       "        text-align: right;\n",
       "    }\n",
       "</style>\n",
       "<table border=\"1\" class=\"dataframe\">\n",
       "  <thead>\n",
       "    <tr style=\"text-align: right;\">\n",
       "      <th></th>\n",
       "      <th>ori</th>\n",
       "      <th>glasses</th>\n",
       "      <th>masked</th>\n",
       "      <th>makeup</th>\n",
       "    </tr>\n",
       "  </thead>\n",
       "  <tbody>\n",
       "    <tr>\n",
       "      <th>0</th>\n",
       "      <td>84.52</td>\n",
       "      <td>72.69</td>\n",
       "      <td>66.97</td>\n",
       "      <td>79.63</td>\n",
       "    </tr>\n",
       "    <tr>\n",
       "      <th>1</th>\n",
       "      <td>83.98</td>\n",
       "      <td>62.33</td>\n",
       "      <td>65.67</td>\n",
       "      <td>87.24</td>\n",
       "    </tr>\n",
       "    <tr>\n",
       "      <th>2</th>\n",
       "      <td>85.06</td>\n",
       "      <td>83.05</td>\n",
       "      <td>68.26</td>\n",
       "      <td>72.02</td>\n",
       "    </tr>\n",
       "  </tbody>\n",
       "</table>\n",
       "</div>"
      ],
      "text/plain": [
       "     ori  glasses  masked  makeup\n",
       "0  84.52    72.69   66.97   79.63\n",
       "1  83.98    62.33   65.67   87.24\n",
       "2  85.06    83.05   68.26   72.02"
      ]
     },
     "execution_count": 86,
     "metadata": {},
     "output_type": "execute_result"
    }
   ],
   "source": [
    "all_dfs[3]"
   ]
  }
 ],
 "metadata": {
  "kernelspec": {
   "display_name": "fyp",
   "language": "python",
   "name": "fyp"
  },
  "language_info": {
   "codemirror_mode": {
    "name": "ipython",
    "version": 3
   },
   "file_extension": ".py",
   "mimetype": "text/x-python",
   "name": "python",
   "nbconvert_exporter": "python",
   "pygments_lexer": "ipython3",
   "version": "3.6.13"
  }
 },
 "nbformat": 4,
 "nbformat_minor": 5
}
